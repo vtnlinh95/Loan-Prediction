{
 "cells": [
  {
   "cell_type": "markdown",
   "metadata": {},
   "source": [
    "# Loan Grade Prediction\n",
    "\n",
    "### Introduction\n",
    "\n",
    "LendingTree is an online lending exchange that connects consumers with multiple lenders, banks, and credit partners who compete for business. LendingTree is not a direct supplier of loans; it is instead a broker. We will be working with LendingTree’s data to explore one of the oldest prediction problems – predicting risk on consumer loans.\n",
    "\n",
    "This notebook is used to develop a statistical model for predicting the grade of a loan when a borrower submits a loan application.\n",
    "\n",
    "### Business Problem\n",
    "\n",
    "As a borrower, when submitting an loan application, you would wonder about your probability of being funded. LendingTree plays a role as broker to connect borrowers and lenders so LendingTree introduces a system so that it can measure the risk of a loan. In this project, we will try to imitate the LendingTree's system and give the borrowers their loan grade before submitting.\n",
    "\n",
    "### Explore the dataset\n",
    "\n",
    "First, we need to read the dataset"
   ]
  },
  {
   "cell_type": "code",
   "execution_count": 107,
   "metadata": {},
   "outputs": [],
   "source": [
    "import pandas as pd\n",
    "import seaborn as sb\n",
    "import matplotlib.pyplot as plt # this is used for the plot the graph \n",
    "import numpy as np\n",
    "%matplotlib inline"
   ]
  },
  {
   "cell_type": "code",
   "execution_count": 108,
   "metadata": {},
   "outputs": [],
   "source": [
    "original_data = pd.read_csv(\"loan_data.csv\", skiprows=1)\n",
    "full_data = original_data.copy()"
   ]
  },
  {
   "cell_type": "code",
   "execution_count": 109,
   "metadata": {},
   "outputs": [
    {
     "data": {
      "text/html": [
       "<div>\n",
       "<style scoped>\n",
       "    .dataframe tbody tr th:only-of-type {\n",
       "        vertical-align: middle;\n",
       "    }\n",
       "\n",
       "    .dataframe tbody tr th {\n",
       "        vertical-align: top;\n",
       "    }\n",
       "\n",
       "    .dataframe thead th {\n",
       "        text-align: right;\n",
       "    }\n",
       "</style>\n",
       "<table border=\"1\" class=\"dataframe\">\n",
       "  <thead>\n",
       "    <tr style=\"text-align: right;\">\n",
       "      <th></th>\n",
       "      <th>id</th>\n",
       "      <th>member_id</th>\n",
       "      <th>loan_amnt</th>\n",
       "      <th>funded_amnt</th>\n",
       "      <th>funded_amnt_inv</th>\n",
       "      <th>term</th>\n",
       "      <th>int_rate</th>\n",
       "      <th>installment</th>\n",
       "      <th>grade</th>\n",
       "      <th>sub_grade</th>\n",
       "      <th>...</th>\n",
       "      <th>hardship_payoff_balance_amount</th>\n",
       "      <th>hardship_last_payment_amount</th>\n",
       "      <th>disbursement_method</th>\n",
       "      <th>debt_settlement_flag</th>\n",
       "      <th>debt_settlement_flag_date</th>\n",
       "      <th>settlement_status</th>\n",
       "      <th>settlement_date</th>\n",
       "      <th>settlement_amount</th>\n",
       "      <th>settlement_percentage</th>\n",
       "      <th>settlement_term</th>\n",
       "    </tr>\n",
       "  </thead>\n",
       "  <tbody>\n",
       "    <tr>\n",
       "      <th>0</th>\n",
       "      <td>NaN</td>\n",
       "      <td>NaN</td>\n",
       "      <td>4600.0</td>\n",
       "      <td>4600.0</td>\n",
       "      <td>4600.0</td>\n",
       "      <td>36 months</td>\n",
       "      <td>11.39%</td>\n",
       "      <td>151.45</td>\n",
       "      <td>B</td>\n",
       "      <td>B3</td>\n",
       "      <td>...</td>\n",
       "      <td>NaN</td>\n",
       "      <td>NaN</td>\n",
       "      <td>Cash</td>\n",
       "      <td>N</td>\n",
       "      <td>NaN</td>\n",
       "      <td>NaN</td>\n",
       "      <td>NaN</td>\n",
       "      <td>NaN</td>\n",
       "      <td>NaN</td>\n",
       "      <td>NaN</td>\n",
       "    </tr>\n",
       "    <tr>\n",
       "      <th>1</th>\n",
       "      <td>NaN</td>\n",
       "      <td>NaN</td>\n",
       "      <td>15400.0</td>\n",
       "      <td>15400.0</td>\n",
       "      <td>15400.0</td>\n",
       "      <td>60 months</td>\n",
       "      <td>11.39%</td>\n",
       "      <td>337.84</td>\n",
       "      <td>B</td>\n",
       "      <td>B3</td>\n",
       "      <td>...</td>\n",
       "      <td>NaN</td>\n",
       "      <td>NaN</td>\n",
       "      <td>Cash</td>\n",
       "      <td>N</td>\n",
       "      <td>NaN</td>\n",
       "      <td>NaN</td>\n",
       "      <td>NaN</td>\n",
       "      <td>NaN</td>\n",
       "      <td>NaN</td>\n",
       "      <td>NaN</td>\n",
       "    </tr>\n",
       "    <tr>\n",
       "      <th>2</th>\n",
       "      <td>NaN</td>\n",
       "      <td>NaN</td>\n",
       "      <td>14000.0</td>\n",
       "      <td>14000.0</td>\n",
       "      <td>14000.0</td>\n",
       "      <td>36 months</td>\n",
       "      <td>15.99%</td>\n",
       "      <td>492.13</td>\n",
       "      <td>C</td>\n",
       "      <td>C5</td>\n",
       "      <td>...</td>\n",
       "      <td>NaN</td>\n",
       "      <td>NaN</td>\n",
       "      <td>Cash</td>\n",
       "      <td>N</td>\n",
       "      <td>NaN</td>\n",
       "      <td>NaN</td>\n",
       "      <td>NaN</td>\n",
       "      <td>NaN</td>\n",
       "      <td>NaN</td>\n",
       "      <td>NaN</td>\n",
       "    </tr>\n",
       "    <tr>\n",
       "      <th>3</th>\n",
       "      <td>NaN</td>\n",
       "      <td>NaN</td>\n",
       "      <td>5000.0</td>\n",
       "      <td>5000.0</td>\n",
       "      <td>5000.0</td>\n",
       "      <td>36 months</td>\n",
       "      <td>25.49%</td>\n",
       "      <td>200.10</td>\n",
       "      <td>E</td>\n",
       "      <td>E4</td>\n",
       "      <td>...</td>\n",
       "      <td>NaN</td>\n",
       "      <td>NaN</td>\n",
       "      <td>Cash</td>\n",
       "      <td>N</td>\n",
       "      <td>NaN</td>\n",
       "      <td>NaN</td>\n",
       "      <td>NaN</td>\n",
       "      <td>NaN</td>\n",
       "      <td>NaN</td>\n",
       "      <td>NaN</td>\n",
       "    </tr>\n",
       "    <tr>\n",
       "      <th>4</th>\n",
       "      <td>NaN</td>\n",
       "      <td>NaN</td>\n",
       "      <td>4700.0</td>\n",
       "      <td>4700.0</td>\n",
       "      <td>4700.0</td>\n",
       "      <td>36 months</td>\n",
       "      <td>15.99%</td>\n",
       "      <td>165.22</td>\n",
       "      <td>C</td>\n",
       "      <td>C5</td>\n",
       "      <td>...</td>\n",
       "      <td>NaN</td>\n",
       "      <td>NaN</td>\n",
       "      <td>Cash</td>\n",
       "      <td>N</td>\n",
       "      <td>NaN</td>\n",
       "      <td>NaN</td>\n",
       "      <td>NaN</td>\n",
       "      <td>NaN</td>\n",
       "      <td>NaN</td>\n",
       "      <td>NaN</td>\n",
       "    </tr>\n",
       "  </tbody>\n",
       "</table>\n",
       "<p>5 rows × 145 columns</p>\n",
       "</div>"
      ],
      "text/plain": [
       "    id  member_id  loan_amnt  funded_amnt  funded_amnt_inv        term  \\\n",
       "0  NaN        NaN     4600.0       4600.0           4600.0   36 months   \n",
       "1  NaN        NaN    15400.0      15400.0          15400.0   60 months   \n",
       "2  NaN        NaN    14000.0      14000.0          14000.0   36 months   \n",
       "3  NaN        NaN     5000.0       5000.0           5000.0   36 months   \n",
       "4  NaN        NaN     4700.0       4700.0           4700.0   36 months   \n",
       "\n",
       "  int_rate  installment grade sub_grade       ...         \\\n",
       "0   11.39%       151.45     B        B3       ...          \n",
       "1   11.39%       337.84     B        B3       ...          \n",
       "2   15.99%       492.13     C        C5       ...          \n",
       "3   25.49%       200.10     E        E4       ...          \n",
       "4   15.99%       165.22     C        C5       ...          \n",
       "\n",
       "  hardship_payoff_balance_amount hardship_last_payment_amount  \\\n",
       "0                            NaN                          NaN   \n",
       "1                            NaN                          NaN   \n",
       "2                            NaN                          NaN   \n",
       "3                            NaN                          NaN   \n",
       "4                            NaN                          NaN   \n",
       "\n",
       "  disbursement_method  debt_settlement_flag debt_settlement_flag_date  \\\n",
       "0                Cash                     N                       NaN   \n",
       "1                Cash                     N                       NaN   \n",
       "2                Cash                     N                       NaN   \n",
       "3                Cash                     N                       NaN   \n",
       "4                Cash                     N                       NaN   \n",
       "\n",
       "  settlement_status settlement_date settlement_amount  settlement_percentage  \\\n",
       "0               NaN             NaN               NaN                    NaN   \n",
       "1               NaN             NaN               NaN                    NaN   \n",
       "2               NaN             NaN               NaN                    NaN   \n",
       "3               NaN             NaN               NaN                    NaN   \n",
       "4               NaN             NaN               NaN                    NaN   \n",
       "\n",
       "   settlement_term  \n",
       "0              NaN  \n",
       "1              NaN  \n",
       "2              NaN  \n",
       "3              NaN  \n",
       "4              NaN  \n",
       "\n",
       "[5 rows x 145 columns]"
      ]
     },
     "execution_count": 109,
     "metadata": {},
     "output_type": "execute_result"
    }
   ],
   "source": [
    "full_data.head(5)"
   ]
  },
  {
   "cell_type": "markdown",
   "metadata": {},
   "source": [
    "Then, let's see what kind of data we have in the dataset by list out all of the columns in the dataset"
   ]
  },
  {
   "cell_type": "code",
   "execution_count": 110,
   "metadata": {},
   "outputs": [
    {
     "name": "stdout",
     "output_type": "stream",
     "text": [
      "Columns size: 145\n"
     ]
    },
    {
     "data": {
      "text/plain": [
       "['id',\n",
       " 'member_id',\n",
       " 'loan_amnt',\n",
       " 'funded_amnt',\n",
       " 'funded_amnt_inv',\n",
       " 'term',\n",
       " 'int_rate',\n",
       " 'installment',\n",
       " 'grade',\n",
       " 'sub_grade',\n",
       " 'emp_title',\n",
       " 'emp_length',\n",
       " 'home_ownership',\n",
       " 'annual_inc',\n",
       " 'verification_status',\n",
       " 'issue_d',\n",
       " 'loan_status',\n",
       " 'pymnt_plan',\n",
       " 'url',\n",
       " 'desc',\n",
       " 'purpose',\n",
       " 'title',\n",
       " 'zip_code',\n",
       " 'addr_state',\n",
       " 'dti',\n",
       " 'delinq_2yrs',\n",
       " 'earliest_cr_line',\n",
       " 'inq_last_6mths',\n",
       " 'mths_since_last_delinq',\n",
       " 'mths_since_last_record',\n",
       " 'open_acc',\n",
       " 'pub_rec',\n",
       " 'revol_bal',\n",
       " 'revol_util',\n",
       " 'total_acc',\n",
       " 'initial_list_status',\n",
       " 'out_prncp',\n",
       " 'out_prncp_inv',\n",
       " 'total_pymnt',\n",
       " 'total_pymnt_inv',\n",
       " 'total_rec_prncp',\n",
       " 'total_rec_int',\n",
       " 'total_rec_late_fee',\n",
       " 'recoveries',\n",
       " 'collection_recovery_fee',\n",
       " 'last_pymnt_d',\n",
       " 'last_pymnt_amnt',\n",
       " 'next_pymnt_d',\n",
       " 'last_credit_pull_d',\n",
       " 'collections_12_mths_ex_med',\n",
       " 'mths_since_last_major_derog',\n",
       " 'policy_code',\n",
       " 'application_type',\n",
       " 'annual_inc_joint',\n",
       " 'dti_joint',\n",
       " 'verification_status_joint',\n",
       " 'acc_now_delinq',\n",
       " 'tot_coll_amt',\n",
       " 'tot_cur_bal',\n",
       " 'open_acc_6m',\n",
       " 'open_act_il',\n",
       " 'open_il_12m',\n",
       " 'open_il_24m',\n",
       " 'mths_since_rcnt_il',\n",
       " 'total_bal_il',\n",
       " 'il_util',\n",
       " 'open_rv_12m',\n",
       " 'open_rv_24m',\n",
       " 'max_bal_bc',\n",
       " 'all_util',\n",
       " 'total_rev_hi_lim',\n",
       " 'inq_fi',\n",
       " 'total_cu_tl',\n",
       " 'inq_last_12m',\n",
       " 'acc_open_past_24mths',\n",
       " 'avg_cur_bal',\n",
       " 'bc_open_to_buy',\n",
       " 'bc_util',\n",
       " 'chargeoff_within_12_mths',\n",
       " 'delinq_amnt',\n",
       " 'mo_sin_old_il_acct',\n",
       " 'mo_sin_old_rev_tl_op',\n",
       " 'mo_sin_rcnt_rev_tl_op',\n",
       " 'mo_sin_rcnt_tl',\n",
       " 'mort_acc',\n",
       " 'mths_since_recent_bc',\n",
       " 'mths_since_recent_bc_dlq',\n",
       " 'mths_since_recent_inq',\n",
       " 'mths_since_recent_revol_delinq',\n",
       " 'num_accts_ever_120_pd',\n",
       " 'num_actv_bc_tl',\n",
       " 'num_actv_rev_tl',\n",
       " 'num_bc_sats',\n",
       " 'num_bc_tl',\n",
       " 'num_il_tl',\n",
       " 'num_op_rev_tl',\n",
       " 'num_rev_accts',\n",
       " 'num_rev_tl_bal_gt_0',\n",
       " 'num_sats',\n",
       " 'num_tl_120dpd_2m',\n",
       " 'num_tl_30dpd',\n",
       " 'num_tl_90g_dpd_24m',\n",
       " 'num_tl_op_past_12m',\n",
       " 'pct_tl_nvr_dlq',\n",
       " 'percent_bc_gt_75',\n",
       " 'pub_rec_bankruptcies',\n",
       " 'tax_liens',\n",
       " 'tot_hi_cred_lim',\n",
       " 'total_bal_ex_mort',\n",
       " 'total_bc_limit',\n",
       " 'total_il_high_credit_limit',\n",
       " 'revol_bal_joint',\n",
       " 'sec_app_earliest_cr_line',\n",
       " 'sec_app_inq_last_6mths',\n",
       " 'sec_app_mort_acc',\n",
       " 'sec_app_open_acc',\n",
       " 'sec_app_revol_util',\n",
       " 'sec_app_open_act_il',\n",
       " 'sec_app_num_rev_accts',\n",
       " 'sec_app_chargeoff_within_12_mths',\n",
       " 'sec_app_collections_12_mths_ex_med',\n",
       " 'sec_app_mths_since_last_major_derog',\n",
       " 'hardship_flag',\n",
       " 'hardship_type',\n",
       " 'hardship_reason',\n",
       " 'hardship_status',\n",
       " 'deferral_term',\n",
       " 'hardship_amount',\n",
       " 'hardship_start_date',\n",
       " 'hardship_end_date',\n",
       " 'payment_plan_start_date',\n",
       " 'hardship_length',\n",
       " 'hardship_dpd',\n",
       " 'hardship_loan_status',\n",
       " 'orig_projected_additional_accrued_interest',\n",
       " 'hardship_payoff_balance_amount',\n",
       " 'hardship_last_payment_amount',\n",
       " 'disbursement_method',\n",
       " 'debt_settlement_flag',\n",
       " 'debt_settlement_flag_date',\n",
       " 'settlement_status',\n",
       " 'settlement_date',\n",
       " 'settlement_amount',\n",
       " 'settlement_percentage',\n",
       " 'settlement_term']"
      ]
     },
     "execution_count": 110,
     "metadata": {},
     "output_type": "execute_result"
    }
   ],
   "source": [
    "columns = list(full_data.columns.values)\n",
    "print \"Columns size:\", len(columns)\n",
    "columns"
   ]
  },
  {
   "cell_type": "markdown",
   "metadata": {},
   "source": [
    "### Know the dataset\n",
    "\n",
    "In this section, we would do some visualization so that we can get to know how our dataset is. In all of these columns, the outcome (what we want to predict) is the column called **grade**. It is the **Loan grade**. Based on each loan application and credit report, every loan is assigned a grade ranging from A1 to E5. "
   ]
  },
  {
   "cell_type": "markdown",
   "metadata": {},
   "source": [
    "Let's see the amount of each grade in our data."
   ]
  },
  {
   "cell_type": "code",
   "execution_count": 111,
   "metadata": {},
   "outputs": [
    {
     "data": {
      "image/png": "[encoded data removed]",
      "text/plain": [
       "<Figure size 432x288 with 1 Axes>"
      ]
     },
     "metadata": {},
     "output_type": "display_data"
    }
   ],
   "source": [
    "sb.set(style=\"darkgrid\")\n",
    "ax = sb.countplot(x=\"grade\", data=full_data)"
   ]
  },
  {
   "cell_type": "markdown",
   "metadata": {},
   "source": [
    "We could see that the amount of **G** and **F** are too small, the question is whether we should put these data to our model or not."
   ]
  },
  {
   "cell_type": "markdown",
   "metadata": {},
   "source": [
    "For this kind of data, when you have a lot of columns, we need intuition to get some core features out of the long list of columns. Because we predict for model, the **loan amount**, **loan term**, **annual income of borrower**, **application type**, **loan purpose** are the things we should consider first."
   ]
  },
  {
   "cell_type": "markdown",
   "metadata": {},
   "source": [
    "#### Loan Amount"
   ]
  },
  {
   "cell_type": "code",
   "execution_count": 112,
   "metadata": {},
   "outputs": [
    {
     "data": {
      "image/png": "[encoded data removed]",
      "text/plain": [
       "<Figure size 432x288 with 1 Axes>"
      ]
     },
     "metadata": {},
     "output_type": "display_data"
    }
   ],
   "source": [
    "plt.subplot(122)\n",
    "g1 = sb.violinplot(y=\"loan_amnt\", data=full_data, \n",
    "               inner=\"quartile\", palette=\"hls\")\n",
    "g1.set_xlabel(\"\", fontsize=12)\n",
    "g1.set_ylabel(\"Amount Dist\", fontsize=12)\n",
    "g1.set_title(\"Amount Distribuition\", fontsize=20)\n",
    "\n",
    "plt.show()"
   ]
  },
  {
   "cell_type": "markdown",
   "metadata": {},
   "source": [
    "There are many loans in the dataset having the loan amount in range between 5000 to 20000. Let's see how the loan amount relating to the grade."
   ]
  },
  {
   "cell_type": "code",
   "execution_count": 113,
   "metadata": {},
   "outputs": [
    {
     "data": {
      "text/html": [
       "<style  type=\"text/css\" >\n",
       "    #T_72378911_c099_11e8_8267_4c32758e470drow0_col0 {\n",
       "            background-color:  #77c277;\n",
       "        }    #T_72378911_c099_11e8_8267_4c32758e470drow0_col1 {\n",
       "            background-color:  #8cce8c;\n",
       "        }    #T_72378911_c099_11e8_8267_4c32758e470drow0_col2 {\n",
       "            background-color:  #9ed89e;\n",
       "        }    #T_72378911_c099_11e8_8267_4c32758e470drow0_col3 {\n",
       "            background-color:  #9ad59a;\n",
       "        }    #T_72378911_c099_11e8_8267_4c32758e470drow0_col4 {\n",
       "            background-color:  #249424;\n",
       "        }    #T_72378911_c099_11e8_8267_4c32758e470drow1_col0 {\n",
       "            background-color:  #008000;\n",
       "        }    #T_72378911_c099_11e8_8267_4c32758e470drow1_col1 {\n",
       "            background-color:  #389f38;\n",
       "        }    #T_72378911_c099_11e8_8267_4c32758e470drow1_col2 {\n",
       "            background-color:  #62b662;\n",
       "        }    #T_72378911_c099_11e8_8267_4c32758e470drow1_col3 {\n",
       "            background-color:  #5eb45e;\n",
       "        }    #T_72378911_c099_11e8_8267_4c32758e470drow1_col4 {\n",
       "            background-color:  #008000;\n",
       "        }    #T_72378911_c099_11e8_8267_4c32758e470drow2_col0 {\n",
       "            background-color:  #2c982c;\n",
       "        }    #T_72378911_c099_11e8_8267_4c32758e470drow2_col1 {\n",
       "            background-color:  #008000;\n",
       "        }    #T_72378911_c099_11e8_8267_4c32758e470drow2_col2 {\n",
       "            background-color:  #008000;\n",
       "        }    #T_72378911_c099_11e8_8267_4c32758e470drow2_col3 {\n",
       "            background-color:  #008000;\n",
       "        }    #T_72378911_c099_11e8_8267_4c32758e470drow2_col4 {\n",
       "            background-color:  #0f880f;\n",
       "        }    #T_72378911_c099_11e8_8267_4c32758e470drow3_col0 {\n",
       "            background-color:  #a9dea9;\n",
       "        }    #T_72378911_c099_11e8_8267_4c32758e470drow3_col1 {\n",
       "            background-color:  #94d294;\n",
       "        }    #T_72378911_c099_11e8_8267_4c32758e470drow3_col2 {\n",
       "            background-color:  #96d396;\n",
       "        }    #T_72378911_c099_11e8_8267_4c32758e470drow3_col3 {\n",
       "            background-color:  #8acc8a;\n",
       "        }    #T_72378911_c099_11e8_8267_4c32758e470drow3_col4 {\n",
       "            background-color:  #b6e5b6;\n",
       "        }    #T_72378911_c099_11e8_8267_4c32758e470drow4_col0 {\n",
       "            background-color:  #d3f5d3;\n",
       "        }    #T_72378911_c099_11e8_8267_4c32758e470drow4_col1 {\n",
       "            background-color:  #c7eec7;\n",
       "        }    #T_72378911_c099_11e8_8267_4c32758e470drow4_col2 {\n",
       "            background-color:  #bde9bd;\n",
       "        }    #T_72378911_c099_11e8_8267_4c32758e470drow4_col3 {\n",
       "            background-color:  #c0eac0;\n",
       "        }    #T_72378911_c099_11e8_8267_4c32758e470drow4_col4 {\n",
       "            background-color:  #d5f6d5;\n",
       "        }    #T_72378911_c099_11e8_8267_4c32758e470drow5_col0 {\n",
       "            background-color:  #e3fee3;\n",
       "        }    #T_72378911_c099_11e8_8267_4c32758e470drow5_col1 {\n",
       "            background-color:  #dcfadc;\n",
       "        }    #T_72378911_c099_11e8_8267_4c32758e470drow5_col2 {\n",
       "            background-color:  #dbf9db;\n",
       "        }    #T_72378911_c099_11e8_8267_4c32758e470drow5_col3 {\n",
       "            background-color:  #dbf9db;\n",
       "        }    #T_72378911_c099_11e8_8267_4c32758e470drow5_col4 {\n",
       "            background-color:  #e4fee4;\n",
       "        }    #T_72378911_c099_11e8_8267_4c32758e470drow6_col0 {\n",
       "            background-color:  #e5ffe5;\n",
       "        }    #T_72378911_c099_11e8_8267_4c32758e470drow6_col1 {\n",
       "            background-color:  #e5ffe5;\n",
       "        }    #T_72378911_c099_11e8_8267_4c32758e470drow6_col2 {\n",
       "            background-color:  #e5ffe5;\n",
       "        }    #T_72378911_c099_11e8_8267_4c32758e470drow6_col3 {\n",
       "            background-color:  #e5ffe5;\n",
       "        }    #T_72378911_c099_11e8_8267_4c32758e470drow6_col4 {\n",
       "            background-color:  #e5ffe5;\n",
       "        }</style>  \n",
       "<table id=\"T_72378911_c099_11e8_8267_4c32758e470d\" > \n",
       "<thead>    <tr> \n",
       "        <th class=\"index_name level0\" >loan_amnt_range</th> \n",
       "        <th class=\"col_heading level0 col0\" >0.0</th> \n",
       "        <th class=\"col_heading level0 col1\" >1.0</th> \n",
       "        <th class=\"col_heading level0 col2\" >2.0</th> \n",
       "        <th class=\"col_heading level0 col3\" >3.0</th> \n",
       "        <th class=\"col_heading level0 col4\" >4.0</th> \n",
       "    </tr>    <tr> \n",
       "        <th class=\"index_name level0\" >grade</th> \n",
       "        <th class=\"blank\" ></th> \n",
       "        <th class=\"blank\" ></th> \n",
       "        <th class=\"blank\" ></th> \n",
       "        <th class=\"blank\" ></th> \n",
       "        <th class=\"blank\" ></th> \n",
       "    </tr></thead> \n",
       "<tbody>    <tr> \n",
       "        <th id=\"T_72378911_c099_11e8_8267_4c32758e470dlevel0_row0\" class=\"row_heading level0 row0\" >A</th> \n",
       "        <td id=\"T_72378911_c099_11e8_8267_4c32758e470drow0_col0\" class=\"data row0 col0\" >5907</td> \n",
       "        <td id=\"T_72378911_c099_11e8_8267_4c32758e470drow0_col1\" class=\"data row0 col1\" >5331</td> \n",
       "        <td id=\"T_72378911_c099_11e8_8267_4c32758e470drow0_col2\" class=\"data row0 col2\" >2124</td> \n",
       "        <td id=\"T_72378911_c099_11e8_8267_4c32758e470drow0_col3\" class=\"data row0 col3\" >1236</td> \n",
       "        <td id=\"T_72378911_c099_11e8_8267_4c32758e470drow0_col4\" class=\"data row0 col4\" >378</td> \n",
       "    </tr>    <tr> \n",
       "        <th id=\"T_72378911_c099_11e8_8267_4c32758e470dlevel0_row1\" class=\"row_heading level0 row1\" >B</th> \n",
       "        <td id=\"T_72378911_c099_11e8_8267_4c32758e470drow1_col0\" class=\"data row1 col0\" >12243</td> \n",
       "        <td id=\"T_72378911_c099_11e8_8267_4c32758e470drow1_col1\" class=\"data row1 col1\" >10142</td> \n",
       "        <td id=\"T_72378911_c099_11e8_8267_4c32758e470drow1_col2\" class=\"data row1 col2\" >3812</td> \n",
       "        <td id=\"T_72378911_c099_11e8_8267_4c32758e470drow1_col3\" class=\"data row1 col3\" >2131</td> \n",
       "        <td id=\"T_72378911_c099_11e8_8267_4c32758e470drow1_col4\" class=\"data row1 col4\" >448</td> \n",
       "    </tr>    <tr> \n",
       "        <th id=\"T_72378911_c099_11e8_8267_4c32758e470dlevel0_row2\" class=\"row_heading level0 row2\" >C</th> \n",
       "        <td id=\"T_72378911_c099_11e8_8267_4c32758e470drow2_col0\" class=\"data row2 col0\" >9873</td> \n",
       "        <td id=\"T_72378911_c099_11e8_8267_4c32758e470drow2_col1\" class=\"data row2 col1\" >13350</td> \n",
       "        <td id=\"T_72378911_c099_11e8_8267_4c32758e470drow2_col2\" class=\"data row2 col2\" >6530</td> \n",
       "        <td id=\"T_72378911_c099_11e8_8267_4c32758e470drow2_col3\" class=\"data row2 col3\" >3529</td> \n",
       "        <td id=\"T_72378911_c099_11e8_8267_4c32758e470drow2_col4\" class=\"data row2 col4\" >417</td> \n",
       "    </tr>    <tr> \n",
       "        <th id=\"T_72378911_c099_11e8_8267_4c32758e470dlevel0_row3\" class=\"row_heading level0 row3\" >D</th> \n",
       "        <td id=\"T_72378911_c099_11e8_8267_4c32758e470drow3_col0\" class=\"data row3 col0\" >3243</td> \n",
       "        <td id=\"T_72378911_c099_11e8_8267_4c32758e470drow3_col1\" class=\"data row3 col1\" >4860</td> \n",
       "        <td id=\"T_72378911_c099_11e8_8267_4c32758e470drow3_col2\" class=\"data row3 col2\" >2354</td> \n",
       "        <td id=\"T_72378911_c099_11e8_8267_4c32758e470drow3_col3\" class=\"data row3 col3\" >1476</td> \n",
       "        <td id=\"T_72378911_c099_11e8_8267_4c32758e470drow3_col4\" class=\"data row3 col4\" >96</td> \n",
       "    </tr>    <tr> \n",
       "        <th id=\"T_72378911_c099_11e8_8267_4c32758e470dlevel0_row4\" class=\"row_heading level0 row4\" >E</th> \n",
       "        <td id=\"T_72378911_c099_11e8_8267_4c32758e470drow4_col0\" class=\"data row4 col0\" >1072</td> \n",
       "        <td id=\"T_72378911_c099_11e8_8267_4c32758e470drow4_col1\" class=\"data row4 col1\" >2004</td> \n",
       "        <td id=\"T_72378911_c099_11e8_8267_4c32758e470drow4_col2\" class=\"data row4 col2\" >1280</td> \n",
       "        <td id=\"T_72378911_c099_11e8_8267_4c32758e470drow4_col3\" class=\"data row4 col3\" >665</td> \n",
       "        <td id=\"T_72378911_c099_11e8_8267_4c32758e470drow4_col4\" class=\"data row4 col4\" >35</td> \n",
       "    </tr>    <tr> \n",
       "        <th id=\"T_72378911_c099_11e8_8267_4c32758e470dlevel0_row5\" class=\"row_heading level0 row5\" >F</th> \n",
       "        <td id=\"T_72378911_c099_11e8_8267_4c32758e470drow5_col0\" class=\"data row5 col0\" >196</td> \n",
       "        <td id=\"T_72378911_c099_11e8_8267_4c32758e470drow5_col1\" class=\"data row5 col1\" >810</td> \n",
       "        <td id=\"T_72378911_c099_11e8_8267_4c32758e470drow5_col2\" class=\"data row5 col2\" >462</td> \n",
       "        <td id=\"T_72378911_c099_11e8_8267_4c32758e470drow5_col3\" class=\"data row5 col3\" >261</td> \n",
       "        <td id=\"T_72378911_c099_11e8_8267_4c32758e470drow5_col4\" class=\"data row5 col4\" >6</td> \n",
       "    </tr>    <tr> \n",
       "        <th id=\"T_72378911_c099_11e8_8267_4c32758e470dlevel0_row6\" class=\"row_heading level0 row6\" >G</th> \n",
       "        <td id=\"T_72378911_c099_11e8_8267_4c32758e470drow6_col0\" class=\"data row6 col0\" >29</td> \n",
       "        <td id=\"T_72378911_c099_11e8_8267_4c32758e470drow6_col1\" class=\"data row6 col1\" >229</td> \n",
       "        <td id=\"T_72378911_c099_11e8_8267_4c32758e470drow6_col2\" class=\"data row6 col2\" >151</td> \n",
       "        <td id=\"T_72378911_c099_11e8_8267_4c32758e470drow6_col3\" class=\"data row6 col3\" >97</td> \n",
       "        <td id=\"T_72378911_c099_11e8_8267_4c32758e470drow6_col4\" class=\"data row6 col4\" >2</td> \n",
       "    </tr></tbody> \n",
       "</table> "
      ],
      "text/plain": [
       "<pandas.io.formats.style.Styler at 0x1a1ba66750>"
      ]
     },
     "execution_count": 113,
     "metadata": {},
     "output_type": "execute_result"
    }
   ],
   "source": [
    "import operator\n",
    "full_data.loc[operator.__and__(1000.0 <= full_data.loan_amnt, full_data.loan_amnt < 10000.0), 'loan_amnt_range'] = 0\n",
    "full_data.loc[operator.__and__(10000.0 <= full_data.loan_amnt, full_data.loan_amnt < 20000.0), 'loan_amnt_range'] = 1\n",
    "full_data.loc[operator.__and__(20000.0 <= full_data.loan_amnt, full_data.loan_amnt < 30000.0), 'loan_amnt_range'] = 2\n",
    "full_data.loc[operator.__and__(30000.0 <= full_data.loan_amnt, full_data.loan_amnt < 40000.0), 'loan_amnt_range'] = 3\n",
    "full_data.loc[40000.0 <= full_data.loan_amnt, 'loan_amnt_range'] = 4\n",
    "cm = sb.light_palette(\"green\", as_cmap=True)\n",
    "pd.crosstab(full_data['grade'], full_data['loan_amnt_range']).style.background_gradient(cmap = cm)"
   ]
  },
  {
   "cell_type": "markdown",
   "metadata": {},
   "source": [
    "#### Debt-to-Income (DTI)"
   ]
  },
  {
   "cell_type": "markdown",
   "metadata": {},
   "source": [
    "Many lenders claim that DTI is considered as one of the important factors to decide whether they should fund a loan or not. So we start to see some data about DTI. DTI is calculated basing on the borrower's debt and the borrower's income."
   ]
  },
  {
   "cell_type": "code",
   "execution_count": 114,
   "metadata": {},
   "outputs": [
    {
     "data": {
      "text/plain": [
       "<matplotlib.axes._subplots.AxesSubplot at 0x1a1ba4af10>"
      ]
     },
     "execution_count": 114,
     "metadata": {},
     "output_type": "execute_result"
    },
    {
     "data": {
      "image/png": "[encoded data removed]",
      "text/plain": [
       "<Figure size 432x288 with 1 Axes>"
      ]
     },
     "metadata": {},
     "output_type": "display_data"
    }
   ],
   "source": [
    "sb.pointplot(x=\"grade\", y=\"dti\", data=full_data)"
   ]
  },
  {
   "cell_type": "markdown",
   "metadata": {},
   "source": [
    "The DTI indicates the chance your loan can be processed. The lower the DTI is, the higher the chance your loan can be funded. It is clearly seen that the _grade A_ loans have the lowest DTI. Therefore, we choose DTI as one of our core feature."
   ]
  },
  {
   "cell_type": "markdown",
   "metadata": {},
   "source": [
    "### Application Type"
   ]
  },
  {
   "cell_type": "code",
   "execution_count": 115,
   "metadata": {},
   "outputs": [
    {
     "data": {
      "text/plain": [
       "Text(0,0.5,'Loan Amount')"
      ]
     },
     "execution_count": 115,
     "metadata": {},
     "output_type": "execute_result"
    },
    {
     "data": {
      "image/png": "[encoded data removed]",
      "text/plain": [
       "<Figure size 864x1008 with 1 Axes>"
      ]
     },
     "metadata": {},
     "output_type": "display_data"
    }
   ],
   "source": [
    "plt.figure(figsize = (12,14))\n",
    "#The amount and int rate x application_type \n",
    "plt.subplot(211)\n",
    "g = sb.violinplot(x=\"application_type\", y=\"loan_amnt\",data=full_data, \n",
    "            palette=\"hls\")\n",
    "g.set_title(\"Application Type - Loan Amount\", fontsize=20)\n",
    "g.set_xlabel(\"\", fontsize=15)\n",
    "g.set_ylabel(\"Loan Amount\", fontsize=15)"
   ]
  },
  {
   "cell_type": "markdown",
   "metadata": {},
   "source": [
    "Based on **application type**, a borrower can increase or decrease the loan amount. When **loan amount** is changed, the **grade** of loan is also changed. Therefore, **application type** is also considered as a good feature."
   ]
  },
  {
   "cell_type": "markdown",
   "metadata": {},
   "source": [
    "Now we get to know the dataset, next step is cleaning up the data and analysing the data."
   ]
  },
  {
   "cell_type": "markdown",
   "metadata": {},
   "source": [
    "### Clean up and Analyze the Data"
   ]
  },
  {
   "cell_type": "markdown",
   "metadata": {},
   "source": [
    "In this problem, we would not consider the **sub grade** so we will drop all the data relating to **sub grade**."
   ]
  },
  {
   "cell_type": "code",
   "execution_count": 116,
   "metadata": {},
   "outputs": [
    {
     "data": {
      "text/html": [
       "<div>\n",
       "<style scoped>\n",
       "    .dataframe tbody tr th:only-of-type {\n",
       "        vertical-align: middle;\n",
       "    }\n",
       "\n",
       "    .dataframe tbody tr th {\n",
       "        vertical-align: top;\n",
       "    }\n",
       "\n",
       "    .dataframe thead th {\n",
       "        text-align: right;\n",
       "    }\n",
       "</style>\n",
       "<table border=\"1\" class=\"dataframe\">\n",
       "  <thead>\n",
       "    <tr style=\"text-align: right;\">\n",
       "      <th></th>\n",
       "      <th>grade</th>\n",
       "    </tr>\n",
       "  </thead>\n",
       "  <tbody>\n",
       "    <tr>\n",
       "      <th>0</th>\n",
       "      <td>B</td>\n",
       "    </tr>\n",
       "    <tr>\n",
       "      <th>1</th>\n",
       "      <td>B</td>\n",
       "    </tr>\n",
       "    <tr>\n",
       "      <th>2</th>\n",
       "      <td>C</td>\n",
       "    </tr>\n",
       "    <tr>\n",
       "      <th>3</th>\n",
       "      <td>E</td>\n",
       "    </tr>\n",
       "    <tr>\n",
       "      <th>4</th>\n",
       "      <td>C</td>\n",
       "    </tr>\n",
       "  </tbody>\n",
       "</table>\n",
       "</div>"
      ],
      "text/plain": [
       "  grade\n",
       "0     B\n",
       "1     B\n",
       "2     C\n",
       "3     E\n",
       "4     C"
      ]
     },
     "execution_count": 116,
     "metadata": {},
     "output_type": "execute_result"
    }
   ],
   "source": [
    "full_data.drop(['sub_grade'], axis=1, inplace=True)\n",
    "outcome = full_data[['grade']]\n",
    "outcome.head(5)"
   ]
  },
  {
   "cell_type": "markdown",
   "metadata": {},
   "source": [
    "Let's see how many grade we have to evaluate"
   ]
  },
  {
   "cell_type": "code",
   "execution_count": 117,
   "metadata": {},
   "outputs": [
    {
     "data": {
      "text/plain": [
       "array(['B', 'C', 'E', 'A', 'D', 'G', 'F', nan], dtype=object)"
      ]
     },
     "execution_count": 117,
     "metadata": {},
     "output_type": "execute_result"
    }
   ],
   "source": [
    "outcome['grade'].unique()"
   ]
  },
  {
   "cell_type": "markdown",
   "metadata": {},
   "source": [
    "There are two things we need to do with the outcome dataset:\n",
    "* We have _nan_ value in our dataset, so we will drop all the row having the _nan_ value.\n",
    "* We need to transform all the outcome data into number so the model can understand it."
   ]
  },
  {
   "cell_type": "code",
   "execution_count": 118,
   "metadata": {},
   "outputs": [
    {
     "data": {
      "text/plain": [
       "0    6\n",
       "1    6\n",
       "2    5\n",
       "3    3\n",
       "4    5\n",
       "Name: grade, dtype: int64"
      ]
     },
     "execution_count": 118,
     "metadata": {},
     "output_type": "execute_result"
    }
   ],
   "source": [
    "full_data = full_data[pd.notnull(full_data['grade'])]\n",
    "map_grade = {\"A\":7,\"B\":6,\"C\":5,\"D\":4,\"E\":3,\"F\":2, 'G': 1}\n",
    "full_data[\"grade\"] = full_data[\"grade\"].map(map_grade)\n",
    "full_data['grade'].head(5)"
   ]
  },
  {
   "cell_type": "markdown",
   "metadata": {},
   "source": [
    "As we can see, now all the data relating to **grade** are transformed to number only. We have finished correct the outcome dataset."
   ]
  },
  {
   "cell_type": "markdown",
   "metadata": {},
   "source": [
    "#### Clean up the dataset"
   ]
  },
  {
   "cell_type": "markdown",
   "metadata": {},
   "source": [
    "We remove all the data indicating id because it is unique for every row. The column **url** and **desc** are empty for all rows, we should remove them too. Moreover, all the information that a borrower can not give out by himself/herself should be remove because the model is built to help the borrowers evaluate their ability for a loan."
   ]
  },
  {
   "cell_type": "code",
   "execution_count": 119,
   "metadata": {},
   "outputs": [],
   "source": [
    "full_data.drop(['id', 'member_id', 'url', 'desc', 'verification_status', 'issue_d', 'loan_status', 'pymnt_plan',\n",
    "               'title', 'earliest_cr_line', 'inq_last_6mths', 'mths_since_last_record',\n",
    "               'open_acc', 'pub_rec', 'total_acc', 'initial_list_status', 'recoveries', 'collection_recovery_fee',\n",
    "               'collections_12_mths_ex_med', 'mths_since_last_major_derog', 'policy_code',\n",
    "               'pct_tl_nvr_dlq', 'percent_bc_gt_75', 'revol_bal_joint', 'payment_plan_start_date',\n",
    "               'debt_settlement_flag_date', 'settlement_date','verification_status_joint'], axis=1, inplace=True)"
   ]
  },
  {
   "cell_type": "markdown",
   "metadata": {},
   "source": [
    "All the information relates to the loan after being funded is not considered too."
   ]
  },
  {
   "cell_type": "code",
   "execution_count": 120,
   "metadata": {},
   "outputs": [],
   "source": [
    "full_data.drop(['funded_amnt_inv', 'funded_amnt', 'out_prncp', \n",
    "               'out_prncp_inv', 'total_pymnt', 'total_pymnt_inv', 'total_rec_prncp',\n",
    "               'total_rec_int', 'total_rec_late_fee', 'last_pymnt_amnt', 'last_pymnt_d', 'next_pymnt_d',\n",
    "               'last_credit_pull_d'], axis=1, inplace=True)"
   ]
  },
  {
   "cell_type": "markdown",
   "metadata": {},
   "source": [
    "After cleaning up uncessary, let's see how many columns we have in the dataset."
   ]
  },
  {
   "cell_type": "code",
   "execution_count": 121,
   "metadata": {},
   "outputs": [
    {
     "name": "stdout",
     "output_type": "stream",
     "text": [
      "Columns size: 104\n"
     ]
    },
    {
     "data": {
      "text/plain": [
       "['loan_amnt',\n",
       " 'term',\n",
       " 'int_rate',\n",
       " 'installment',\n",
       " 'grade',\n",
       " 'emp_title',\n",
       " 'emp_length',\n",
       " 'home_ownership',\n",
       " 'annual_inc',\n",
       " 'purpose',\n",
       " 'zip_code',\n",
       " 'addr_state',\n",
       " 'dti',\n",
       " 'delinq_2yrs',\n",
       " 'mths_since_last_delinq',\n",
       " 'revol_bal',\n",
       " 'revol_util',\n",
       " 'application_type',\n",
       " 'annual_inc_joint',\n",
       " 'dti_joint',\n",
       " 'acc_now_delinq',\n",
       " 'tot_coll_amt',\n",
       " 'tot_cur_bal',\n",
       " 'open_acc_6m',\n",
       " 'open_act_il',\n",
       " 'open_il_12m',\n",
       " 'open_il_24m',\n",
       " 'mths_since_rcnt_il',\n",
       " 'total_bal_il',\n",
       " 'il_util',\n",
       " 'open_rv_12m',\n",
       " 'open_rv_24m',\n",
       " 'max_bal_bc',\n",
       " 'all_util',\n",
       " 'total_rev_hi_lim',\n",
       " 'inq_fi',\n",
       " 'total_cu_tl',\n",
       " 'inq_last_12m',\n",
       " 'acc_open_past_24mths',\n",
       " 'avg_cur_bal',\n",
       " 'bc_open_to_buy',\n",
       " 'bc_util',\n",
       " 'chargeoff_within_12_mths',\n",
       " 'delinq_amnt',\n",
       " 'mo_sin_old_il_acct',\n",
       " 'mo_sin_old_rev_tl_op',\n",
       " 'mo_sin_rcnt_rev_tl_op',\n",
       " 'mo_sin_rcnt_tl',\n",
       " 'mort_acc',\n",
       " 'mths_since_recent_bc',\n",
       " 'mths_since_recent_bc_dlq',\n",
       " 'mths_since_recent_inq',\n",
       " 'mths_since_recent_revol_delinq',\n",
       " 'num_accts_ever_120_pd',\n",
       " 'num_actv_bc_tl',\n",
       " 'num_actv_rev_tl',\n",
       " 'num_bc_sats',\n",
       " 'num_bc_tl',\n",
       " 'num_il_tl',\n",
       " 'num_op_rev_tl',\n",
       " 'num_rev_accts',\n",
       " 'num_rev_tl_bal_gt_0',\n",
       " 'num_sats',\n",
       " 'num_tl_120dpd_2m',\n",
       " 'num_tl_30dpd',\n",
       " 'num_tl_90g_dpd_24m',\n",
       " 'num_tl_op_past_12m',\n",
       " 'pub_rec_bankruptcies',\n",
       " 'tax_liens',\n",
       " 'tot_hi_cred_lim',\n",
       " 'total_bal_ex_mort',\n",
       " 'total_bc_limit',\n",
       " 'total_il_high_credit_limit',\n",
       " 'sec_app_earliest_cr_line',\n",
       " 'sec_app_inq_last_6mths',\n",
       " 'sec_app_mort_acc',\n",
       " 'sec_app_open_acc',\n",
       " 'sec_app_revol_util',\n",
       " 'sec_app_open_act_il',\n",
       " 'sec_app_num_rev_accts',\n",
       " 'sec_app_chargeoff_within_12_mths',\n",
       " 'sec_app_collections_12_mths_ex_med',\n",
       " 'sec_app_mths_since_last_major_derog',\n",
       " 'hardship_flag',\n",
       " 'hardship_type',\n",
       " 'hardship_reason',\n",
       " 'hardship_status',\n",
       " 'deferral_term',\n",
       " 'hardship_amount',\n",
       " 'hardship_start_date',\n",
       " 'hardship_end_date',\n",
       " 'hardship_length',\n",
       " 'hardship_dpd',\n",
       " 'hardship_loan_status',\n",
       " 'orig_projected_additional_accrued_interest',\n",
       " 'hardship_payoff_balance_amount',\n",
       " 'hardship_last_payment_amount',\n",
       " 'disbursement_method',\n",
       " 'debt_settlement_flag',\n",
       " 'settlement_status',\n",
       " 'settlement_amount',\n",
       " 'settlement_percentage',\n",
       " 'settlement_term',\n",
       " 'loan_amnt_range']"
      ]
     },
     "execution_count": 121,
     "metadata": {},
     "output_type": "execute_result"
    }
   ],
   "source": [
    "columns = list(full_data.columns.values)\n",
    "print \"Columns size:\", len(columns)\n",
    "columns"
   ]
  },
  {
   "cell_type": "markdown",
   "metadata": {},
   "source": [
    "The **int_rate** is Interest Rate on the loan. It is decided based on the grade of the loan so we do not need this information too."
   ]
  },
  {
   "cell_type": "code",
   "execution_count": 122,
   "metadata": {},
   "outputs": [],
   "source": [
    "full_data.drop(['int_rate'], axis=1, inplace=True)"
   ]
  },
  {
   "cell_type": "markdown",
   "metadata": {},
   "source": [
    "Next step, we will transform all categorical data into numbers because our model only understands numbers."
   ]
  },
  {
   "cell_type": "code",
   "execution_count": 123,
   "metadata": {},
   "outputs": [],
   "source": [
    "def convertEmploymentLength(l):\n",
    "    if l == '< 1 year' or l == 'nan':\n",
    "        return 0\n",
    "    if l == '10+ years':\n",
    "        return 10\n",
    "    if l[1] == ' ':\n",
    "        return (int)(l[:2])\n",
    "    return (int)(l[:3])\n",
    "\n",
    "def convert(data, listValue):\n",
    "    return listValue.index(data)\n",
    "\n",
    "def transformCategoricalData(df):\n",
    "    result = df.copy()\n",
    "    listPurpose = list(df['purpose'].unique())\n",
    "    listOwnership = list(df['home_ownership'].unique())\n",
    "    listAppType = list(df['application_type'].unique())\n",
    "    listHardshipFlag = list(df['hardship_flag'].unique())\n",
    "    listHSLoanStatus = list(df['hardship_loan_status'].unique())\n",
    "    listDisbursement = list(df['disbursement_method'].unique())\n",
    "    listDebtFlag = list(df['debt_settlement_flag'].unique())\n",
    "    for index, row in result.iterrows():\n",
    "        result.at[index, 'emp_length'] = convertEmploymentLength(row['emp_length'])\n",
    "        result.at[index, 'purpose'] = convert(row.purpose, listPurpose)\n",
    "        result.at[index, 'home_ownership'] = convert(row['home_ownership'], listOwnership)\n",
    "        result.at[index, 'application_type'] = convert(row['application_type'], listAppType)\n",
    "        result.at[index, 'hardship_flag'] = convert(row['hardship_flag'], listHardshipFlag)\n",
    "        result.at[index, 'hardship_loan_status'] = convert(row['hardship_loan_status'], listHSLoanStatus)\n",
    "        result.at[index, 'disbursement_method'] = convert(row['disbursement_method'], listDisbursement)\n",
    "        result.at[index, 'debt_settlement_flag'] = convert(row['debt_settlement_flag'], listDebtFlag)\n",
    "    return result"
   ]
  },
  {
   "cell_type": "code",
   "execution_count": 124,
   "metadata": {},
   "outputs": [
    {
     "data": {
      "text/html": [
       "<div>\n",
       "<style scoped>\n",
       "    .dataframe tbody tr th:only-of-type {\n",
       "        vertical-align: middle;\n",
       "    }\n",
       "\n",
       "    .dataframe tbody tr th {\n",
       "        vertical-align: top;\n",
       "    }\n",
       "\n",
       "    .dataframe thead th {\n",
       "        text-align: right;\n",
       "    }\n",
       "</style>\n",
       "<table border=\"1\" class=\"dataframe\">\n",
       "  <thead>\n",
       "    <tr style=\"text-align: right;\">\n",
       "      <th></th>\n",
       "      <th>loan_amnt</th>\n",
       "      <th>term</th>\n",
       "      <th>installment</th>\n",
       "      <th>grade</th>\n",
       "      <th>emp_title</th>\n",
       "      <th>emp_length</th>\n",
       "      <th>home_ownership</th>\n",
       "      <th>annual_inc</th>\n",
       "      <th>purpose</th>\n",
       "      <th>zip_code</th>\n",
       "      <th>...</th>\n",
       "      <th>orig_projected_additional_accrued_interest</th>\n",
       "      <th>hardship_payoff_balance_amount</th>\n",
       "      <th>hardship_last_payment_amount</th>\n",
       "      <th>disbursement_method</th>\n",
       "      <th>debt_settlement_flag</th>\n",
       "      <th>settlement_status</th>\n",
       "      <th>settlement_amount</th>\n",
       "      <th>settlement_percentage</th>\n",
       "      <th>settlement_term</th>\n",
       "      <th>loan_amnt_range</th>\n",
       "    </tr>\n",
       "  </thead>\n",
       "  <tbody>\n",
       "    <tr>\n",
       "      <th>0</th>\n",
       "      <td>4600.0</td>\n",
       "      <td>36 months</td>\n",
       "      <td>151.45</td>\n",
       "      <td>6</td>\n",
       "      <td>cable technician</td>\n",
       "      <td>4</td>\n",
       "      <td>0</td>\n",
       "      <td>44470.0</td>\n",
       "      <td>0</td>\n",
       "      <td>066xx</td>\n",
       "      <td>...</td>\n",
       "      <td>NaN</td>\n",
       "      <td>NaN</td>\n",
       "      <td>NaN</td>\n",
       "      <td>0</td>\n",
       "      <td>0</td>\n",
       "      <td>NaN</td>\n",
       "      <td>NaN</td>\n",
       "      <td>NaN</td>\n",
       "      <td>NaN</td>\n",
       "      <td>0.0</td>\n",
       "    </tr>\n",
       "    <tr>\n",
       "      <th>1</th>\n",
       "      <td>15400.0</td>\n",
       "      <td>60 months</td>\n",
       "      <td>337.84</td>\n",
       "      <td>6</td>\n",
       "      <td>Social worker</td>\n",
       "      <td>10</td>\n",
       "      <td>1</td>\n",
       "      <td>95000.0</td>\n",
       "      <td>1</td>\n",
       "      <td>068xx</td>\n",
       "      <td>...</td>\n",
       "      <td>NaN</td>\n",
       "      <td>NaN</td>\n",
       "      <td>NaN</td>\n",
       "      <td>0</td>\n",
       "      <td>0</td>\n",
       "      <td>NaN</td>\n",
       "      <td>NaN</td>\n",
       "      <td>NaN</td>\n",
       "      <td>NaN</td>\n",
       "      <td>1.0</td>\n",
       "    </tr>\n",
       "    <tr>\n",
       "      <th>2</th>\n",
       "      <td>14000.0</td>\n",
       "      <td>36 months</td>\n",
       "      <td>492.13</td>\n",
       "      <td>5</td>\n",
       "      <td>Project Leader</td>\n",
       "      <td>10</td>\n",
       "      <td>1</td>\n",
       "      <td>82000.0</td>\n",
       "      <td>0</td>\n",
       "      <td>672xx</td>\n",
       "      <td>...</td>\n",
       "      <td>NaN</td>\n",
       "      <td>NaN</td>\n",
       "      <td>NaN</td>\n",
       "      <td>0</td>\n",
       "      <td>0</td>\n",
       "      <td>NaN</td>\n",
       "      <td>NaN</td>\n",
       "      <td>NaN</td>\n",
       "      <td>NaN</td>\n",
       "      <td>1.0</td>\n",
       "    </tr>\n",
       "    <tr>\n",
       "      <th>3</th>\n",
       "      <td>5000.0</td>\n",
       "      <td>36 months</td>\n",
       "      <td>200.10</td>\n",
       "      <td>3</td>\n",
       "      <td>Pilot</td>\n",
       "      <td>10</td>\n",
       "      <td>1</td>\n",
       "      <td>215000.0</td>\n",
       "      <td>1</td>\n",
       "      <td>067xx</td>\n",
       "      <td>...</td>\n",
       "      <td>NaN</td>\n",
       "      <td>NaN</td>\n",
       "      <td>NaN</td>\n",
       "      <td>0</td>\n",
       "      <td>0</td>\n",
       "      <td>NaN</td>\n",
       "      <td>NaN</td>\n",
       "      <td>NaN</td>\n",
       "      <td>NaN</td>\n",
       "      <td>0.0</td>\n",
       "    </tr>\n",
       "    <tr>\n",
       "      <th>4</th>\n",
       "      <td>4700.0</td>\n",
       "      <td>36 months</td>\n",
       "      <td>165.22</td>\n",
       "      <td>5</td>\n",
       "      <td>RN Manager</td>\n",
       "      <td>10</td>\n",
       "      <td>1</td>\n",
       "      <td>100046.0</td>\n",
       "      <td>1</td>\n",
       "      <td>847xx</td>\n",
       "      <td>...</td>\n",
       "      <td>NaN</td>\n",
       "      <td>NaN</td>\n",
       "      <td>NaN</td>\n",
       "      <td>0</td>\n",
       "      <td>0</td>\n",
       "      <td>NaN</td>\n",
       "      <td>NaN</td>\n",
       "      <td>NaN</td>\n",
       "      <td>NaN</td>\n",
       "      <td>0.0</td>\n",
       "    </tr>\n",
       "  </tbody>\n",
       "</table>\n",
       "<p>5 rows × 103 columns</p>\n",
       "</div>"
      ],
      "text/plain": [
       "   loan_amnt        term  installment  grade         emp_title emp_length  \\\n",
       "0     4600.0   36 months       151.45      6  cable technician          4   \n",
       "1    15400.0   60 months       337.84      6     Social worker         10   \n",
       "2    14000.0   36 months       492.13      5    Project Leader         10   \n",
       "3     5000.0   36 months       200.10      3             Pilot         10   \n",
       "4     4700.0   36 months       165.22      5        RN Manager         10   \n",
       "\n",
       "  home_ownership  annual_inc purpose zip_code       ...         \\\n",
       "0              0     44470.0       0    066xx       ...          \n",
       "1              1     95000.0       1    068xx       ...          \n",
       "2              1     82000.0       0    672xx       ...          \n",
       "3              1    215000.0       1    067xx       ...          \n",
       "4              1    100046.0       1    847xx       ...          \n",
       "\n",
       "  orig_projected_additional_accrued_interest  hardship_payoff_balance_amount  \\\n",
       "0                                        NaN                             NaN   \n",
       "1                                        NaN                             NaN   \n",
       "2                                        NaN                             NaN   \n",
       "3                                        NaN                             NaN   \n",
       "4                                        NaN                             NaN   \n",
       "\n",
       "   hardship_last_payment_amount  disbursement_method  debt_settlement_flag  \\\n",
       "0                           NaN                    0                     0   \n",
       "1                           NaN                    0                     0   \n",
       "2                           NaN                    0                     0   \n",
       "3                           NaN                    0                     0   \n",
       "4                           NaN                    0                     0   \n",
       "\n",
       "  settlement_status settlement_amount  settlement_percentage  settlement_term  \\\n",
       "0               NaN               NaN                    NaN              NaN   \n",
       "1               NaN               NaN                    NaN              NaN   \n",
       "2               NaN               NaN                    NaN              NaN   \n",
       "3               NaN               NaN                    NaN              NaN   \n",
       "4               NaN               NaN                    NaN              NaN   \n",
       "\n",
       "   loan_amnt_range  \n",
       "0              0.0  \n",
       "1              1.0  \n",
       "2              1.0  \n",
       "3              0.0  \n",
       "4              0.0  \n",
       "\n",
       "[5 rows x 103 columns]"
      ]
     },
     "execution_count": 124,
     "metadata": {},
     "output_type": "execute_result"
    }
   ],
   "source": [
    "full_data['emp_length'] = full_data['emp_length'].astype('str') \n",
    "full_data = transformCategoricalData(full_data)\n",
    "full_data.head(5)"
   ]
  },
  {
   "cell_type": "code",
   "execution_count": 125,
   "metadata": {},
   "outputs": [
    {
     "data": {
      "text/html": [
       "<div>\n",
       "<style scoped>\n",
       "    .dataframe tbody tr th:only-of-type {\n",
       "        vertical-align: middle;\n",
       "    }\n",
       "\n",
       "    .dataframe tbody tr th {\n",
       "        vertical-align: top;\n",
       "    }\n",
       "\n",
       "    .dataframe thead th {\n",
       "        text-align: right;\n",
       "    }\n",
       "</style>\n",
       "<table border=\"1\" class=\"dataframe\">\n",
       "  <thead>\n",
       "    <tr style=\"text-align: right;\">\n",
       "      <th></th>\n",
       "      <th>loan_amnt</th>\n",
       "      <th>term</th>\n",
       "      <th>installment</th>\n",
       "      <th>grade</th>\n",
       "      <th>emp_title</th>\n",
       "      <th>emp_length</th>\n",
       "      <th>home_ownership</th>\n",
       "      <th>annual_inc</th>\n",
       "      <th>purpose</th>\n",
       "      <th>zip_code</th>\n",
       "      <th>...</th>\n",
       "      <th>orig_projected_additional_accrued_interest</th>\n",
       "      <th>hardship_payoff_balance_amount</th>\n",
       "      <th>hardship_last_payment_amount</th>\n",
       "      <th>disbursement_method</th>\n",
       "      <th>debt_settlement_flag</th>\n",
       "      <th>settlement_status</th>\n",
       "      <th>settlement_amount</th>\n",
       "      <th>settlement_percentage</th>\n",
       "      <th>settlement_term</th>\n",
       "      <th>loan_amnt_range</th>\n",
       "    </tr>\n",
       "  </thead>\n",
       "  <tbody>\n",
       "    <tr>\n",
       "      <th>0</th>\n",
       "      <td>4600.0</td>\n",
       "      <td>0</td>\n",
       "      <td>151.45</td>\n",
       "      <td>6</td>\n",
       "      <td>cable technician</td>\n",
       "      <td>4</td>\n",
       "      <td>0</td>\n",
       "      <td>44470.0</td>\n",
       "      <td>0</td>\n",
       "      <td>066xx</td>\n",
       "      <td>...</td>\n",
       "      <td>NaN</td>\n",
       "      <td>NaN</td>\n",
       "      <td>NaN</td>\n",
       "      <td>0</td>\n",
       "      <td>0</td>\n",
       "      <td>NaN</td>\n",
       "      <td>NaN</td>\n",
       "      <td>NaN</td>\n",
       "      <td>NaN</td>\n",
       "      <td>0.0</td>\n",
       "    </tr>\n",
       "    <tr>\n",
       "      <th>1</th>\n",
       "      <td>15400.0</td>\n",
       "      <td>1</td>\n",
       "      <td>337.84</td>\n",
       "      <td>6</td>\n",
       "      <td>Social worker</td>\n",
       "      <td>10</td>\n",
       "      <td>1</td>\n",
       "      <td>95000.0</td>\n",
       "      <td>1</td>\n",
       "      <td>068xx</td>\n",
       "      <td>...</td>\n",
       "      <td>NaN</td>\n",
       "      <td>NaN</td>\n",
       "      <td>NaN</td>\n",
       "      <td>0</td>\n",
       "      <td>0</td>\n",
       "      <td>NaN</td>\n",
       "      <td>NaN</td>\n",
       "      <td>NaN</td>\n",
       "      <td>NaN</td>\n",
       "      <td>1.0</td>\n",
       "    </tr>\n",
       "    <tr>\n",
       "      <th>2</th>\n",
       "      <td>14000.0</td>\n",
       "      <td>0</td>\n",
       "      <td>492.13</td>\n",
       "      <td>5</td>\n",
       "      <td>Project Leader</td>\n",
       "      <td>10</td>\n",
       "      <td>1</td>\n",
       "      <td>82000.0</td>\n",
       "      <td>0</td>\n",
       "      <td>672xx</td>\n",
       "      <td>...</td>\n",
       "      <td>NaN</td>\n",
       "      <td>NaN</td>\n",
       "      <td>NaN</td>\n",
       "      <td>0</td>\n",
       "      <td>0</td>\n",
       "      <td>NaN</td>\n",
       "      <td>NaN</td>\n",
       "      <td>NaN</td>\n",
       "      <td>NaN</td>\n",
       "      <td>1.0</td>\n",
       "    </tr>\n",
       "    <tr>\n",
       "      <th>3</th>\n",
       "      <td>5000.0</td>\n",
       "      <td>0</td>\n",
       "      <td>200.10</td>\n",
       "      <td>3</td>\n",
       "      <td>Pilot</td>\n",
       "      <td>10</td>\n",
       "      <td>1</td>\n",
       "      <td>215000.0</td>\n",
       "      <td>1</td>\n",
       "      <td>067xx</td>\n",
       "      <td>...</td>\n",
       "      <td>NaN</td>\n",
       "      <td>NaN</td>\n",
       "      <td>NaN</td>\n",
       "      <td>0</td>\n",
       "      <td>0</td>\n",
       "      <td>NaN</td>\n",
       "      <td>NaN</td>\n",
       "      <td>NaN</td>\n",
       "      <td>NaN</td>\n",
       "      <td>0.0</td>\n",
       "    </tr>\n",
       "    <tr>\n",
       "      <th>4</th>\n",
       "      <td>4700.0</td>\n",
       "      <td>0</td>\n",
       "      <td>165.22</td>\n",
       "      <td>5</td>\n",
       "      <td>RN Manager</td>\n",
       "      <td>10</td>\n",
       "      <td>1</td>\n",
       "      <td>100046.0</td>\n",
       "      <td>1</td>\n",
       "      <td>847xx</td>\n",
       "      <td>...</td>\n",
       "      <td>NaN</td>\n",
       "      <td>NaN</td>\n",
       "      <td>NaN</td>\n",
       "      <td>0</td>\n",
       "      <td>0</td>\n",
       "      <td>NaN</td>\n",
       "      <td>NaN</td>\n",
       "      <td>NaN</td>\n",
       "      <td>NaN</td>\n",
       "      <td>0.0</td>\n",
       "    </tr>\n",
       "  </tbody>\n",
       "</table>\n",
       "<p>5 rows × 103 columns</p>\n",
       "</div>"
      ],
      "text/plain": [
       "   loan_amnt  term  installment  grade         emp_title emp_length  \\\n",
       "0     4600.0     0       151.45      6  cable technician          4   \n",
       "1    15400.0     1       337.84      6     Social worker         10   \n",
       "2    14000.0     0       492.13      5    Project Leader         10   \n",
       "3     5000.0     0       200.10      3             Pilot         10   \n",
       "4     4700.0     0       165.22      5        RN Manager         10   \n",
       "\n",
       "  home_ownership  annual_inc purpose zip_code       ...         \\\n",
       "0              0     44470.0       0    066xx       ...          \n",
       "1              1     95000.0       1    068xx       ...          \n",
       "2              1     82000.0       0    672xx       ...          \n",
       "3              1    215000.0       1    067xx       ...          \n",
       "4              1    100046.0       1    847xx       ...          \n",
       "\n",
       "  orig_projected_additional_accrued_interest  hardship_payoff_balance_amount  \\\n",
       "0                                        NaN                             NaN   \n",
       "1                                        NaN                             NaN   \n",
       "2                                        NaN                             NaN   \n",
       "3                                        NaN                             NaN   \n",
       "4                                        NaN                             NaN   \n",
       "\n",
       "   hardship_last_payment_amount  disbursement_method  debt_settlement_flag  \\\n",
       "0                           NaN                    0                     0   \n",
       "1                           NaN                    0                     0   \n",
       "2                           NaN                    0                     0   \n",
       "3                           NaN                    0                     0   \n",
       "4                           NaN                    0                     0   \n",
       "\n",
       "  settlement_status settlement_amount  settlement_percentage  settlement_term  \\\n",
       "0               NaN               NaN                    NaN              NaN   \n",
       "1               NaN               NaN                    NaN              NaN   \n",
       "2               NaN               NaN                    NaN              NaN   \n",
       "3               NaN               NaN                    NaN              NaN   \n",
       "4               NaN               NaN                    NaN              NaN   \n",
       "\n",
       "   loan_amnt_range  \n",
       "0              0.0  \n",
       "1              1.0  \n",
       "2              1.0  \n",
       "3              0.0  \n",
       "4              0.0  \n",
       "\n",
       "[5 rows x 103 columns]"
      ]
     },
     "execution_count": 125,
     "metadata": {},
     "output_type": "execute_result"
    }
   ],
   "source": [
    "from sklearn.preprocessing import LabelEncoder\n",
    "le_term = LabelEncoder()\n",
    "full_data['term'] = le_term.fit_transform(full_data.term)\n",
    "full_data.head(5)"
   ]
  },
  {
   "cell_type": "markdown",
   "metadata": {},
   "source": [
    "After transforming all of categorical data, I figure out some more columns that we need to remove because it just give more details about other columns."
   ]
  },
  {
   "cell_type": "code",
   "execution_count": 126,
   "metadata": {},
   "outputs": [],
   "source": [
    "full_data.drop(['emp_title', 'settlement_status','hardship_loan_status', 'hardship_dpd',\n",
    "               'hardship_end_date', 'hardship_start_date', 'deferral_term', 'hardship_status', 'zip_code', ], axis=1, inplace=True)"
   ]
  },
  {
   "cell_type": "markdown",
   "metadata": {},
   "source": [
    "We drop features that contain too many NA values. Let's count the NA values of each feature."
   ]
  },
  {
   "cell_type": "code",
   "execution_count": 127,
   "metadata": {},
   "outputs": [
    {
     "data": {
      "text/plain": [
       "dti                                              33\n",
       "mths_since_last_delinq                        46293\n",
       "revol_util                                       51\n",
       "annual_inc_joint                              92372\n",
       "dti_joint                                     92372\n",
       "mths_since_rcnt_il                             2596\n",
       "il_util                                       12998\n",
       "all_util                                          3\n",
       "bc_open_to_buy                                  985\n",
       "bc_util                                        1028\n",
       "mo_sin_old_il_acct                             2596\n",
       "mths_since_recent_bc                            945\n",
       "mths_since_recent_bc_dlq                      72987\n",
       "mths_since_recent_inq                         11314\n",
       "mths_since_recent_revol_delinq                62320\n",
       "num_tl_120dpd_2m                               4706\n",
       "sec_app_earliest_cr_line                      95754\n",
       "sec_app_inq_last_6mths                        95754\n",
       "sec_app_mort_acc                              95754\n",
       "sec_app_open_acc                              95754\n",
       "sec_app_revol_util                            95760\n",
       "sec_app_open_act_il                           95754\n",
       "sec_app_num_rev_accts                         95754\n",
       "sec_app_chargeoff_within_12_mths              95754\n",
       "sec_app_collections_12_mths_ex_med            95754\n",
       "sec_app_mths_since_last_major_derog           96423\n",
       "hardship_type                                 96171\n",
       "hardship_reason                               96171\n",
       "hardship_amount                               96171\n",
       "hardship_length                               96171\n",
       "orig_projected_additional_accrued_interest    96276\n",
       "hardship_payoff_balance_amount                96171\n",
       "hardship_last_payment_amount                  96171\n",
       "settlement_amount                             96158\n",
       "settlement_percentage                         96158\n",
       "settlement_term                               96158\n",
       "dtype: int64"
      ]
     },
     "execution_count": 127,
     "metadata": {},
     "output_type": "execute_result"
    }
   ],
   "source": [
    "nullData = full_data.isnull().sum()\n",
    "nullData[nullData > 0]"
   ]
  },
  {
   "cell_type": "markdown",
   "metadata": {},
   "source": [
    "We have **96779** rows in our dataset but we can see that there are many features having NA values for over **90000** rows. So we will drop all the columns having NA values for over 90000 rows."
   ]
  },
  {
   "cell_type": "code",
   "execution_count": 128,
   "metadata": {},
   "outputs": [
    {
     "data": {
      "text/html": [
       "<div>\n",
       "<style scoped>\n",
       "    .dataframe tbody tr th:only-of-type {\n",
       "        vertical-align: middle;\n",
       "    }\n",
       "\n",
       "    .dataframe tbody tr th {\n",
       "        vertical-align: top;\n",
       "    }\n",
       "\n",
       "    .dataframe thead th {\n",
       "        text-align: right;\n",
       "    }\n",
       "</style>\n",
       "<table border=\"1\" class=\"dataframe\">\n",
       "  <thead>\n",
       "    <tr style=\"text-align: right;\">\n",
       "      <th></th>\n",
       "      <th>loan_amnt</th>\n",
       "      <th>term</th>\n",
       "      <th>installment</th>\n",
       "      <th>grade</th>\n",
       "      <th>emp_length</th>\n",
       "      <th>home_ownership</th>\n",
       "      <th>annual_inc</th>\n",
       "      <th>purpose</th>\n",
       "      <th>addr_state</th>\n",
       "      <th>dti</th>\n",
       "      <th>...</th>\n",
       "      <th>pub_rec_bankruptcies</th>\n",
       "      <th>tax_liens</th>\n",
       "      <th>tot_hi_cred_lim</th>\n",
       "      <th>total_bal_ex_mort</th>\n",
       "      <th>total_bc_limit</th>\n",
       "      <th>total_il_high_credit_limit</th>\n",
       "      <th>hardship_flag</th>\n",
       "      <th>disbursement_method</th>\n",
       "      <th>debt_settlement_flag</th>\n",
       "      <th>loan_amnt_range</th>\n",
       "    </tr>\n",
       "  </thead>\n",
       "  <tbody>\n",
       "    <tr>\n",
       "      <th>0</th>\n",
       "      <td>4600.0</td>\n",
       "      <td>0</td>\n",
       "      <td>151.45</td>\n",
       "      <td>6</td>\n",
       "      <td>4</td>\n",
       "      <td>0</td>\n",
       "      <td>44470.0</td>\n",
       "      <td>0</td>\n",
       "      <td>CT</td>\n",
       "      <td>13.43</td>\n",
       "      <td>...</td>\n",
       "      <td>0.0</td>\n",
       "      <td>0.0</td>\n",
       "      <td>40000.0</td>\n",
       "      <td>9625.0</td>\n",
       "      <td>14500.0</td>\n",
       "      <td>11700.0</td>\n",
       "      <td>0</td>\n",
       "      <td>0</td>\n",
       "      <td>0</td>\n",
       "      <td>0.0</td>\n",
       "    </tr>\n",
       "    <tr>\n",
       "      <th>1</th>\n",
       "      <td>15400.0</td>\n",
       "      <td>1</td>\n",
       "      <td>337.84</td>\n",
       "      <td>6</td>\n",
       "      <td>10</td>\n",
       "      <td>1</td>\n",
       "      <td>95000.0</td>\n",
       "      <td>1</td>\n",
       "      <td>CT</td>\n",
       "      <td>11.52</td>\n",
       "      <td>...</td>\n",
       "      <td>0.0</td>\n",
       "      <td>0.0</td>\n",
       "      <td>579945.0</td>\n",
       "      <td>158331.0</td>\n",
       "      <td>25800.0</td>\n",
       "      <td>143395.0</td>\n",
       "      <td>0</td>\n",
       "      <td>0</td>\n",
       "      <td>0</td>\n",
       "      <td>1.0</td>\n",
       "    </tr>\n",
       "    <tr>\n",
       "      <th>2</th>\n",
       "      <td>14000.0</td>\n",
       "      <td>0</td>\n",
       "      <td>492.13</td>\n",
       "      <td>5</td>\n",
       "      <td>10</td>\n",
       "      <td>1</td>\n",
       "      <td>82000.0</td>\n",
       "      <td>0</td>\n",
       "      <td>KS</td>\n",
       "      <td>31.07</td>\n",
       "      <td>...</td>\n",
       "      <td>0.0</td>\n",
       "      <td>0.0</td>\n",
       "      <td>286204.0</td>\n",
       "      <td>104008.0</td>\n",
       "      <td>81400.0</td>\n",
       "      <td>60167.0</td>\n",
       "      <td>0</td>\n",
       "      <td>0</td>\n",
       "      <td>0</td>\n",
       "      <td>1.0</td>\n",
       "    </tr>\n",
       "    <tr>\n",
       "      <th>3</th>\n",
       "      <td>5000.0</td>\n",
       "      <td>0</td>\n",
       "      <td>200.10</td>\n",
       "      <td>3</td>\n",
       "      <td>10</td>\n",
       "      <td>1</td>\n",
       "      <td>215000.0</td>\n",
       "      <td>1</td>\n",
       "      <td>CT</td>\n",
       "      <td>6.06</td>\n",
       "      <td>...</td>\n",
       "      <td>0.0</td>\n",
       "      <td>0.0</td>\n",
       "      <td>100763.0</td>\n",
       "      <td>44754.0</td>\n",
       "      <td>46200.0</td>\n",
       "      <td>49814.0</td>\n",
       "      <td>0</td>\n",
       "      <td>0</td>\n",
       "      <td>0</td>\n",
       "      <td>0.0</td>\n",
       "    </tr>\n",
       "    <tr>\n",
       "      <th>4</th>\n",
       "      <td>4700.0</td>\n",
       "      <td>0</td>\n",
       "      <td>165.22</td>\n",
       "      <td>5</td>\n",
       "      <td>10</td>\n",
       "      <td>1</td>\n",
       "      <td>100046.0</td>\n",
       "      <td>1</td>\n",
       "      <td>UT</td>\n",
       "      <td>12.37</td>\n",
       "      <td>...</td>\n",
       "      <td>0.0</td>\n",
       "      <td>0.0</td>\n",
       "      <td>353570.0</td>\n",
       "      <td>49114.0</td>\n",
       "      <td>3500.0</td>\n",
       "      <td>58668.0</td>\n",
       "      <td>0</td>\n",
       "      <td>0</td>\n",
       "      <td>0</td>\n",
       "      <td>0.0</td>\n",
       "    </tr>\n",
       "  </tbody>\n",
       "</table>\n",
       "<p>5 rows × 72 columns</p>\n",
       "</div>"
      ],
      "text/plain": [
       "   loan_amnt  term  installment  grade emp_length home_ownership  annual_inc  \\\n",
       "0     4600.0     0       151.45      6          4              0     44470.0   \n",
       "1    15400.0     1       337.84      6         10              1     95000.0   \n",
       "2    14000.0     0       492.13      5         10              1     82000.0   \n",
       "3     5000.0     0       200.10      3         10              1    215000.0   \n",
       "4     4700.0     0       165.22      5         10              1    100046.0   \n",
       "\n",
       "  purpose addr_state    dti       ...         pub_rec_bankruptcies  tax_liens  \\\n",
       "0       0         CT  13.43       ...                          0.0        0.0   \n",
       "1       1         CT  11.52       ...                          0.0        0.0   \n",
       "2       0         KS  31.07       ...                          0.0        0.0   \n",
       "3       1         CT   6.06       ...                          0.0        0.0   \n",
       "4       1         UT  12.37       ...                          0.0        0.0   \n",
       "\n",
       "   tot_hi_cred_lim total_bal_ex_mort total_bc_limit  \\\n",
       "0          40000.0            9625.0        14500.0   \n",
       "1         579945.0          158331.0        25800.0   \n",
       "2         286204.0          104008.0        81400.0   \n",
       "3         100763.0           44754.0        46200.0   \n",
       "4         353570.0           49114.0         3500.0   \n",
       "\n",
       "   total_il_high_credit_limit  hardship_flag  disbursement_method  \\\n",
       "0                     11700.0              0                    0   \n",
       "1                    143395.0              0                    0   \n",
       "2                     60167.0              0                    0   \n",
       "3                     49814.0              0                    0   \n",
       "4                     58668.0              0                    0   \n",
       "\n",
       "   debt_settlement_flag  loan_amnt_range  \n",
       "0                     0              0.0  \n",
       "1                     0              1.0  \n",
       "2                     0              1.0  \n",
       "3                     0              0.0  \n",
       "4                     0              0.0  \n",
       "\n",
       "[5 rows x 72 columns]"
      ]
     },
     "execution_count": 128,
     "metadata": {},
     "output_type": "execute_result"
    }
   ],
   "source": [
    "drop_columns = nullData[nullData > 90000].keys()\n",
    "full_data.drop(drop_columns, axis=1, inplace=True)\n",
    "full_data.head(5)"
   ]
  },
  {
   "cell_type": "markdown",
   "metadata": {},
   "source": [
    "Now let's explore the columns that have less NA values to decide whehter we should keep them or not"
   ]
  },
  {
   "cell_type": "code",
   "execution_count": 129,
   "metadata": {},
   "outputs": [
    {
     "data": {
      "text/plain": [
       "dti                                  33\n",
       "mths_since_last_delinq            46293\n",
       "revol_util                           51\n",
       "mths_since_rcnt_il                 2596\n",
       "il_util                           12998\n",
       "all_util                              3\n",
       "bc_open_to_buy                      985\n",
       "bc_util                            1028\n",
       "mo_sin_old_il_acct                 2596\n",
       "mths_since_recent_bc                945\n",
       "mths_since_recent_bc_dlq          72987\n",
       "mths_since_recent_inq             11314\n",
       "mths_since_recent_revol_delinq    62320\n",
       "num_tl_120dpd_2m                   4706\n",
       "dtype: int64"
      ]
     },
     "execution_count": 129,
     "metadata": {},
     "output_type": "execute_result"
    }
   ],
   "source": [
    "nullData = full_data.isnull().sum()\n",
    "nullData[nullData > 0]"
   ]
  },
  {
   "cell_type": "markdown",
   "metadata": {},
   "source": [
    "We will remove the **mths_since_last_delinq**, **mths_since_recent_bc_dlq** and **mths_since_recent_revol_delinq**. These information are not valuable enough and they have a lot of NA values."
   ]
  },
  {
   "cell_type": "code",
   "execution_count": 130,
   "metadata": {},
   "outputs": [],
   "source": [
    "full_data.drop(['revol_util', 'mths_since_last_delinq', 'mths_since_recent_bc_dlq', 'mths_since_recent_revol_delinq'],\n",
    "               axis=1, inplace=True)"
   ]
  },
  {
   "cell_type": "code",
   "execution_count": 131,
   "metadata": {},
   "outputs": [
    {
     "data": {
      "text/plain": [
       "dti                         33\n",
       "mths_since_rcnt_il        2596\n",
       "il_util                  12998\n",
       "all_util                     3\n",
       "bc_open_to_buy             985\n",
       "bc_util                   1028\n",
       "mo_sin_old_il_acct        2596\n",
       "mths_since_recent_bc       945\n",
       "mths_since_recent_inq    11314\n",
       "num_tl_120dpd_2m          4706\n",
       "dtype: int64"
      ]
     },
     "execution_count": 131,
     "metadata": {},
     "output_type": "execute_result"
    }
   ],
   "source": [
    "nullData = full_data.isnull().sum()\n",
    "nullData[nullData > 0]"
   ]
  },
  {
   "cell_type": "markdown",
   "metadata": {},
   "source": [
    "For all the rows not having value of dti, we remove them all."
   ]
  },
  {
   "cell_type": "code",
   "execution_count": 132,
   "metadata": {},
   "outputs": [],
   "source": [
    "full_data = full_data[pd.notnull(full_data['dti'])]"
   ]
  },
  {
   "cell_type": "code",
   "execution_count": 133,
   "metadata": {},
   "outputs": [
    {
     "data": {
      "text/plain": [
       "mths_since_rcnt_il        2593\n",
       "il_util                  12987\n",
       "all_util                     3\n",
       "bc_open_to_buy             985\n",
       "bc_util                   1028\n",
       "mo_sin_old_il_acct        2593\n",
       "mths_since_recent_bc       945\n",
       "mths_since_recent_inq    11309\n",
       "num_tl_120dpd_2m          4706\n",
       "dtype: int64"
      ]
     },
     "execution_count": 133,
     "metadata": {},
     "output_type": "execute_result"
    }
   ],
   "source": [
    "nullData = full_data.isnull().sum()\n",
    "nullData[nullData > 0]"
   ]
  },
  {
   "cell_type": "markdown",
   "metadata": {},
   "source": [
    "All other columns, the **NA** value will be replaced by the mean value of the whole columns"
   ]
  },
  {
   "cell_type": "code",
   "execution_count": 134,
   "metadata": {},
   "outputs": [],
   "source": [
    "nullData = nullData[nullData > 0]\n",
    "for key in nullData.keys():\n",
    "        full_data[key].fillna((full_data[key].mean()), inplace=True)"
   ]
  },
  {
   "cell_type": "markdown",
   "metadata": {},
   "source": [
    "Let's see whether we have any columns having **NA** value."
   ]
  },
  {
   "cell_type": "code",
   "execution_count": 135,
   "metadata": {},
   "outputs": [
    {
     "data": {
      "text/plain": [
       "Series([], dtype: int64)"
      ]
     },
     "execution_count": 135,
     "metadata": {},
     "output_type": "execute_result"
    }
   ],
   "source": [
    "nullData = full_data.isnull().sum()\n",
    "nullData[nullData > 0]"
   ]
  },
  {
   "cell_type": "markdown",
   "metadata": {},
   "source": [
    "Now we have cleaned up the dataset."
   ]
  },
  {
   "cell_type": "markdown",
   "metadata": {},
   "source": [
    "### Building Model\n",
    "#### Model built by trying correlation for feature selection\n",
    "\n",
    "To do this, we will calculate the correlation between the feature and the outcome. We will perform this for all of the columns"
   ]
  },
  {
   "cell_type": "code",
   "execution_count": 136,
   "metadata": {},
   "outputs": [
    {
     "data": {
      "text/plain": [
       "{0.002620786330149851: 'num_tl_120dpd_2m',\n",
       " 0.002868032739389746: 'total_bal_il',\n",
       " 0.0035222474192166155: 'tot_coll_amt',\n",
       " 0.0035585925454921143: 'delinq_amnt',\n",
       " 0.0036375973043233545: 'open_act_il',\n",
       " 0.004023268027440389: 'acc_now_delinq',\n",
       " 0.004292827266843358: 'num_tl_30dpd',\n",
       " 0.006582131284631973: 'chargeoff_within_12_mths',\n",
       " 0.006670490590471688: 'num_il_tl',\n",
       " 0.008411574606899636: 'num_sats',\n",
       " 0.008874350070645975: 'total_bal_ex_mort',\n",
       " 0.01021101360921158: 'num_op_rev_tl',\n",
       " 0.013069087108569053: 'tax_liens',\n",
       " 0.016008845532249506: 'num_bc_sats',\n",
       " 0.018579573825558273: 'total_cu_tl',\n",
       " 0.02100474562285495: 'num_tl_90g_dpd_24m',\n",
       " 0.023471881436637122: 'revol_bal',\n",
       " 0.024689047082319233: 'delinq_2yrs',\n",
       " 0.02913894314658161: 'total_il_high_credit_limit',\n",
       " 0.03537705174322993: 'annual_inc',\n",
       " 0.040452044135531905: 'num_accts_ever_120_pd',\n",
       " 0.046063934217445625: 'num_rev_accts',\n",
       " 0.05269589449633636: 'mths_since_rcnt_il',\n",
       " 0.05680901163814786: 'max_bal_bc',\n",
       " 0.0579411790142707: 'num_actv_bc_tl',\n",
       " 0.06133298624454346: 'num_bc_tl',\n",
       " 0.06852779313738981: 'pub_rec_bankruptcies',\n",
       " 0.07443539156875172: 'mo_sin_old_il_acct',\n",
       " 0.09544172764046527: 'num_actv_rev_tl',\n",
       " 0.09732846859319616: 'num_rev_tl_bal_gt_0',\n",
       " 0.09740030742633138: 'mths_since_recent_bc',\n",
       " 0.10240495284058664: 'mo_sin_rcnt_tl',\n",
       " 0.10514401625658164: 'avg_cur_bal',\n",
       " 0.10685434923699261: 'mo_sin_rcnt_rev_tl_op',\n",
       " 0.10717783649289478: 'tot_cur_bal',\n",
       " 0.12027128867226836: 'dti',\n",
       " 0.12342531397038162: 'il_util',\n",
       " 0.12454646322742839: 'mths_since_recent_inq',\n",
       " 0.12657204822734222: 'loan_amnt_range',\n",
       " 0.1266986961338222: 'mort_acc',\n",
       " 0.1335322312360211: 'loan_amnt',\n",
       " 0.134044820361212: 'open_il_24m',\n",
       " 0.1344541505334954: 'inq_fi',\n",
       " 0.141822349254642: 'mo_sin_old_rev_tl_op',\n",
       " 0.14256221515230028: 'tot_hi_cred_lim',\n",
       " 0.1508211127733785: 'open_acc_6m',\n",
       " 0.15623474957925032: 'total_rev_hi_lim',\n",
       " 0.1571356684693844: 'open_il_12m',\n",
       " 0.15915645943959708: 'open_rv_12m',\n",
       " 0.1701915142037575: 'installment',\n",
       " 0.17635951335889832: 'open_rv_24m',\n",
       " 0.17888256755476764: 'inq_last_12m',\n",
       " 0.19163415870496792: 'total_bc_limit',\n",
       " 0.1974871643854364: 'num_tl_op_past_12m',\n",
       " 0.20110765056287067: 'acc_open_past_24mths',\n",
       " 0.23359120361603347: 'bc_util',\n",
       " 0.23580251102216213: 'all_util',\n",
       " 0.2478157921765269: 'bc_open_to_buy',\n",
       " 0.36303728584038725: 'term'}"
      ]
     },
     "execution_count": 136,
     "metadata": {},
     "output_type": "execute_result"
    }
   ],
   "source": [
    "columns = list(full_data.columns.values)\n",
    "columns.remove('grade')\n",
    "list_feature = {}\n",
    "for col in columns:\n",
    "    if full_data[col].dtype == 'object':\n",
    "        continue\n",
    "    correlation = full_data['grade'].corr(full_data[col])\n",
    "    if correlation != 0 or correlation:\n",
    "        list_feature[abs(correlation)] = col\n",
    "\n",
    "list_feature"
   ]
  },
  {
   "cell_type": "markdown",
   "metadata": {},
   "source": [
    "Now we have a list of correlation of each feature. Now we need to sort this list descending so we always try the best correlation first."
   ]
  },
  {
   "cell_type": "code",
   "execution_count": 137,
   "metadata": {},
   "outputs": [],
   "source": [
    "from sklearn.model_selection import train_test_split\n",
    "from sklearn.linear_model import LogisticRegression\n",
    "from sklearn.metrics import accuracy_score\n",
    "from sklearn.ensemble import RandomForestClassifier\n",
    "from sklearn.metrics import confusion_matrix\n",
    "from sklearn.preprocessing import StandardScaler\n",
    "from sklearn.metrics import classification_report\n",
    "\n",
    "def calculateAccuracy(features, data, outcome):\n",
    "    sc = StandardScaler()\n",
    "    X = pd.DataFrame(data, columns=features)\n",
    "    y = data[outcome]\n",
    "    X_train, X_test, y_train, y_test = train_test_split(X, y, test_size=0.3, random_state=101)\n",
    "    X_train = sc.fit_transform(X_train)\n",
    "    X_test = sc.fit_transform(X_test)\n",
    "    logistic = LogisticRegression()\n",
    "    logistic.fit(X_train, y_train)\n",
    "    return accuracy_score(y_test, logistic.predict(X_test))\n",
    "\n",
    "def calculateAccuracyRF(features, data, outcome):\n",
    "    sc = StandardScaler()\n",
    "    X = pd.DataFrame(data, columns=features)\n",
    "    y = data[outcome]\n",
    "    X_train, X_test, y_train, y_test = train_test_split(X, y, test_size=0.3, random_state=101)\n",
    "    X_train = sc.fit_transform(X_train)\n",
    "    X_test = sc.fit_transform(X_test)\n",
    "    random_forest = RandomForestClassifier(max_depth=10, random_state=101, n_estimators=30)\n",
    "    random_forest.fit(X_train, y_train)\n",
    "    prediction = random_forest.predict(X_test)\n",
    "    print len(features)\n",
    "    print(classification_report(y_test, prediction))\n",
    "    return accuracy_score(y_test, prediction)"
   ]
  },
  {
   "cell_type": "code",
   "execution_count": 138,
   "metadata": {},
   "outputs": [],
   "source": [
    "correlation = list_feature.keys()\n",
    "correlation.sort(reverse=True)\n",
    "\n",
    "test_list_feature = [list_feature[x] for x in correlation[:10]]\n",
    "results_LR = []\n",
    "test_data = full_data.head(5000)\n",
    "for i in range(11, len(correlation)):\n",
    "    test_list_feature.append(list_feature[correlation[i]])\n",
    "    results_LR.append(calculateAccuracy(test_list_feature, test_data, 'grade'))\n"
   ]
  },
  {
   "cell_type": "code",
   "execution_count": 139,
   "metadata": {},
   "outputs": [
    {
     "name": "stdout",
     "output_type": "stream",
     "text": [
      "Max accuracy:  0.5513333333333333\n",
      "Number of features:  33\n"
     ]
    },
    {
     "data": {
      "image/png": "[encoded data removed]",
      "text/plain": [
       "<Figure size 432x288 with 1 Axes>"
      ]
     },
     "metadata": {},
     "output_type": "display_data"
    }
   ],
   "source": [
    "x = range(11, len(results_LR)+11)\n",
    "y = results_LR\n",
    "plt.plot(x, y, 'o', color='black')\n",
    "print \"Max accuracy: \", max(results_LR)\n",
    "print \"Number of features: \", results_LR.index(max(results_LR)) + 10"
   ]
  },
  {
   "cell_type": "markdown",
   "metadata": {},
   "source": [
    "Based on the accuracy, we could achieve the highest at 0.55 with 33 features."
   ]
  },
  {
   "cell_type": "code",
   "execution_count": 144,
   "metadata": {},
   "outputs": [
    {
     "name": "stdout",
     "output_type": "stream",
     "text": [
      "11\n",
      "             precision    recall  f1-score   support\n",
      "\n",
      "          1       0.00      0.00      0.00         4\n",
      "          2       0.00      0.00      0.00        25\n",
      "          3       0.45      0.07      0.13        67\n",
      "          4       0.20      0.02      0.04       147\n",
      "          5       0.48      0.61      0.54       507\n",
      "          6       0.43      0.51      0.47       484\n",
      "          7       0.52      0.50      0.51       266\n",
      "\n",
      "avg / total       0.43      0.46      0.43      1500\n",
      "\n"
     ]
    },
    {
     "name": "stderr",
     "output_type": "stream",
     "text": [
      "/Users/admin/anaconda2/lib/python2.7/site-packages/sklearn/metrics/classification.py:1135: UndefinedMetricWarning: Precision and F-score are ill-defined and being set to 0.0 in labels with no predicted samples.\n",
      "  'precision', 'predicted', average, warn_for)\n"
     ]
    },
    {
     "name": "stdout",
     "output_type": "stream",
     "text": [
      "12\n",
      "             precision    recall  f1-score   support\n",
      "\n",
      "          1       0.00      0.00      0.00         4\n",
      "          2       0.00      0.00      0.00        25\n",
      "          3       0.44      0.06      0.11        67\n",
      "          4       0.19      0.02      0.04       147\n",
      "          5       0.52      0.63      0.57       507\n",
      "          6       0.46      0.59      0.52       484\n",
      "          7       0.57      0.51      0.54       266\n",
      "\n",
      "avg / total       0.46      0.50      0.46      1500\n",
      "\n"
     ]
    },
    {
     "name": "stderr",
     "output_type": "stream",
     "text": [
      "/Users/admin/anaconda2/lib/python2.7/site-packages/sklearn/metrics/classification.py:1135: UndefinedMetricWarning: Precision and F-score are ill-defined and being set to 0.0 in labels with no predicted samples.\n",
      "  'precision', 'predicted', average, warn_for)\n"
     ]
    },
    {
     "name": "stdout",
     "output_type": "stream",
     "text": [
      "13\n",
      "             precision    recall  f1-score   support\n",
      "\n",
      "          1       0.00      0.00      0.00         4\n",
      "          2       0.00      0.00      0.00        25\n",
      "          3       0.50      0.04      0.08        67\n",
      "          4       0.21      0.02      0.04       147\n",
      "          5       0.48      0.63      0.54       507\n",
      "          6       0.44      0.53      0.48       484\n",
      "          7       0.57      0.51      0.54       266\n",
      "\n",
      "avg / total       0.45      0.48      0.44      1500\n",
      "\n"
     ]
    },
    {
     "name": "stderr",
     "output_type": "stream",
     "text": [
      "/Users/admin/anaconda2/lib/python2.7/site-packages/sklearn/metrics/classification.py:1135: UndefinedMetricWarning: Precision and F-score are ill-defined and being set to 0.0 in labels with no predicted samples.\n",
      "  'precision', 'predicted', average, warn_for)\n"
     ]
    },
    {
     "name": "stdout",
     "output_type": "stream",
     "text": [
      "14\n",
      "             precision    recall  f1-score   support\n",
      "\n",
      "          1       0.00      0.00      0.00         4\n",
      "          2       0.00      0.00      0.00        25\n",
      "          3       0.43      0.04      0.08        67\n",
      "          4       0.21      0.03      0.05       147\n",
      "          5       0.49      0.60      0.54       507\n",
      "          6       0.42      0.54      0.47       484\n",
      "          7       0.59      0.52      0.55       266\n",
      "\n",
      "avg / total       0.45      0.47      0.44      1500\n",
      "\n"
     ]
    },
    {
     "name": "stderr",
     "output_type": "stream",
     "text": [
      "/Users/admin/anaconda2/lib/python2.7/site-packages/sklearn/metrics/classification.py:1135: UndefinedMetricWarning: Precision and F-score are ill-defined and being set to 0.0 in labels with no predicted samples.\n",
      "  'precision', 'predicted', average, warn_for)\n"
     ]
    },
    {
     "name": "stdout",
     "output_type": "stream",
     "text": [
      "15\n",
      "             precision    recall  f1-score   support\n",
      "\n",
      "          1       0.00      0.00      0.00         4\n",
      "          2       0.00      0.00      0.00        25\n",
      "          3       0.25      0.03      0.05        67\n",
      "          4       0.33      0.02      0.04       147\n",
      "          5       0.50      0.60      0.55       507\n",
      "          6       0.44      0.60      0.51       484\n",
      "          7       0.63      0.53      0.57       266\n",
      "\n",
      "avg / total       0.47      0.49      0.46      1500\n",
      "\n"
     ]
    },
    {
     "name": "stderr",
     "output_type": "stream",
     "text": [
      "/Users/admin/anaconda2/lib/python2.7/site-packages/sklearn/metrics/classification.py:1135: UndefinedMetricWarning: Precision and F-score are ill-defined and being set to 0.0 in labels with no predicted samples.\n",
      "  'precision', 'predicted', average, warn_for)\n"
     ]
    },
    {
     "name": "stdout",
     "output_type": "stream",
     "text": [
      "16\n",
      "             precision    recall  f1-score   support\n",
      "\n",
      "          1       0.00      0.00      0.00         4\n",
      "          2       0.00      0.00      0.00        25\n",
      "          3       0.40      0.03      0.06        67\n",
      "          4       0.17      0.01      0.03       147\n",
      "          5       0.49      0.62      0.55       507\n",
      "          6       0.44      0.57      0.50       484\n",
      "          7       0.60      0.52      0.56       266\n",
      "\n",
      "avg / total       0.45      0.49      0.45      1500\n",
      "\n"
     ]
    },
    {
     "name": "stderr",
     "output_type": "stream",
     "text": [
      "/Users/admin/anaconda2/lib/python2.7/site-packages/sklearn/metrics/classification.py:1135: UndefinedMetricWarning: Precision and F-score are ill-defined and being set to 0.0 in labels with no predicted samples.\n",
      "  'precision', 'predicted', average, warn_for)\n"
     ]
    },
    {
     "name": "stdout",
     "output_type": "stream",
     "text": [
      "17\n",
      "             precision    recall  f1-score   support\n",
      "\n",
      "          1       0.00      0.00      0.00         4\n",
      "          2       0.00      0.00      0.00        25\n",
      "          3       0.30      0.04      0.08        67\n",
      "          4       0.22      0.01      0.03       147\n",
      "          5       0.49      0.59      0.54       507\n",
      "          6       0.44      0.59      0.51       484\n",
      "          7       0.61      0.51      0.55       266\n",
      "\n",
      "avg / total       0.45      0.48      0.45      1500\n",
      "\n"
     ]
    },
    {
     "name": "stderr",
     "output_type": "stream",
     "text": [
      "/Users/admin/anaconda2/lib/python2.7/site-packages/sklearn/metrics/classification.py:1135: UndefinedMetricWarning: Precision and F-score are ill-defined and being set to 0.0 in labels with no predicted samples.\n",
      "  'precision', 'predicted', average, warn_for)\n"
     ]
    },
    {
     "name": "stdout",
     "output_type": "stream",
     "text": [
      "18\n",
      "             precision    recall  f1-score   support\n",
      "\n",
      "          1       0.00      0.00      0.00         4\n",
      "          2       0.00      0.00      0.00        25\n",
      "          3       0.50      0.04      0.08        67\n",
      "          4       0.29      0.04      0.07       147\n",
      "          5       0.51      0.63      0.56       507\n",
      "          6       0.46      0.58      0.51       484\n",
      "          7       0.60      0.51      0.55       266\n",
      "\n",
      "avg / total       0.47      0.50      0.46      1500\n",
      "\n"
     ]
    },
    {
     "name": "stderr",
     "output_type": "stream",
     "text": [
      "/Users/admin/anaconda2/lib/python2.7/site-packages/sklearn/metrics/classification.py:1135: UndefinedMetricWarning: Precision and F-score are ill-defined and being set to 0.0 in labels with no predicted samples.\n",
      "  'precision', 'predicted', average, warn_for)\n"
     ]
    },
    {
     "name": "stdout",
     "output_type": "stream",
     "text": [
      "19\n",
      "             precision    recall  f1-score   support\n",
      "\n",
      "          1       0.00      0.00      0.00         4\n",
      "          2       0.00      0.00      0.00        25\n",
      "          3       0.40      0.06      0.10        67\n",
      "          4       0.09      0.01      0.01       147\n",
      "          5       0.50      0.60      0.55       507\n",
      "          6       0.46      0.61      0.52       484\n",
      "          7       0.60      0.50      0.55       266\n",
      "\n",
      "avg / total       0.45      0.49      0.46      1500\n",
      "\n"
     ]
    },
    {
     "name": "stderr",
     "output_type": "stream",
     "text": [
      "/Users/admin/anaconda2/lib/python2.7/site-packages/sklearn/metrics/classification.py:1135: UndefinedMetricWarning: Precision and F-score are ill-defined and being set to 0.0 in labels with no predicted samples.\n",
      "  'precision', 'predicted', average, warn_for)\n"
     ]
    },
    {
     "name": "stdout",
     "output_type": "stream",
     "text": [
      "20\n",
      "             precision    recall  f1-score   support\n",
      "\n",
      "          1       0.00      0.00      0.00         4\n",
      "          2       0.00      0.00      0.00        25\n",
      "          3       0.43      0.04      0.08        67\n",
      "          4       0.25      0.02      0.04       147\n",
      "          5       0.52      0.62      0.56       507\n",
      "          6       0.47      0.62      0.53       484\n",
      "          7       0.59      0.52      0.56       266\n",
      "\n",
      "avg / total       0.48      0.51      0.47      1500\n",
      "\n"
     ]
    },
    {
     "name": "stderr",
     "output_type": "stream",
     "text": [
      "/Users/admin/anaconda2/lib/python2.7/site-packages/sklearn/metrics/classification.py:1135: UndefinedMetricWarning: Precision and F-score are ill-defined and being set to 0.0 in labels with no predicted samples.\n",
      "  'precision', 'predicted', average, warn_for)\n"
     ]
    },
    {
     "name": "stdout",
     "output_type": "stream",
     "text": [
      "21\n",
      "             precision    recall  f1-score   support\n",
      "\n",
      "          1       0.00      0.00      0.00         4\n",
      "          2       0.00      0.00      0.00        25\n",
      "          3       0.33      0.03      0.05        67\n",
      "          4       0.19      0.02      0.04       147\n",
      "          5       0.49      0.61      0.55       507\n",
      "          6       0.45      0.58      0.51       484\n",
      "          7       0.63      0.53      0.58       266\n",
      "\n",
      "avg / total       0.46      0.49      0.46      1500\n",
      "\n"
     ]
    },
    {
     "name": "stderr",
     "output_type": "stream",
     "text": [
      "/Users/admin/anaconda2/lib/python2.7/site-packages/sklearn/metrics/classification.py:1135: UndefinedMetricWarning: Precision and F-score are ill-defined and being set to 0.0 in labels with no predicted samples.\n",
      "  'precision', 'predicted', average, warn_for)\n"
     ]
    },
    {
     "name": "stdout",
     "output_type": "stream",
     "text": [
      "22\n",
      "             precision    recall  f1-score   support\n",
      "\n",
      "          1       0.00      0.00      0.00         4\n",
      "          2       0.00      0.00      0.00        25\n",
      "          3       0.40      0.03      0.06        67\n",
      "          4       0.40      0.04      0.07       147\n",
      "          5       0.48      0.61      0.54       507\n",
      "          6       0.44      0.56      0.49       484\n",
      "          7       0.62      0.52      0.56       266\n",
      "\n",
      "avg / total       0.47      0.48      0.45      1500\n",
      "\n"
     ]
    },
    {
     "name": "stderr",
     "output_type": "stream",
     "text": [
      "/Users/admin/anaconda2/lib/python2.7/site-packages/sklearn/metrics/classification.py:1135: UndefinedMetricWarning: Precision and F-score are ill-defined and being set to 0.0 in labels with no predicted samples.\n",
      "  'precision', 'predicted', average, warn_for)\n"
     ]
    },
    {
     "name": "stdout",
     "output_type": "stream",
     "text": [
      "23\n",
      "             precision    recall  f1-score   support\n",
      "\n",
      "          1       0.00      0.00      0.00         4\n",
      "          2       0.00      0.00      0.00        25\n",
      "          3       0.57      0.06      0.11        67\n",
      "          4       0.18      0.01      0.03       147\n",
      "          5       0.50      0.62      0.55       507\n",
      "          6       0.45      0.57      0.50       484\n",
      "          7       0.58      0.52      0.54       266\n",
      "\n",
      "avg / total       0.46      0.49      0.45      1500\n",
      "\n"
     ]
    },
    {
     "name": "stderr",
     "output_type": "stream",
     "text": [
      "/Users/admin/anaconda2/lib/python2.7/site-packages/sklearn/metrics/classification.py:1135: UndefinedMetricWarning: Precision and F-score are ill-defined and being set to 0.0 in labels with no predicted samples.\n",
      "  'precision', 'predicted', average, warn_for)\n"
     ]
    },
    {
     "name": "stdout",
     "output_type": "stream",
     "text": [
      "24\n",
      "             precision    recall  f1-score   support\n",
      "\n",
      "          1       0.00      0.00      0.00         4\n",
      "          2       0.00      0.00      0.00        25\n",
      "          3       0.00      0.00      0.00        67\n",
      "          4       0.40      0.03      0.05       147\n",
      "          5       0.50      0.66      0.57       507\n",
      "          6       0.47      0.58      0.52       484\n",
      "          7       0.61      0.52      0.56       266\n",
      "\n",
      "avg / total       0.47      0.51      0.47      1500\n",
      "\n"
     ]
    },
    {
     "name": "stderr",
     "output_type": "stream",
     "text": [
      "/Users/admin/anaconda2/lib/python2.7/site-packages/sklearn/metrics/classification.py:1135: UndefinedMetricWarning: Precision and F-score are ill-defined and being set to 0.0 in labels with no predicted samples.\n",
      "  'precision', 'predicted', average, warn_for)\n"
     ]
    },
    {
     "name": "stdout",
     "output_type": "stream",
     "text": [
      "25\n",
      "             precision    recall  f1-score   support\n",
      "\n",
      "          1       0.00      0.00      0.00         4\n",
      "          2       0.00      0.00      0.00        25\n",
      "          3       0.33      0.03      0.05        67\n",
      "          4       0.08      0.01      0.01       147\n",
      "          5       0.50      0.60      0.55       507\n",
      "          6       0.46      0.59      0.52       484\n",
      "          7       0.61      0.55      0.58       266\n",
      "\n",
      "avg / total       0.45      0.49      0.46      1500\n",
      "\n"
     ]
    },
    {
     "name": "stderr",
     "output_type": "stream",
     "text": [
      "/Users/admin/anaconda2/lib/python2.7/site-packages/sklearn/metrics/classification.py:1135: UndefinedMetricWarning: Precision and F-score are ill-defined and being set to 0.0 in labels with no predicted samples.\n",
      "  'precision', 'predicted', average, warn_for)\n"
     ]
    },
    {
     "name": "stdout",
     "output_type": "stream",
     "text": [
      "26\n",
      "             precision    recall  f1-score   support\n",
      "\n",
      "          1       0.00      0.00      0.00         4\n",
      "          2       0.00      0.00      0.00        25\n",
      "          3       0.33      0.03      0.05        67\n",
      "          4       0.29      0.01      0.03       147\n",
      "          5       0.48      0.63      0.54       507\n",
      "          6       0.45      0.54      0.49       484\n",
      "          7       0.60      0.54      0.57       266\n",
      "\n",
      "avg / total       0.46      0.48      0.45      1500\n",
      "\n"
     ]
    },
    {
     "name": "stderr",
     "output_type": "stream",
     "text": [
      "/Users/admin/anaconda2/lib/python2.7/site-packages/sklearn/metrics/classification.py:1135: UndefinedMetricWarning: Precision and F-score are ill-defined and being set to 0.0 in labels with no predicted samples.\n",
      "  'precision', 'predicted', average, warn_for)\n"
     ]
    },
    {
     "name": "stdout",
     "output_type": "stream",
     "text": [
      "27\n",
      "             precision    recall  f1-score   support\n",
      "\n",
      "          1       0.00      0.00      0.00         4\n",
      "          2       0.00      0.00      0.00        25\n",
      "          3       0.50      0.04      0.08        67\n",
      "          4       0.11      0.01      0.01       147\n",
      "          5       0.50      0.64      0.56       507\n",
      "          6       0.45      0.54      0.49       484\n",
      "          7       0.60      0.54      0.57       266\n",
      "\n",
      "avg / total       0.45      0.49      0.45      1500\n",
      "\n"
     ]
    },
    {
     "name": "stderr",
     "output_type": "stream",
     "text": [
      "/Users/admin/anaconda2/lib/python2.7/site-packages/sklearn/metrics/classification.py:1135: UndefinedMetricWarning: Precision and F-score are ill-defined and being set to 0.0 in labels with no predicted samples.\n",
      "  'precision', 'predicted', average, warn_for)\n"
     ]
    },
    {
     "name": "stdout",
     "output_type": "stream",
     "text": [
      "28\n",
      "             precision    recall  f1-score   support\n",
      "\n",
      "          1       0.00      0.00      0.00         4\n",
      "          2       0.00      0.00      0.00        25\n",
      "          3       0.60      0.04      0.08        67\n",
      "          4       0.25      0.02      0.04       147\n",
      "          5       0.51      0.64      0.56       507\n",
      "          6       0.47      0.60      0.53       484\n",
      "          7       0.61      0.53      0.57       266\n",
      "\n",
      "avg / total       0.48      0.51      0.47      1500\n",
      "\n"
     ]
    },
    {
     "name": "stderr",
     "output_type": "stream",
     "text": [
      "/Users/admin/anaconda2/lib/python2.7/site-packages/sklearn/metrics/classification.py:1135: UndefinedMetricWarning: Precision and F-score are ill-defined and being set to 0.0 in labels with no predicted samples.\n",
      "  'precision', 'predicted', average, warn_for)\n"
     ]
    },
    {
     "name": "stdout",
     "output_type": "stream",
     "text": [
      "29\n",
      "             precision    recall  f1-score   support\n",
      "\n",
      "          1       0.00      0.00      0.00         4\n",
      "          2       0.00      0.00      0.00        25\n",
      "          3       0.00      0.00      0.00        67\n",
      "          4       0.33      0.01      0.01       147\n",
      "          5       0.47      0.61      0.53       507\n",
      "          6       0.45      0.57      0.50       484\n",
      "          7       0.62      0.53      0.57       266\n",
      "\n",
      "avg / total       0.45      0.48      0.44      1500\n",
      "\n"
     ]
    },
    {
     "name": "stderr",
     "output_type": "stream",
     "text": [
      "/Users/admin/anaconda2/lib/python2.7/site-packages/sklearn/metrics/classification.py:1135: UndefinedMetricWarning: Precision and F-score are ill-defined and being set to 0.0 in labels with no predicted samples.\n",
      "  'precision', 'predicted', average, warn_for)\n"
     ]
    },
    {
     "name": "stdout",
     "output_type": "stream",
     "text": [
      "30\n",
      "             precision    recall  f1-score   support\n",
      "\n",
      "          1       0.00      0.00      0.00         4\n",
      "          2       0.00      0.00      0.00        25\n",
      "          3       0.25      0.01      0.03        67\n",
      "          4       0.00      0.00      0.00       147\n",
      "          5       0.48      0.64      0.55       507\n",
      "          6       0.44      0.53      0.48       484\n",
      "          7       0.59      0.52      0.55       266\n",
      "\n",
      "avg / total       0.42      0.48      0.44      1500\n",
      "\n"
     ]
    },
    {
     "name": "stderr",
     "output_type": "stream",
     "text": [
      "/Users/admin/anaconda2/lib/python2.7/site-packages/sklearn/metrics/classification.py:1135: UndefinedMetricWarning: Precision and F-score are ill-defined and being set to 0.0 in labels with no predicted samples.\n",
      "  'precision', 'predicted', average, warn_for)\n"
     ]
    },
    {
     "name": "stdout",
     "output_type": "stream",
     "text": [
      "31\n",
      "             precision    recall  f1-score   support\n",
      "\n",
      "          1       0.00      0.00      0.00         4\n",
      "          2       0.00      0.00      0.00        25\n",
      "          3       0.50      0.01      0.03        67\n",
      "          4       0.15      0.01      0.03       147\n",
      "          5       0.50      0.65      0.56       507\n",
      "          6       0.47      0.58      0.52       484\n",
      "          7       0.61      0.53      0.57       266\n",
      "\n",
      "avg / total       0.47      0.50      0.46      1500\n",
      "\n"
     ]
    },
    {
     "name": "stderr",
     "output_type": "stream",
     "text": [
      "/Users/admin/anaconda2/lib/python2.7/site-packages/sklearn/metrics/classification.py:1135: UndefinedMetricWarning: Precision and F-score are ill-defined and being set to 0.0 in labels with no predicted samples.\n",
      "  'precision', 'predicted', average, warn_for)\n"
     ]
    },
    {
     "name": "stdout",
     "output_type": "stream",
     "text": [
      "32\n",
      "             precision    recall  f1-score   support\n",
      "\n",
      "          1       0.00      0.00      0.00         4\n",
      "          2       0.00      0.00      0.00        25\n",
      "          3       1.00      0.01      0.03        67\n",
      "          4       0.25      0.01      0.01       147\n",
      "          5       0.47      0.64      0.54       507\n",
      "          6       0.44      0.52      0.48       484\n",
      "          7       0.62      0.55      0.58       266\n",
      "\n",
      "avg / total       0.48      0.48      0.44      1500\n",
      "\n"
     ]
    },
    {
     "name": "stderr",
     "output_type": "stream",
     "text": [
      "/Users/admin/anaconda2/lib/python2.7/site-packages/sklearn/metrics/classification.py:1135: UndefinedMetricWarning: Precision and F-score are ill-defined and being set to 0.0 in labels with no predicted samples.\n",
      "  'precision', 'predicted', average, warn_for)\n"
     ]
    },
    {
     "name": "stdout",
     "output_type": "stream",
     "text": [
      "33\n",
      "             precision    recall  f1-score   support\n",
      "\n",
      "          1       0.00      0.00      0.00         4\n",
      "          2       0.00      0.00      0.00        25\n",
      "          3       0.00      0.00      0.00        67\n",
      "          4       0.10      0.01      0.01       147\n",
      "          5       0.46      0.63      0.54       507\n",
      "          6       0.46      0.53      0.49       484\n",
      "          7       0.64      0.56      0.60       266\n",
      "\n",
      "avg / total       0.43      0.49      0.45      1500\n",
      "\n"
     ]
    },
    {
     "name": "stderr",
     "output_type": "stream",
     "text": [
      "/Users/admin/anaconda2/lib/python2.7/site-packages/sklearn/metrics/classification.py:1135: UndefinedMetricWarning: Precision and F-score are ill-defined and being set to 0.0 in labels with no predicted samples.\n",
      "  'precision', 'predicted', average, warn_for)\n"
     ]
    },
    {
     "name": "stdout",
     "output_type": "stream",
     "text": [
      "34\n",
      "             precision    recall  f1-score   support\n",
      "\n",
      "          1       0.00      0.00      0.00         4\n",
      "          2       0.00      0.00      0.00        25\n",
      "          3       0.00      0.00      0.00        67\n",
      "          4       0.00      0.00      0.00       147\n",
      "          5       0.48      0.62      0.54       507\n",
      "          6       0.45      0.57      0.50       484\n",
      "          7       0.62      0.52      0.57       266\n",
      "\n",
      "avg / total       0.42      0.49      0.45      1500\n",
      "\n"
     ]
    },
    {
     "name": "stderr",
     "output_type": "stream",
     "text": [
      "/Users/admin/anaconda2/lib/python2.7/site-packages/sklearn/metrics/classification.py:1135: UndefinedMetricWarning: Precision and F-score are ill-defined and being set to 0.0 in labels with no predicted samples.\n",
      "  'precision', 'predicted', average, warn_for)\n"
     ]
    },
    {
     "name": "stdout",
     "output_type": "stream",
     "text": [
      "35\n",
      "             precision    recall  f1-score   support\n",
      "\n",
      "          1       0.00      0.00      0.00         4\n",
      "          2       0.00      0.00      0.00        25\n",
      "          3       0.00      0.00      0.00        67\n",
      "          4       0.38      0.02      0.04       147\n",
      "          5       0.47      0.63      0.54       507\n",
      "          6       0.46      0.57      0.51       484\n",
      "          7       0.66      0.51      0.57       266\n",
      "\n",
      "avg / total       0.46      0.49      0.45      1500\n",
      "\n"
     ]
    },
    {
     "name": "stderr",
     "output_type": "stream",
     "text": [
      "/Users/admin/anaconda2/lib/python2.7/site-packages/sklearn/metrics/classification.py:1135: UndefinedMetricWarning: Precision and F-score are ill-defined and being set to 0.0 in labels with no predicted samples.\n",
      "  'precision', 'predicted', average, warn_for)\n"
     ]
    },
    {
     "name": "stdout",
     "output_type": "stream",
     "text": [
      "36\n",
      "             precision    recall  f1-score   support\n",
      "\n",
      "          1       0.00      0.00      0.00         4\n",
      "          2       0.00      0.00      0.00        25\n",
      "          3       0.00      0.00      0.00        67\n",
      "          4       0.20      0.01      0.01       147\n",
      "          5       0.47      0.65      0.55       507\n",
      "          6       0.46      0.54      0.50       484\n",
      "          7       0.62      0.51      0.56       266\n",
      "\n",
      "avg / total       0.44      0.49      0.45      1500\n",
      "\n"
     ]
    },
    {
     "name": "stderr",
     "output_type": "stream",
     "text": [
      "/Users/admin/anaconda2/lib/python2.7/site-packages/sklearn/metrics/classification.py:1135: UndefinedMetricWarning: Precision and F-score are ill-defined and being set to 0.0 in labels with no predicted samples.\n",
      "  'precision', 'predicted', average, warn_for)\n"
     ]
    },
    {
     "name": "stdout",
     "output_type": "stream",
     "text": [
      "37\n",
      "             precision    recall  f1-score   support\n",
      "\n",
      "          1       0.00      0.00      0.00         4\n",
      "          2       0.00      0.00      0.00        25\n",
      "          3       0.67      0.03      0.06        67\n",
      "          4       0.12      0.01      0.01       147\n",
      "          5       0.49      0.66      0.56       507\n",
      "          6       0.46      0.56      0.50       484\n",
      "          7       0.60      0.52      0.56       266\n",
      "\n",
      "avg / total       0.46      0.50      0.46      1500\n",
      "\n"
     ]
    },
    {
     "name": "stderr",
     "output_type": "stream",
     "text": [
      "/Users/admin/anaconda2/lib/python2.7/site-packages/sklearn/metrics/classification.py:1135: UndefinedMetricWarning: Precision and F-score are ill-defined and being set to 0.0 in labels with no predicted samples.\n",
      "  'precision', 'predicted', average, warn_for)\n"
     ]
    },
    {
     "name": "stdout",
     "output_type": "stream",
     "text": [
      "38\n",
      "             precision    recall  f1-score   support\n",
      "\n",
      "          1       0.00      0.00      0.00         4\n",
      "          2       0.00      0.00      0.00        25\n",
      "          3       1.00      0.01      0.03        67\n",
      "          4       0.00      0.00      0.00       147\n",
      "          5       0.48      0.65      0.56       507\n",
      "          6       0.44      0.53      0.48       484\n",
      "          7       0.62      0.51      0.56       266\n",
      "\n",
      "avg / total       0.46      0.48      0.44      1500\n",
      "\n"
     ]
    },
    {
     "name": "stderr",
     "output_type": "stream",
     "text": [
      "/Users/admin/anaconda2/lib/python2.7/site-packages/sklearn/metrics/classification.py:1135: UndefinedMetricWarning: Precision and F-score are ill-defined and being set to 0.0 in labels with no predicted samples.\n",
      "  'precision', 'predicted', average, warn_for)\n"
     ]
    },
    {
     "name": "stdout",
     "output_type": "stream",
     "text": [
      "39\n",
      "             precision    recall  f1-score   support\n",
      "\n",
      "          1       0.00      0.00      0.00         4\n",
      "          2       0.00      0.00      0.00        25\n",
      "          3       0.00      0.00      0.00        67\n",
      "          4       0.33      0.02      0.04       147\n",
      "          5       0.48      0.66      0.56       507\n",
      "          6       0.45      0.54      0.49       484\n",
      "          7       0.65      0.53      0.58       266\n",
      "\n",
      "avg / total       0.46      0.49      0.45      1500\n",
      "\n"
     ]
    },
    {
     "name": "stderr",
     "output_type": "stream",
     "text": [
      "/Users/admin/anaconda2/lib/python2.7/site-packages/sklearn/metrics/classification.py:1135: UndefinedMetricWarning: Precision and F-score are ill-defined and being set to 0.0 in labels with no predicted samples.\n",
      "  'precision', 'predicted', average, warn_for)\n"
     ]
    },
    {
     "name": "stdout",
     "output_type": "stream",
     "text": [
      "40\n",
      "             precision    recall  f1-score   support\n",
      "\n",
      "          1       0.00      0.00      0.00         4\n",
      "          2       0.00      0.00      0.00        25\n",
      "          3       0.50      0.01      0.03        67\n",
      "          4       0.14      0.01      0.01       147\n",
      "          5       0.47      0.65      0.55       507\n",
      "          6       0.46      0.54      0.50       484\n",
      "          7       0.66      0.55      0.60       266\n",
      "\n",
      "avg / total       0.46      0.49      0.45      1500\n",
      "\n"
     ]
    },
    {
     "name": "stderr",
     "output_type": "stream",
     "text": [
      "/Users/admin/anaconda2/lib/python2.7/site-packages/sklearn/metrics/classification.py:1135: UndefinedMetricWarning: Precision and F-score are ill-defined and being set to 0.0 in labels with no predicted samples.\n",
      "  'precision', 'predicted', average, warn_for)\n"
     ]
    },
    {
     "name": "stdout",
     "output_type": "stream",
     "text": [
      "41\n",
      "             precision    recall  f1-score   support\n",
      "\n",
      "          1       0.00      0.00      0.00         4\n",
      "          2       0.00      0.00      0.00        25\n",
      "          3       0.00      0.00      0.00        67\n",
      "          4       0.12      0.01      0.01       147\n",
      "          5       0.48      0.64      0.54       507\n",
      "          6       0.46      0.56      0.50       484\n",
      "          7       0.65      0.52      0.58       266\n",
      "\n",
      "avg / total       0.44      0.49      0.45      1500\n",
      "\n"
     ]
    },
    {
     "name": "stderr",
     "output_type": "stream",
     "text": [
      "/Users/admin/anaconda2/lib/python2.7/site-packages/sklearn/metrics/classification.py:1135: UndefinedMetricWarning: Precision and F-score are ill-defined and being set to 0.0 in labels with no predicted samples.\n",
      "  'precision', 'predicted', average, warn_for)\n"
     ]
    },
    {
     "name": "stdout",
     "output_type": "stream",
     "text": [
      "42\n",
      "             precision    recall  f1-score   support\n",
      "\n",
      "          1       0.00      0.00      0.00         4\n",
      "          2       0.00      0.00      0.00        25\n",
      "          3       0.00      0.00      0.00        67\n",
      "          4       0.00      0.00      0.00       147\n",
      "          5       0.48      0.67      0.56       507\n",
      "          6       0.46      0.53      0.49       484\n",
      "          7       0.65      0.54      0.59       266\n",
      "\n",
      "avg / total       0.43      0.49      0.45      1500\n",
      "\n"
     ]
    },
    {
     "name": "stderr",
     "output_type": "stream",
     "text": [
      "/Users/admin/anaconda2/lib/python2.7/site-packages/sklearn/metrics/classification.py:1135: UndefinedMetricWarning: Precision and F-score are ill-defined and being set to 0.0 in labels with no predicted samples.\n",
      "  'precision', 'predicted', average, warn_for)\n"
     ]
    },
    {
     "name": "stdout",
     "output_type": "stream",
     "text": [
      "43\n",
      "             precision    recall  f1-score   support\n",
      "\n",
      "          1       0.00      0.00      0.00         4\n",
      "          2       0.00      0.00      0.00        25\n",
      "          3       0.00      0.00      0.00        67\n",
      "          4       0.33      0.01      0.03       147\n",
      "          5       0.49      0.67      0.57       507\n",
      "          6       0.47      0.56      0.51       484\n",
      "          7       0.62      0.53      0.57       266\n",
      "\n",
      "avg / total       0.46      0.50      0.46      1500\n",
      "\n"
     ]
    },
    {
     "name": "stderr",
     "output_type": "stream",
     "text": [
      "/Users/admin/anaconda2/lib/python2.7/site-packages/sklearn/metrics/classification.py:1135: UndefinedMetricWarning: Precision and F-score are ill-defined and being set to 0.0 in labels with no predicted samples.\n",
      "  'precision', 'predicted', average, warn_for)\n"
     ]
    },
    {
     "name": "stdout",
     "output_type": "stream",
     "text": [
      "44\n",
      "             precision    recall  f1-score   support\n",
      "\n",
      "          1       0.00      0.00      0.00         4\n",
      "          2       0.00      0.00      0.00        25\n",
      "          3       1.00      0.01      0.03        67\n",
      "          4       0.17      0.01      0.03       147\n",
      "          5       0.47      0.66      0.55       507\n",
      "          6       0.47      0.54      0.50       484\n",
      "          7       0.65      0.52      0.57       266\n",
      "\n",
      "avg / total       0.48      0.49      0.45      1500\n",
      "\n"
     ]
    },
    {
     "name": "stderr",
     "output_type": "stream",
     "text": [
      "/Users/admin/anaconda2/lib/python2.7/site-packages/sklearn/metrics/classification.py:1135: UndefinedMetricWarning: Precision and F-score are ill-defined and being set to 0.0 in labels with no predicted samples.\n",
      "  'precision', 'predicted', average, warn_for)\n"
     ]
    },
    {
     "name": "stdout",
     "output_type": "stream",
     "text": [
      "45\n",
      "             precision    recall  f1-score   support\n",
      "\n",
      "          1       0.00      0.00      0.00         4\n",
      "          2       0.00      0.00      0.00        25\n",
      "          3       0.00      0.00      0.00        67\n",
      "          4       0.33      0.01      0.03       147\n",
      "          5       0.47      0.67      0.55       507\n",
      "          6       0.47      0.55      0.50       484\n",
      "          7       0.64      0.50      0.56       266\n",
      "\n",
      "avg / total       0.46      0.49      0.45      1500\n",
      "\n"
     ]
    },
    {
     "name": "stderr",
     "output_type": "stream",
     "text": [
      "/Users/admin/anaconda2/lib/python2.7/site-packages/sklearn/metrics/classification.py:1135: UndefinedMetricWarning: Precision and F-score are ill-defined and being set to 0.0 in labels with no predicted samples.\n",
      "  'precision', 'predicted', average, warn_for)\n"
     ]
    },
    {
     "name": "stdout",
     "output_type": "stream",
     "text": [
      "46\n",
      "             precision    recall  f1-score   support\n",
      "\n",
      "          1       0.00      0.00      0.00         4\n",
      "          2       0.00      0.00      0.00        25\n",
      "          3       0.00      0.00      0.00        67\n",
      "          4       0.20      0.01      0.03       147\n",
      "          5       0.49      0.63      0.55       507\n",
      "          6       0.46      0.60      0.52       484\n",
      "          7       0.66      0.51      0.57       266\n",
      "\n",
      "avg / total       0.45      0.50      0.46      1500\n",
      "\n"
     ]
    },
    {
     "name": "stderr",
     "output_type": "stream",
     "text": [
      "/Users/admin/anaconda2/lib/python2.7/site-packages/sklearn/metrics/classification.py:1135: UndefinedMetricWarning: Precision and F-score are ill-defined and being set to 0.0 in labels with no predicted samples.\n",
      "  'precision', 'predicted', average, warn_for)\n"
     ]
    },
    {
     "name": "stdout",
     "output_type": "stream",
     "text": [
      "47\n",
      "             precision    recall  f1-score   support\n",
      "\n",
      "          1       0.00      0.00      0.00         4\n",
      "          2       0.00      0.00      0.00        25\n",
      "          3       0.00      0.00      0.00        67\n",
      "          4       0.00      0.00      0.00       147\n",
      "          5       0.47      0.65      0.54       507\n",
      "          6       0.46      0.54      0.49       484\n",
      "          7       0.64      0.53      0.58       266\n",
      "\n",
      "avg / total       0.42      0.49      0.45      1500\n",
      "\n"
     ]
    },
    {
     "name": "stderr",
     "output_type": "stream",
     "text": [
      "/Users/admin/anaconda2/lib/python2.7/site-packages/sklearn/metrics/classification.py:1135: UndefinedMetricWarning: Precision and F-score are ill-defined and being set to 0.0 in labels with no predicted samples.\n",
      "  'precision', 'predicted', average, warn_for)\n"
     ]
    },
    {
     "name": "stdout",
     "output_type": "stream",
     "text": [
      "48\n",
      "             precision    recall  f1-score   support\n",
      "\n",
      "          1       0.00      0.00      0.00         4\n",
      "          2       0.00      0.00      0.00        25\n",
      "          3       0.50      0.01      0.03        67\n",
      "          4       0.14      0.01      0.01       147\n",
      "          5       0.48      0.68      0.56       507\n",
      "          6       0.47      0.53      0.50       484\n",
      "          7       0.61      0.51      0.55       266\n",
      "\n",
      "avg / total       0.46      0.49      0.45      1500\n",
      "\n"
     ]
    },
    {
     "name": "stderr",
     "output_type": "stream",
     "text": [
      "/Users/admin/anaconda2/lib/python2.7/site-packages/sklearn/metrics/classification.py:1135: UndefinedMetricWarning: Precision and F-score are ill-defined and being set to 0.0 in labels with no predicted samples.\n",
      "  'precision', 'predicted', average, warn_for)\n"
     ]
    },
    {
     "name": "stdout",
     "output_type": "stream",
     "text": [
      "49\n",
      "             precision    recall  f1-score   support\n",
      "\n",
      "          1       0.00      0.00      0.00         4\n",
      "          2       0.00      0.00      0.00        25\n",
      "          3       1.00      0.01      0.03        67\n",
      "          4       0.00      0.00      0.00       147\n",
      "          5       0.48      0.66      0.56       507\n",
      "          6       0.48      0.58      0.53       484\n",
      "          7       0.62      0.50      0.56       266\n",
      "\n",
      "avg / total       0.47      0.50      0.46      1500\n",
      "\n"
     ]
    },
    {
     "name": "stderr",
     "output_type": "stream",
     "text": [
      "/Users/admin/anaconda2/lib/python2.7/site-packages/sklearn/metrics/classification.py:1135: UndefinedMetricWarning: Precision and F-score are ill-defined and being set to 0.0 in labels with no predicted samples.\n",
      "  'precision', 'predicted', average, warn_for)\n"
     ]
    },
    {
     "name": "stdout",
     "output_type": "stream",
     "text": [
      "50\n",
      "             precision    recall  f1-score   support\n",
      "\n",
      "          1       0.00      0.00      0.00         4\n",
      "          2       0.00      0.00      0.00        25\n",
      "          3       1.00      0.01      0.03        67\n",
      "          4       0.14      0.01      0.01       147\n",
      "          5       0.48      0.68      0.56       507\n",
      "          6       0.46      0.52      0.49       484\n",
      "          7       0.64      0.51      0.57       266\n",
      "\n",
      "avg / total       0.48      0.49      0.45      1500\n",
      "\n"
     ]
    },
    {
     "name": "stderr",
     "output_type": "stream",
     "text": [
      "/Users/admin/anaconda2/lib/python2.7/site-packages/sklearn/metrics/classification.py:1135: UndefinedMetricWarning: Precision and F-score are ill-defined and being set to 0.0 in labels with no predicted samples.\n",
      "  'precision', 'predicted', average, warn_for)\n"
     ]
    },
    {
     "name": "stdout",
     "output_type": "stream",
     "text": [
      "51\n",
      "             precision    recall  f1-score   support\n",
      "\n",
      "          1       0.00      0.00      0.00         4\n",
      "          2       0.00      0.00      0.00        25\n",
      "          3       1.00      0.03      0.06        67\n",
      "          4       0.17      0.01      0.01       147\n",
      "          5       0.49      0.66      0.56       507\n",
      "          6       0.47      0.58      0.52       484\n",
      "          7       0.62      0.50      0.55       266\n",
      "\n",
      "avg / total       0.49      0.50      0.46      1500\n",
      "\n"
     ]
    },
    {
     "name": "stderr",
     "output_type": "stream",
     "text": [
      "/Users/admin/anaconda2/lib/python2.7/site-packages/sklearn/metrics/classification.py:1135: UndefinedMetricWarning: Precision and F-score are ill-defined and being set to 0.0 in labels with no predicted samples.\n",
      "  'precision', 'predicted', average, warn_for)\n"
     ]
    },
    {
     "name": "stdout",
     "output_type": "stream",
     "text": [
      "52\n",
      "             precision    recall  f1-score   support\n",
      "\n",
      "          1       0.00      0.00      0.00         4\n",
      "          2       0.00      0.00      0.00        25\n",
      "          3       0.00      0.00      0.00        67\n",
      "          4       0.12      0.01      0.01       147\n",
      "          5       0.49      0.68      0.57       507\n",
      "          6       0.48      0.57      0.52       484\n",
      "          7       0.64      0.50      0.56       266\n",
      "\n",
      "avg / total       0.45      0.50      0.46      1500\n",
      "\n"
     ]
    },
    {
     "name": "stderr",
     "output_type": "stream",
     "text": [
      "/Users/admin/anaconda2/lib/python2.7/site-packages/sklearn/metrics/classification.py:1135: UndefinedMetricWarning: Precision and F-score are ill-defined and being set to 0.0 in labels with no predicted samples.\n",
      "  'precision', 'predicted', average, warn_for)\n"
     ]
    },
    {
     "name": "stdout",
     "output_type": "stream",
     "text": [
      "53\n",
      "             precision    recall  f1-score   support\n",
      "\n",
      "          1       0.00      0.00      0.00         4\n",
      "          2       0.00      0.00      0.00        25\n",
      "          3       0.00      0.00      0.00        67\n",
      "          4       0.25      0.01      0.03       147\n",
      "          5       0.47      0.68      0.55       507\n",
      "          6       0.47      0.52      0.49       484\n",
      "          7       0.64      0.50      0.56       266\n",
      "\n",
      "avg / total       0.45      0.49      0.45      1500\n",
      "\n"
     ]
    },
    {
     "name": "stderr",
     "output_type": "stream",
     "text": [
      "/Users/admin/anaconda2/lib/python2.7/site-packages/sklearn/metrics/classification.py:1135: UndefinedMetricWarning: Precision and F-score are ill-defined and being set to 0.0 in labels with no predicted samples.\n",
      "  'precision', 'predicted', average, warn_for)\n"
     ]
    },
    {
     "name": "stdout",
     "output_type": "stream",
     "text": [
      "54\n",
      "             precision    recall  f1-score   support\n",
      "\n",
      "          1       0.00      0.00      0.00         4\n",
      "          2       0.00      0.00      0.00        25\n",
      "          3       0.00      0.00      0.00        67\n",
      "          4       0.22      0.01      0.03       147\n",
      "          5       0.47      0.67      0.55       507\n",
      "          6       0.45      0.53      0.49       484\n",
      "          7       0.65      0.53      0.58       266\n",
      "\n",
      "avg / total       0.44      0.49      0.45      1500\n",
      "\n"
     ]
    },
    {
     "name": "stderr",
     "output_type": "stream",
     "text": [
      "/Users/admin/anaconda2/lib/python2.7/site-packages/sklearn/metrics/classification.py:1135: UndefinedMetricWarning: Precision and F-score are ill-defined and being set to 0.0 in labels with no predicted samples.\n",
      "  'precision', 'predicted', average, warn_for)\n"
     ]
    },
    {
     "name": "stdout",
     "output_type": "stream",
     "text": [
      "55\n",
      "             precision    recall  f1-score   support\n",
      "\n",
      "          1       0.00      0.00      0.00         4\n",
      "          2       0.00      0.00      0.00        25\n",
      "          3       0.00      0.00      0.00        67\n",
      "          4       0.25      0.01      0.01       147\n",
      "          5       0.48      0.65      0.55       507\n",
      "          6       0.45      0.55      0.49       484\n",
      "          7       0.61      0.52      0.56       266\n",
      "\n",
      "avg / total       0.44      0.49      0.45      1500\n",
      "\n"
     ]
    },
    {
     "name": "stderr",
     "output_type": "stream",
     "text": [
      "/Users/admin/anaconda2/lib/python2.7/site-packages/sklearn/metrics/classification.py:1135: UndefinedMetricWarning: Precision and F-score are ill-defined and being set to 0.0 in labels with no predicted samples.\n",
      "  'precision', 'predicted', average, warn_for)\n"
     ]
    },
    {
     "name": "stdout",
     "output_type": "stream",
     "text": [
      "56\n",
      "             precision    recall  f1-score   support\n",
      "\n",
      "          1       0.00      0.00      0.00         4\n",
      "          2       0.00      0.00      0.00        25\n",
      "          3       0.00      0.00      0.00        67\n",
      "          4       0.29      0.01      0.03       147\n",
      "          5       0.48      0.70      0.57       507\n",
      "          6       0.47      0.54      0.50       484\n",
      "          7       0.66      0.49      0.56       266\n",
      "\n",
      "avg / total       0.46      0.50      0.46      1500\n",
      "\n"
     ]
    },
    {
     "name": "stderr",
     "output_type": "stream",
     "text": [
      "/Users/admin/anaconda2/lib/python2.7/site-packages/sklearn/metrics/classification.py:1135: UndefinedMetricWarning: Precision and F-score are ill-defined and being set to 0.0 in labels with no predicted samples.\n",
      "  'precision', 'predicted', average, warn_for)\n"
     ]
    },
    {
     "name": "stdout",
     "output_type": "stream",
     "text": [
      "57\n",
      "             precision    recall  f1-score   support\n",
      "\n",
      "          1       0.00      0.00      0.00         4\n",
      "          2       0.00      0.00      0.00        25\n",
      "          3       0.00      0.00      0.00        67\n",
      "          4       0.50      0.01      0.03       147\n",
      "          5       0.49      0.64      0.55       507\n",
      "          6       0.45      0.58      0.51       484\n",
      "          7       0.64      0.50      0.56       266\n",
      "\n",
      "avg / total       0.47      0.49      0.45      1500\n",
      "\n"
     ]
    },
    {
     "name": "stderr",
     "output_type": "stream",
     "text": [
      "/Users/admin/anaconda2/lib/python2.7/site-packages/sklearn/metrics/classification.py:1135: UndefinedMetricWarning: Precision and F-score are ill-defined and being set to 0.0 in labels with no predicted samples.\n",
      "  'precision', 'predicted', average, warn_for)\n"
     ]
    },
    {
     "name": "stdout",
     "output_type": "stream",
     "text": [
      "58\n",
      "             precision    recall  f1-score   support\n",
      "\n",
      "          1       0.00      0.00      0.00         4\n",
      "          2       0.00      0.00      0.00        25\n",
      "          3       0.00      0.00      0.00        67\n",
      "          4       0.29      0.01      0.03       147\n",
      "          5       0.47      0.64      0.54       507\n",
      "          6       0.45      0.55      0.50       484\n",
      "          7       0.64      0.50      0.56       266\n",
      "\n",
      "avg / total       0.44      0.48      0.44      1500\n",
      "\n"
     ]
    },
    {
     "name": "stderr",
     "output_type": "stream",
     "text": [
      "/Users/admin/anaconda2/lib/python2.7/site-packages/sklearn/metrics/classification.py:1135: UndefinedMetricWarning: Precision and F-score are ill-defined and being set to 0.0 in labels with no predicted samples.\n",
      "  'precision', 'predicted', average, warn_for)\n"
     ]
    }
   ],
   "source": [
    "test_list_feature = [list_feature[x] for x in correlation[:10]]\n",
    "results_RF = []\n",
    "test_data = full_data.head(5000)\n",
    "for i in range(11, len(correlation)):\n",
    "    test_list_feature.append(list_feature[correlation[i]])\n",
    "    results_RF.append(calculateAccuracyRF(test_list_feature, test_data, 'grade'))"
   ]
  },
  {
   "cell_type": "code",
   "execution_count": 145,
   "metadata": {},
   "outputs": [
    {
     "name": "stdout",
     "output_type": "stream",
     "text": [
      "Max accuracy:  0.5066666666666667\n",
      "Number of features:  27\n"
     ]
    },
    {
     "data": {
      "image/png": "[encoded data removed]",
      "text/plain": [
       "<Figure size 432x288 with 1 Axes>"
      ]
     },
     "metadata": {},
     "output_type": "display_data"
    }
   ],
   "source": [
    "x = range(11, len(results_RF)+11)\n",
    "y = results_RF\n",
    "plt.plot(x, y, 'o', color='black');\n",
    "print \"Max accuracy: \", max(results_RF)\n",
    "print \"Number of features: \", results_RF.index(max(results_RF)) + 10"
   ]
  },
  {
   "cell_type": "markdown",
   "metadata": {},
   "source": [
    "With **Random Forest** model, we achieve the accuracy lower than **Logistic Regression** model. However, because our data varies a lot and we just perform **StandardScaler** for our data only, we should choose **Random Forest** over **Logistic Regression**. "
   ]
  },
  {
   "cell_type": "markdown",
   "metadata": {},
   "source": [
    "### Model built by Recursive Feature Selection"
   ]
  },
  {
   "cell_type": "markdown",
   "metadata": {},
   "source": [
    "I try to to do another algorithm that helps to select the best features. Now, we do not care about the correlation. We use **Recursive Feature Selection** algorithm to rank the features."
   ]
  },
  {
   "cell_type": "code",
   "execution_count": 88,
   "metadata": {
    "collapsed": true
   },
   "outputs": [],
   "source": [
    "def tryCorrelation(outcome, useRF):\n",
    "    correlation = list_feature.keys()\n",
    "    correlation.sort(reverse=True)\n",
    "\n",
    "    test_list_feature = [list_feature[x] for x in correlation[:10]]\n",
    "    results_LR = []\n",
    "    test_data = full_data.head(5000)\n",
    "    for i in range(11, len(correlation)):\n",
    "        test_list_feature.append(list_feature[correlation[i]])\n",
    "        if useRF:\n",
    "            results_LR.append(calculateAccuracyRF(test_list_feature, test_data, outcome))\n",
    "        else:\n",
    "            results_LR.append(calculateAccuracy(test_list_feature, test_data, outcome))\n",
    "    x = range(11, len(results_LR)+11)\n",
    "    y = results_RF\n",
    "    plt.plot(x, y, 'o', color='black');\n",
    "\n",
    "tryCorrelation('grade_C', False)"
   ]
  },
  {
   "cell_type": "code",
   "execution_count": 142,
   "metadata": {},
   "outputs": [],
   "source": [
    "from sklearn.linear_model import RandomizedLasso\n",
    "from sklearn.feature_selection import RFE\n",
    "\n",
    "data = full_data.head(5000)\n",
    "X = pd.DataFrame(data, columns=list_feature.values())\n",
    "y = data['grade']\n",
    " \n",
    "#use linear regression as the model\n",
    "lr = LogisticRegression()\n",
    "#rank all features, i.e continue the elimination until the last one\n",
    "rfe = RFE(lr, n_features_to_select=1)\n",
    "rfe.fit(X,y)\n",
    "map_ranking = sorted(zip(map(lambda x: round(x, 4), rfe.ranking_), list(X.columns.values)))"
   ]
  },
  {
   "cell_type": "code",
   "execution_count": 143,
   "metadata": {},
   "outputs": [
    {
     "data": {
      "text/plain": [
       "[(1.0, 'term'),\n",
       " (2.0, 'chargeoff_within_12_mths'),\n",
       " (3.0, 'pub_rec_bankruptcies'),\n",
       " (4.0, 'open_acc_6m'),\n",
       " (5.0, 'open_il_12m'),\n",
       " (6.0, 'tax_liens'),\n",
       " (7.0, 'num_tl_90g_dpd_24m'),\n",
       " (8.0, 'open_rv_24m'),\n",
       " (9.0, 'num_sats'),\n",
       " (10.0, 'open_act_il'),\n",
       " (11.0, 'num_op_rev_tl'),\n",
       " (12.0, 'delinq_2yrs'),\n",
       " (13.0, 'loan_amnt_range'),\n",
       " (14.0, 'acc_open_past_24mths'),\n",
       " (15.0, 'open_il_24m'),\n",
       " (16.0, 'num_rev_tl_bal_gt_0'),\n",
       " (17.0, 'open_rv_12m'),\n",
       " (18.0, 'num_tl_op_past_12m'),\n",
       " (19.0, 'mort_acc'),\n",
       " (20.0, 'inq_fi'),\n",
       " (21.0, 'num_actv_rev_tl'),\n",
       " (22.0, 'num_accts_ever_120_pd'),\n",
       " (23.0, 'num_bc_sats'),\n",
       " (24.0, 'num_actv_bc_tl'),\n",
       " (25.0, 'delinq_amnt'),\n",
       " (26.0, 'num_bc_tl'),\n",
       " (27.0, 'inq_last_12m'),\n",
       " (28.0, 'mths_since_rcnt_il'),\n",
       " (29.0, 'mo_sin_rcnt_tl'),\n",
       " (30.0, 'mo_sin_rcnt_rev_tl_op'),\n",
       " (31.0, 'total_cu_tl'),\n",
       " (32.0, 'num_il_tl'),\n",
       " (33.0, 'num_rev_accts'),\n",
       " (34.0, 'tot_coll_amt'),\n",
       " (35.0, 'mths_since_recent_inq'),\n",
       " (36.0, 'mths_since_recent_bc'),\n",
       " (37.0, 'dti'),\n",
       " (38.0, 'all_util'),\n",
       " (39.0, 'bc_util'),\n",
       " (40.0, 'il_util'),\n",
       " (41.0, 'installment'),\n",
       " (42.0, 'mo_sin_old_il_acct'),\n",
       " (43.0, 'mo_sin_old_rev_tl_op'),\n",
       " (44.0, 'loan_amnt'),\n",
       " (45.0, 'revol_bal'),\n",
       " (46.0, 'total_rev_hi_lim'),\n",
       " (47.0, 'max_bal_bc'),\n",
       " (48.0, 'total_bc_limit'),\n",
       " (49.0, 'avg_cur_bal'),\n",
       " (50.0, 'tot_cur_bal'),\n",
       " (51.0, 'tot_hi_cred_lim'),\n",
       " (52.0, 'total_bal_ex_mort'),\n",
       " (53.0, 'total_bal_il'),\n",
       " (54.0, 'acc_now_delinq'),\n",
       " (55.0, 'bc_open_to_buy'),\n",
       " (56.0, 'num_tl_30dpd'),\n",
       " (57.0, 'annual_inc'),\n",
       " (58.0, 'total_il_high_credit_limit'),\n",
       " (59.0, 'num_tl_120dpd_2m')]"
      ]
     },
     "execution_count": 143,
     "metadata": {},
     "output_type": "execute_result"
    }
   ],
   "source": [
    "ranking, feature =  zip(*map_ranking)\n",
    "map_ranking"
   ]
  },
  {
   "cell_type": "markdown",
   "metadata": {},
   "source": [
    "As we can see, some of features such as **DTI** or **loan amount** are ranked low, which means it is the best feature and we should not eliminate them. From the previous work, we could identify that around 28 features will give out the highest recall."
   ]
  },
  {
   "cell_type": "code",
   "execution_count": 146,
   "metadata": {},
   "outputs": [
    {
     "data": {
      "text/plain": [
       "['total_cu_tl',\n",
       " 'num_il_tl',\n",
       " 'num_rev_accts',\n",
       " 'tot_coll_amt',\n",
       " 'mths_since_recent_inq',\n",
       " 'mths_since_recent_bc',\n",
       " 'dti',\n",
       " 'all_util',\n",
       " 'bc_util',\n",
       " 'il_util',\n",
       " 'installment',\n",
       " 'mo_sin_old_il_acct',\n",
       " 'mo_sin_old_rev_tl_op',\n",
       " 'loan_amnt',\n",
       " 'revol_bal',\n",
       " 'total_rev_hi_lim',\n",
       " 'max_bal_bc',\n",
       " 'total_bc_limit',\n",
       " 'avg_cur_bal',\n",
       " 'tot_cur_bal',\n",
       " 'tot_hi_cred_lim',\n",
       " 'total_bal_ex_mort',\n",
       " 'total_bal_il',\n",
       " 'acc_now_delinq',\n",
       " 'bc_open_to_buy',\n",
       " 'num_tl_30dpd',\n",
       " 'annual_inc',\n",
       " 'total_il_high_credit_limit',\n",
       " 'num_tl_120dpd_2m']"
      ]
     },
     "execution_count": 146,
     "metadata": {},
     "output_type": "execute_result"
    }
   ],
   "source": [
    "list_top_feature = []\n",
    "for i in range(0, len(ranking)):\n",
    "    if ranking[i] >= 31.0:\n",
    "        list_top_feature.append(feature[i])\n",
    "        \n",
    "list_top_feature"
   ]
  },
  {
   "cell_type": "code",
   "execution_count": 147,
   "metadata": {},
   "outputs": [
    {
     "name": "stdout",
     "output_type": "stream",
     "text": [
      "29\n",
      "             precision    recall  f1-score   support\n",
      "\n",
      "          1       0.00      0.00      0.00       148\n",
      "          2       0.00      0.00      0.00       538\n",
      "          3       0.67      0.00      0.01      1552\n",
      "          4       0.80      0.06      0.10      3507\n",
      "          5       0.44      0.72      0.54     10042\n",
      "          6       0.46      0.47      0.46      8683\n",
      "          7       0.58      0.44      0.50      4554\n",
      "\n",
      "avg / total       0.51      0.46      0.42     29024\n",
      "\n"
     ]
    },
    {
     "name": "stderr",
     "output_type": "stream",
     "text": [
      "/Users/admin/anaconda2/lib/python2.7/site-packages/sklearn/metrics/classification.py:1135: UndefinedMetricWarning: Precision and F-score are ill-defined and being set to 0.0 in labels with no predicted samples.\n",
      "  'precision', 'predicted', average, warn_for)\n"
     ]
    },
    {
     "data": {
      "text/plain": [
       "0.46337513781697903"
      ]
     },
     "execution_count": 147,
     "metadata": {},
     "output_type": "execute_result"
    }
   ],
   "source": [
    "calculateAccuracyRF(list_top_feature, full_data, 'grade')"
   ]
  },
  {
   "cell_type": "markdown",
   "metadata": {},
   "source": [
    "As we can see, if we use the **Recursive Feature Selection**, both the accuracy and recall is lower than the previous model. So we will stick to the first model."
   ]
  },
  {
   "cell_type": "code",
   "execution_count": 148,
   "metadata": {},
   "outputs": [
    {
     "name": "stdout",
     "output_type": "stream",
     "text": [
      "28\n",
      "             precision    recall  f1-score   support\n",
      "\n",
      "          1       1.00      0.01      0.01       148\n",
      "          2       0.71      0.06      0.12       538\n",
      "          3       0.68      0.05      0.09      1552\n",
      "          4       0.69      0.05      0.10      3507\n",
      "          5       0.49      0.70      0.58     10042\n",
      "          6       0.49      0.60      0.54      8683\n",
      "          7       0.65      0.51      0.57      4554\n",
      "\n",
      "avg / total       0.56      0.51      0.47     29024\n",
      "\n"
     ]
    },
    {
     "data": {
      "text/plain": [
       "0.5128169790518192"
      ]
     },
     "execution_count": 148,
     "metadata": {},
     "output_type": "execute_result"
    }
   ],
   "source": [
    "test_list_feature = [list_feature[x] for x in correlation[:28]]\n",
    "calculateAccuracyRF(test_list_feature, full_data, 'grade')"
   ]
  },
  {
   "cell_type": "markdown",
   "metadata": {},
   "source": [
    "This is our last model with the accuracy of 0.51 and recall of 0.51 with 7 classifier."
   ]
  },
  {
   "cell_type": "markdown",
   "metadata": {},
   "source": [
    "###  Further Investigation\n",
    "\n",
    "This section will answer the question _\"Whether we should remove the data of grade E, F and G\"_. What if we narrow our prediction to only predict the good loan. Do we increase the accuracy and recall."
   ]
  },
  {
   "cell_type": "code",
   "execution_count": 153,
   "metadata": {},
   "outputs": [],
   "source": [
    "filter_full_data = full_data[full_data['grade'] > 4]"
   ]
  },
  {
   "cell_type": "code",
   "execution_count": 154,
   "metadata": {},
   "outputs": [
    {
     "name": "stdout",
     "output_type": "stream",
     "text": [
      "28\n",
      "             precision    recall  f1-score   support\n",
      "\n",
      "          5       0.73      0.72      0.72     10115\n",
      "          6       0.54      0.61      0.57      8590\n",
      "          7       0.66      0.52      0.58      4522\n",
      "\n",
      "avg / total       0.64      0.64      0.64     23227\n",
      "\n"
     ]
    },
    {
     "data": {
      "text/plain": [
       "0.6389546648297241"
      ]
     },
     "execution_count": 154,
     "metadata": {},
     "output_type": "execute_result"
    }
   ],
   "source": [
    "test_list_feature = [list_feature[x] for x in correlation[:28]]\n",
    "calculateAccuracyRF(test_list_feature, filter_full_data, 'grade')"
   ]
  },
  {
   "cell_type": "markdown",
   "metadata": {},
   "source": [
    "As we can see, the accuracy and recall increase a lot because we remove grade **D**, **E**, **F** and **G**. The problem is that we lack of data of these grades. That's why our accuracy and recall are affected."
   ]
  },
  {
   "cell_type": "markdown",
   "metadata": {},
   "source": [
    "### Conclusion\n",
    "\n",
    "By building the model, we find out some features affecting directly to the loan grade such as loan amount, application type, DTI or employment length. Here is the list of features we chose to put in the model."
   ]
  },
  {
   "cell_type": "code",
   "execution_count": 155,
   "metadata": {},
   "outputs": [
    {
     "data": {
      "text/plain": [
       "['term',\n",
       " 'bc_open_to_buy',\n",
       " 'all_util',\n",
       " 'bc_util',\n",
       " 'acc_open_past_24mths',\n",
       " 'num_tl_op_past_12m',\n",
       " 'total_bc_limit',\n",
       " 'inq_last_12m',\n",
       " 'open_rv_24m',\n",
       " 'installment',\n",
       " 'open_rv_12m',\n",
       " 'open_il_12m',\n",
       " 'total_rev_hi_lim',\n",
       " 'open_acc_6m',\n",
       " 'tot_hi_cred_lim',\n",
       " 'mo_sin_old_rev_tl_op',\n",
       " 'inq_fi',\n",
       " 'open_il_24m',\n",
       " 'loan_amnt',\n",
       " 'mort_acc',\n",
       " 'loan_amnt_range',\n",
       " 'mths_since_recent_inq',\n",
       " 'il_util',\n",
       " 'dti',\n",
       " 'tot_cur_bal',\n",
       " 'mo_sin_rcnt_rev_tl_op',\n",
       " 'avg_cur_bal',\n",
       " 'mo_sin_rcnt_tl']"
      ]
     },
     "execution_count": 155,
     "metadata": {},
     "output_type": "execute_result"
    }
   ],
   "source": [
    "test_list_feature"
   ]
  },
  {
   "cell_type": "markdown",
   "metadata": {},
   "source": [
    "### Future Work\n",
    "\n",
    "With some experiences in this field, I know there are many aspects when it comes to evaluate a risk of a loan. In the future, we would like to shorten the list of features to 15 features only. We also need to collect more data about bad loans and some missing data such as **FICO score**, **personal information** of borrowers, ..."
   ]
  },
  {
   "cell_type": "code",
   "execution_count": null,
   "metadata": {},
   "outputs": [],
   "source": []
  }
 ],
 "metadata": {
  "kernelspec": {
   "display_name": "Python 3",
   "language": "python",
   "name": "python3"
  },
  "language_info": {
   "codemirror_mode": {
    "name": "ipython",
    "version": 2
   },
   "file_extension": ".py",
   "mimetype": "text/x-python",
   "name": "python",
   "nbconvert_exporter": "python",
   "pygments_lexer": "ipython2",
   "version": "2.7.15"
  }
 },
 "nbformat": 4,
 "nbformat_minor": 2
}
