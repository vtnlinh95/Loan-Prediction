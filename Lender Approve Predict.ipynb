{
 "cells": [
  {
   "cell_type": "markdown",
   "metadata": {},
   "source": [
    "### Introduction\n",
    "\n",
    "LendingTree is an online lending exchange that connects consumers with multiple lenders, banks, and credit partners who compete for business. LendingTree is not a direct supplier of loans; it is instead a broker. We will be working with LendingTree’s data to explore one of the oldest prediction problems – predicting risk on consumer loans.\n",
    "\n",
    "This notebook is used to:\n",
    "* Develop a statistical model for predicting bad loans\n",
    "* Use the model to identify the most important drivers of bad loans\n",
    "* Make recommendations to avoid funding bad loans.\n",
    "\n",
    "### Business Problem\n",
    "\n",
    "Being as a broker, playing a role as the connection between the borrowers and lenders, there are many times a broker would like to have an overview of whether a loan can be approved by lenders or not. As a result, basing on the dataset collected by **LendingTree**, we can find out the important features affecting a loan and can foresee the chance of a loan to be approved.\n",
    "\n",
    "### Explore the dataset\n",
    "\n",
    "First, we need to read the dataset"
   ]
  },
  {
   "cell_type": "code",
   "execution_count": 82,
   "metadata": {},
   "outputs": [],
   "source": [
    "import pandas as pd\n",
    "import seaborn as sb\n",
    "import matplotlib.pyplot as plt # this is used for the plot the graph \n",
    "import numpy as np\n",
    "%matplotlib inline"
   ]
  },
  {
   "cell_type": "code",
   "execution_count": 83,
   "metadata": {},
   "outputs": [],
   "source": [
    "full_data = pd.read_csv(\"loan_data.csv\", skiprows=1)"
   ]
  },
  {
   "cell_type": "markdown",
   "metadata": {},
   "source": [
    "Then, let's see what kind of data we have in the dataset by list out all of the columns in the dataset"
   ]
  },
  {
   "cell_type": "code",
   "execution_count": 57,
   "metadata": {},
   "outputs": [
    {
     "name": "stdout",
     "output_type": "stream",
     "text": [
      "Columns size: 145\n"
     ]
    },
    {
     "data": {
      "text/plain": [
       "['id',\n",
       " 'member_id',\n",
       " 'loan_amnt',\n",
       " 'funded_amnt',\n",
       " 'funded_amnt_inv',\n",
       " 'term',\n",
       " 'int_rate',\n",
       " 'installment',\n",
       " 'grade',\n",
       " 'sub_grade',\n",
       " 'emp_title',\n",
       " 'emp_length',\n",
       " 'home_ownership',\n",
       " 'annual_inc',\n",
       " 'verification_status',\n",
       " 'issue_d',\n",
       " 'loan_status',\n",
       " 'pymnt_plan',\n",
       " 'url',\n",
       " 'desc',\n",
       " 'purpose',\n",
       " 'title',\n",
       " 'zip_code',\n",
       " 'addr_state',\n",
       " 'dti',\n",
       " 'delinq_2yrs',\n",
       " 'earliest_cr_line',\n",
       " 'inq_last_6mths',\n",
       " 'mths_since_last_delinq',\n",
       " 'mths_since_last_record',\n",
       " 'open_acc',\n",
       " 'pub_rec',\n",
       " 'revol_bal',\n",
       " 'revol_util',\n",
       " 'total_acc',\n",
       " 'initial_list_status',\n",
       " 'out_prncp',\n",
       " 'out_prncp_inv',\n",
       " 'total_pymnt',\n",
       " 'total_pymnt_inv',\n",
       " 'total_rec_prncp',\n",
       " 'total_rec_int',\n",
       " 'total_rec_late_fee',\n",
       " 'recoveries',\n",
       " 'collection_recovery_fee',\n",
       " 'last_pymnt_d',\n",
       " 'last_pymnt_amnt',\n",
       " 'next_pymnt_d',\n",
       " 'last_credit_pull_d',\n",
       " 'collections_12_mths_ex_med',\n",
       " 'mths_since_last_major_derog',\n",
       " 'policy_code',\n",
       " 'application_type',\n",
       " 'annual_inc_joint',\n",
       " 'dti_joint',\n",
       " 'verification_status_joint',\n",
       " 'acc_now_delinq',\n",
       " 'tot_coll_amt',\n",
       " 'tot_cur_bal',\n",
       " 'open_acc_6m',\n",
       " 'open_act_il',\n",
       " 'open_il_12m',\n",
       " 'open_il_24m',\n",
       " 'mths_since_rcnt_il',\n",
       " 'total_bal_il',\n",
       " 'il_util',\n",
       " 'open_rv_12m',\n",
       " 'open_rv_24m',\n",
       " 'max_bal_bc',\n",
       " 'all_util',\n",
       " 'total_rev_hi_lim',\n",
       " 'inq_fi',\n",
       " 'total_cu_tl',\n",
       " 'inq_last_12m',\n",
       " 'acc_open_past_24mths',\n",
       " 'avg_cur_bal',\n",
       " 'bc_open_to_buy',\n",
       " 'bc_util',\n",
       " 'chargeoff_within_12_mths',\n",
       " 'delinq_amnt',\n",
       " 'mo_sin_old_il_acct',\n",
       " 'mo_sin_old_rev_tl_op',\n",
       " 'mo_sin_rcnt_rev_tl_op',\n",
       " 'mo_sin_rcnt_tl',\n",
       " 'mort_acc',\n",
       " 'mths_since_recent_bc',\n",
       " 'mths_since_recent_bc_dlq',\n",
       " 'mths_since_recent_inq',\n",
       " 'mths_since_recent_revol_delinq',\n",
       " 'num_accts_ever_120_pd',\n",
       " 'num_actv_bc_tl',\n",
       " 'num_actv_rev_tl',\n",
       " 'num_bc_sats',\n",
       " 'num_bc_tl',\n",
       " 'num_il_tl',\n",
       " 'num_op_rev_tl',\n",
       " 'num_rev_accts',\n",
       " 'num_rev_tl_bal_gt_0',\n",
       " 'num_sats',\n",
       " 'num_tl_120dpd_2m',\n",
       " 'num_tl_30dpd',\n",
       " 'num_tl_90g_dpd_24m',\n",
       " 'num_tl_op_past_12m',\n",
       " 'pct_tl_nvr_dlq',\n",
       " 'percent_bc_gt_75',\n",
       " 'pub_rec_bankruptcies',\n",
       " 'tax_liens',\n",
       " 'tot_hi_cred_lim',\n",
       " 'total_bal_ex_mort',\n",
       " 'total_bc_limit',\n",
       " 'total_il_high_credit_limit',\n",
       " 'revol_bal_joint',\n",
       " 'sec_app_earliest_cr_line',\n",
       " 'sec_app_inq_last_6mths',\n",
       " 'sec_app_mort_acc',\n",
       " 'sec_app_open_acc',\n",
       " 'sec_app_revol_util',\n",
       " 'sec_app_open_act_il',\n",
       " 'sec_app_num_rev_accts',\n",
       " 'sec_app_chargeoff_within_12_mths',\n",
       " 'sec_app_collections_12_mths_ex_med',\n",
       " 'sec_app_mths_since_last_major_derog',\n",
       " 'hardship_flag',\n",
       " 'hardship_type',\n",
       " 'hardship_reason',\n",
       " 'hardship_status',\n",
       " 'deferral_term',\n",
       " 'hardship_amount',\n",
       " 'hardship_start_date',\n",
       " 'hardship_end_date',\n",
       " 'payment_plan_start_date',\n",
       " 'hardship_length',\n",
       " 'hardship_dpd',\n",
       " 'hardship_loan_status',\n",
       " 'orig_projected_additional_accrued_interest',\n",
       " 'hardship_payoff_balance_amount',\n",
       " 'hardship_last_payment_amount',\n",
       " 'disbursement_method',\n",
       " 'debt_settlement_flag',\n",
       " 'debt_settlement_flag_date',\n",
       " 'settlement_status',\n",
       " 'settlement_date',\n",
       " 'settlement_amount',\n",
       " 'settlement_percentage',\n",
       " 'settlement_term']"
      ]
     },
     "execution_count": 57,
     "metadata": {},
     "output_type": "execute_result"
    }
   ],
   "source": [
    "columns = list(full_data.columns.values)\n",
    "print \"Columns size:\", len(columns)\n",
    "columns"
   ]
  },
  {
   "cell_type": "markdown",
   "metadata": {},
   "source": [
    "In all of these columns, the outcome (what we want to predict) is the column called **grade**. It is the **Loan grade**. Based on each loan application and credit report, every loan is assigned a grade ranging from A1 to E5. \n",
    "\n",
    "We will ignore the column **sub_grade** because basing on only grade, we can evaluate a loan."
   ]
  },
  {
   "cell_type": "code",
   "execution_count": 84,
   "metadata": {},
   "outputs": [
    {
     "data": {
      "text/html": [
       "<div>\n",
       "<style scoped>\n",
       "    .dataframe tbody tr th:only-of-type {\n",
       "        vertical-align: middle;\n",
       "    }\n",
       "\n",
       "    .dataframe tbody tr th {\n",
       "        vertical-align: top;\n",
       "    }\n",
       "\n",
       "    .dataframe thead th {\n",
       "        text-align: right;\n",
       "    }\n",
       "</style>\n",
       "<table border=\"1\" class=\"dataframe\">\n",
       "  <thead>\n",
       "    <tr style=\"text-align: right;\">\n",
       "      <th></th>\n",
       "      <th>grade</th>\n",
       "    </tr>\n",
       "  </thead>\n",
       "  <tbody>\n",
       "    <tr>\n",
       "      <th>0</th>\n",
       "      <td>B</td>\n",
       "    </tr>\n",
       "    <tr>\n",
       "      <th>1</th>\n",
       "      <td>B</td>\n",
       "    </tr>\n",
       "    <tr>\n",
       "      <th>2</th>\n",
       "      <td>C</td>\n",
       "    </tr>\n",
       "    <tr>\n",
       "      <th>3</th>\n",
       "      <td>E</td>\n",
       "    </tr>\n",
       "    <tr>\n",
       "      <th>4</th>\n",
       "      <td>C</td>\n",
       "    </tr>\n",
       "  </tbody>\n",
       "</table>\n",
       "</div>"
      ],
      "text/plain": [
       "  grade\n",
       "0     B\n",
       "1     B\n",
       "2     C\n",
       "3     E\n",
       "4     C"
      ]
     },
     "execution_count": 84,
     "metadata": {},
     "output_type": "execute_result"
    }
   ],
   "source": [
    "full_data.drop(['sub_grade'], axis=1, inplace=True)\n",
    "outcome = full_data[['grade']]\n",
    "outcome.head(5)"
   ]
  },
  {
   "cell_type": "markdown",
   "metadata": {},
   "source": [
    "Let's see how many grade we have to evaluate"
   ]
  },
  {
   "cell_type": "code",
   "execution_count": 85,
   "metadata": {},
   "outputs": [
    {
     "data": {
      "text/plain": [
       "array(['B', 'C', 'E', 'A', 'D', 'G', 'F', nan], dtype=object)"
      ]
     },
     "execution_count": 85,
     "metadata": {},
     "output_type": "execute_result"
    }
   ],
   "source": [
    "outcome['grade'].unique()"
   ]
  },
  {
   "cell_type": "markdown",
   "metadata": {},
   "source": [
    "There are two things we need to do with the outcome dataset:\n",
    "* We have _nan_ value in our dataset, so we will drop all the row having the _nan_ value. \n",
    "* We need to transform all the outcome data into number so the model can understand it."
   ]
  },
  {
   "cell_type": "code",
   "execution_count": 86,
   "metadata": {},
   "outputs": [
    {
     "data": {
      "text/plain": [
       "0    2.0\n",
       "1    2.0\n",
       "2    3.0\n",
       "3    5.0\n",
       "4    3.0\n",
       "Name: grade, dtype: float64"
      ]
     },
     "execution_count": 86,
     "metadata": {},
     "output_type": "execute_result"
    }
   ],
   "source": [
    "full_data = full_data[pd.notnull(full_data['grade'])]\n",
    "map_grade = {\"A\":1,\"B\":2,\"C\":3,\"D\":4,\"E\":5,\"F\":6}\n",
    "full_data[\"grade\"] = full_data[\"grade\"].map(map_grade)\n",
    "full_data['grade'].head(5)"
   ]
  },
  {
   "cell_type": "markdown",
   "metadata": {},
   "source": [
    "### Clean up the dataset"
   ]
  },
  {
   "cell_type": "markdown",
   "metadata": {},
   "source": [
    "We remove all the data indicating id because it is unique for every row. The column **url** and **desc** are empty for all rows, we should remove them too. Moreover, all the information that a borrower can give out by himself/herself should be remove because the model is built to help the borrowers evaluate their ability for a loan."
   ]
  },
  {
   "cell_type": "code",
   "execution_count": 87,
   "metadata": {},
   "outputs": [],
   "source": [
    "full_data.drop(['id', 'member_id', 'url', 'desc', 'verification_status', 'issue_d', 'loan_status', 'pymnt_plan',\n",
    "               'title', 'earliest_cr_line', 'inq_last_6mths', 'mths_since_last_record',\n",
    "               'open_acc', 'pub_rec', 'total_acc', 'initial_list_status', 'recoveries', 'collection_recovery_fee',\n",
    "               'collections_12_mths_ex_med', 'mths_since_last_major_derog', 'policy_code',\n",
    "               'pct_tl_nvr_dlq', 'percent_bc_gt_75', 'revol_bal_joint', 'payment_plan_start_date',\n",
    "               'debt_settlement_flag_date', 'settlement_date','verification_status_joint'], axis=1, inplace=True)"
   ]
  },
  {
   "cell_type": "markdown",
   "metadata": {},
   "source": [
    "As we can see, now all the data relating to **grade** are transformed to number only. We have finished correct the outcome dataset. Now we need to cleanup uncessary data because we have **145** columns in total and we do not want to have useless features in our model."
   ]
  },
  {
   "cell_type": "markdown",
   "metadata": {},
   "source": [
    "All the information relates to the loan after being funded is not considered too."
   ]
  },
  {
   "cell_type": "code",
   "execution_count": 88,
   "metadata": {},
   "outputs": [],
   "source": [
    "full_data.drop(['funded_amnt_inv', 'funded_amnt', 'out_prncp', \n",
    "               'out_prncp_inv', 'total_pymnt', 'total_pymnt_inv', 'total_rec_prncp',\n",
    "               'total_rec_int', 'total_rec_late_fee', 'last_pymnt_amnt', 'last_pymnt_d', 'next_pymnt_d',\n",
    "               'last_credit_pull_d'], axis=1, inplace=True)"
   ]
  },
  {
   "cell_type": "markdown",
   "metadata": {},
   "source": [
    "After cleaning up uncessary, let's see how many columns we have in the dataset."
   ]
  },
  {
   "cell_type": "code",
   "execution_count": 89,
   "metadata": {},
   "outputs": [
    {
     "name": "stdout",
     "output_type": "stream",
     "text": [
      "Columns size: 103\n"
     ]
    },
    {
     "data": {
      "text/plain": [
       "['loan_amnt',\n",
       " 'term',\n",
       " 'int_rate',\n",
       " 'installment',\n",
       " 'grade',\n",
       " 'emp_title',\n",
       " 'emp_length',\n",
       " 'home_ownership',\n",
       " 'annual_inc',\n",
       " 'purpose',\n",
       " 'zip_code',\n",
       " 'addr_state',\n",
       " 'dti',\n",
       " 'delinq_2yrs',\n",
       " 'mths_since_last_delinq',\n",
       " 'revol_bal',\n",
       " 'revol_util',\n",
       " 'application_type',\n",
       " 'annual_inc_joint',\n",
       " 'dti_joint',\n",
       " 'acc_now_delinq',\n",
       " 'tot_coll_amt',\n",
       " 'tot_cur_bal',\n",
       " 'open_acc_6m',\n",
       " 'open_act_il',\n",
       " 'open_il_12m',\n",
       " 'open_il_24m',\n",
       " 'mths_since_rcnt_il',\n",
       " 'total_bal_il',\n",
       " 'il_util',\n",
       " 'open_rv_12m',\n",
       " 'open_rv_24m',\n",
       " 'max_bal_bc',\n",
       " 'all_util',\n",
       " 'total_rev_hi_lim',\n",
       " 'inq_fi',\n",
       " 'total_cu_tl',\n",
       " 'inq_last_12m',\n",
       " 'acc_open_past_24mths',\n",
       " 'avg_cur_bal',\n",
       " 'bc_open_to_buy',\n",
       " 'bc_util',\n",
       " 'chargeoff_within_12_mths',\n",
       " 'delinq_amnt',\n",
       " 'mo_sin_old_il_acct',\n",
       " 'mo_sin_old_rev_tl_op',\n",
       " 'mo_sin_rcnt_rev_tl_op',\n",
       " 'mo_sin_rcnt_tl',\n",
       " 'mort_acc',\n",
       " 'mths_since_recent_bc',\n",
       " 'mths_since_recent_bc_dlq',\n",
       " 'mths_since_recent_inq',\n",
       " 'mths_since_recent_revol_delinq',\n",
       " 'num_accts_ever_120_pd',\n",
       " 'num_actv_bc_tl',\n",
       " 'num_actv_rev_tl',\n",
       " 'num_bc_sats',\n",
       " 'num_bc_tl',\n",
       " 'num_il_tl',\n",
       " 'num_op_rev_tl',\n",
       " 'num_rev_accts',\n",
       " 'num_rev_tl_bal_gt_0',\n",
       " 'num_sats',\n",
       " 'num_tl_120dpd_2m',\n",
       " 'num_tl_30dpd',\n",
       " 'num_tl_90g_dpd_24m',\n",
       " 'num_tl_op_past_12m',\n",
       " 'pub_rec_bankruptcies',\n",
       " 'tax_liens',\n",
       " 'tot_hi_cred_lim',\n",
       " 'total_bal_ex_mort',\n",
       " 'total_bc_limit',\n",
       " 'total_il_high_credit_limit',\n",
       " 'sec_app_earliest_cr_line',\n",
       " 'sec_app_inq_last_6mths',\n",
       " 'sec_app_mort_acc',\n",
       " 'sec_app_open_acc',\n",
       " 'sec_app_revol_util',\n",
       " 'sec_app_open_act_il',\n",
       " 'sec_app_num_rev_accts',\n",
       " 'sec_app_chargeoff_within_12_mths',\n",
       " 'sec_app_collections_12_mths_ex_med',\n",
       " 'sec_app_mths_since_last_major_derog',\n",
       " 'hardship_flag',\n",
       " 'hardship_type',\n",
       " 'hardship_reason',\n",
       " 'hardship_status',\n",
       " 'deferral_term',\n",
       " 'hardship_amount',\n",
       " 'hardship_start_date',\n",
       " 'hardship_end_date',\n",
       " 'hardship_length',\n",
       " 'hardship_dpd',\n",
       " 'hardship_loan_status',\n",
       " 'orig_projected_additional_accrued_interest',\n",
       " 'hardship_payoff_balance_amount',\n",
       " 'hardship_last_payment_amount',\n",
       " 'disbursement_method',\n",
       " 'debt_settlement_flag',\n",
       " 'settlement_status',\n",
       " 'settlement_amount',\n",
       " 'settlement_percentage',\n",
       " 'settlement_term']"
      ]
     },
     "execution_count": 89,
     "metadata": {},
     "output_type": "execute_result"
    }
   ],
   "source": [
    "columns = list(full_data.columns.values)\n",
    "print \"Columns size:\", len(columns)\n",
    "columns"
   ]
  },
  {
   "cell_type": "markdown",
   "metadata": {},
   "source": [
    "The **int_rate** is Interest Rate on the loan. It is decided based on the grade of the loan so we do not need this information too.\n",
    "The **installment** describes the monthly payment owed by the borrower if the loan originates. This information is not necessary but basing on this information, I introduce a new column called **ability_to_pay**. This column contains only two value 0 and 1. **0** indicates that the borrower's monthly income is lower than the amount thay have to pay each month. **1** indicates that the borrower's monthly income is higher than the amount thay have to pay each month."
   ]
  },
  {
   "cell_type": "code",
   "execution_count": 90,
   "metadata": {},
   "outputs": [],
   "source": [
    "full_data.drop(['int_rate'], axis=1, inplace=True)\n",
    "def ableToPay(annualInc, installment):\n",
    "    monthInc = annualInc / 12\n",
    "    if (monthInc >= installment):\n",
    "        return 1\n",
    "    else:\n",
    "        return 0\n",
    "    \n",
    "full_data['ability_to_pay'] = full_data.apply(lambda row: ableToPay(row['annual_inc'], row['installment']), axis=1)\n",
    "full_data.drop(['installment'], axis=1, inplace=True)"
   ]
  },
  {
   "cell_type": "code",
   "execution_count": 91,
   "metadata": {},
   "outputs": [
    {
     "data": {
      "text/plain": [
       "0     36 months\n",
       "1     60 months\n",
       "2     36 months\n",
       "3     36 months\n",
       "4     36 months\n",
       "Name: term, dtype: object"
      ]
     },
     "execution_count": 91,
     "metadata": {},
     "output_type": "execute_result"
    }
   ],
   "source": [
    "full_data['term'].head(5)"
   ]
  },
  {
   "cell_type": "markdown",
   "metadata": {},
   "source": [
    "Next step, we will transform all categorical data into numbers because our model only understands numbers."
   ]
  },
  {
   "cell_type": "code",
   "execution_count": 95,
   "metadata": {},
   "outputs": [
    {
     "data": {
      "text/plain": [
       "array(['4 years', '10+ years', '1 year', '3 years', '8 years', 'nan',\n",
       "       '6 years', '< 1 year', '9 years', '5 years', '2 years', '7 years'],\n",
       "      dtype=object)"
      ]
     },
     "execution_count": 95,
     "metadata": {},
     "output_type": "execute_result"
    }
   ],
   "source": [
    "full_data['emp_length'].unique()"
   ]
  },
  {
   "cell_type": "code",
   "execution_count": 96,
   "metadata": {},
   "outputs": [],
   "source": [
    "def convertEmploymentLength(l):\n",
    "    if l == '< 1 year' or l == 'nan':\n",
    "        return 0\n",
    "    if l == '10+ years':\n",
    "        return 10\n",
    "    if l[1] == ' ':\n",
    "        return (int)(l[:2])\n",
    "    return (int)(l[:3])\n",
    "\n",
    "def convert(data, listValue):\n",
    "    return listValue.index(data)\n",
    "\n",
    "def transformCategoricalData(df):\n",
    "    result = df.copy()\n",
    "    listPurpose = list(df['purpose'].unique())\n",
    "    print \"Purpose\", listPurpose\n",
    "    listOwnership = list(df['home_ownership'].unique())\n",
    "    print \"Ownership\", listOwnership\n",
    "    listAppType = list(df['application_type'].unique())\n",
    "    print \"Application Type\", listAppType\n",
    "    listHardshipFlag = list(df['hardship_flag'].unique())\n",
    "    print \"Hardship\", listHardshipFlag\n",
    "    listHSLoanStatus = list(df['hardship_loan_status'].unique())\n",
    "    print \"Hardship Loan Status\", listHSLoanStatus\n",
    "    listDisbursement = list(df['disbursement_method'].unique())\n",
    "    print \"Disbursement\", listDisbursement\n",
    "    listDebtFlag = list(df['debt_settlement_flag'].unique())\n",
    "    print \"Debt Settlement\", listDebtFlag\n",
    "    for index, row in result.iterrows():\n",
    "        result.at[index, 'emp_length'] = convertEmploymentLength(row['emp_length'])\n",
    "        result.at[index, 'purpose'] = convert(row.purpose, listPurpose)\n",
    "        result.at[index, 'home_ownership'] = convert(row['home_ownership'], listOwnership)\n",
    "        result.at[index, 'application_type'] = convert(row['application_type'], listAppType)\n",
    "        result.at[index, 'hardship_flag'] = convert(row['hardship_flag'], listHardshipFlag)\n",
    "        result.at[index, 'hardship_loan_status'] = convert(row['hardship_loan_status'], listHSLoanStatus)\n",
    "        result.at[index, 'disbursement_method'] = convert(row['disbursement_method'], listDisbursement)\n",
    "        result.at[index, 'debt_settlement_flag'] = convert(row['debt_settlement_flag'], listDebtFlag)\n",
    "    return result"
   ]
  },
  {
   "cell_type": "code",
   "execution_count": 97,
   "metadata": {},
   "outputs": [
    {
     "name": "stdout",
     "output_type": "stream",
     "text": [
      "Purpose ['credit_card', 'debt_consolidation', 'car', 'major_purchase', 'other', 'home_improvement', 'medical', 'vacation', 'small_business', 'house', 'moving', 'renewable_energy']\n",
      "Ownership ['RENT', 'MORTGAGE', 'OWN', 'ANY', 'NONE']\n",
      "Application Type ['Individual', 'Joint App']\n",
      "Hardship ['N', 'Y']\n",
      "Hardship Loan Status [nan, 'Late (16-30 days)', 'Current', 'In Grace Period', 'Late (31-120 days)']\n",
      "Disbursement ['Cash', 'DirectPay']\n",
      "Debt Settlement ['N', 'Y']\n"
     ]
    },
    {
     "data": {
      "text/html": [
       "<div>\n",
       "<style scoped>\n",
       "    .dataframe tbody tr th:only-of-type {\n",
       "        vertical-align: middle;\n",
       "    }\n",
       "\n",
       "    .dataframe tbody tr th {\n",
       "        vertical-align: top;\n",
       "    }\n",
       "\n",
       "    .dataframe thead th {\n",
       "        text-align: right;\n",
       "    }\n",
       "</style>\n",
       "<table border=\"1\" class=\"dataframe\">\n",
       "  <thead>\n",
       "    <tr style=\"text-align: right;\">\n",
       "      <th></th>\n",
       "      <th>loan_amnt</th>\n",
       "      <th>term</th>\n",
       "      <th>grade</th>\n",
       "      <th>emp_title</th>\n",
       "      <th>emp_length</th>\n",
       "      <th>home_ownership</th>\n",
       "      <th>annual_inc</th>\n",
       "      <th>purpose</th>\n",
       "      <th>zip_code</th>\n",
       "      <th>addr_state</th>\n",
       "      <th>...</th>\n",
       "      <th>orig_projected_additional_accrued_interest</th>\n",
       "      <th>hardship_payoff_balance_amount</th>\n",
       "      <th>hardship_last_payment_amount</th>\n",
       "      <th>disbursement_method</th>\n",
       "      <th>debt_settlement_flag</th>\n",
       "      <th>settlement_status</th>\n",
       "      <th>settlement_amount</th>\n",
       "      <th>settlement_percentage</th>\n",
       "      <th>settlement_term</th>\n",
       "      <th>ability_to_pay</th>\n",
       "    </tr>\n",
       "  </thead>\n",
       "  <tbody>\n",
       "    <tr>\n",
       "      <th>0</th>\n",
       "      <td>4600.0</td>\n",
       "      <td>36 months</td>\n",
       "      <td>2.0</td>\n",
       "      <td>cable technician</td>\n",
       "      <td>4</td>\n",
       "      <td>0</td>\n",
       "      <td>44470.0</td>\n",
       "      <td>0</td>\n",
       "      <td>066xx</td>\n",
       "      <td>CT</td>\n",
       "      <td>...</td>\n",
       "      <td>NaN</td>\n",
       "      <td>NaN</td>\n",
       "      <td>NaN</td>\n",
       "      <td>0</td>\n",
       "      <td>0</td>\n",
       "      <td>NaN</td>\n",
       "      <td>NaN</td>\n",
       "      <td>NaN</td>\n",
       "      <td>NaN</td>\n",
       "      <td>1</td>\n",
       "    </tr>\n",
       "    <tr>\n",
       "      <th>1</th>\n",
       "      <td>15400.0</td>\n",
       "      <td>60 months</td>\n",
       "      <td>2.0</td>\n",
       "      <td>Social worker</td>\n",
       "      <td>10</td>\n",
       "      <td>1</td>\n",
       "      <td>95000.0</td>\n",
       "      <td>1</td>\n",
       "      <td>068xx</td>\n",
       "      <td>CT</td>\n",
       "      <td>...</td>\n",
       "      <td>NaN</td>\n",
       "      <td>NaN</td>\n",
       "      <td>NaN</td>\n",
       "      <td>0</td>\n",
       "      <td>0</td>\n",
       "      <td>NaN</td>\n",
       "      <td>NaN</td>\n",
       "      <td>NaN</td>\n",
       "      <td>NaN</td>\n",
       "      <td>1</td>\n",
       "    </tr>\n",
       "    <tr>\n",
       "      <th>2</th>\n",
       "      <td>14000.0</td>\n",
       "      <td>36 months</td>\n",
       "      <td>3.0</td>\n",
       "      <td>Project Leader</td>\n",
       "      <td>10</td>\n",
       "      <td>1</td>\n",
       "      <td>82000.0</td>\n",
       "      <td>0</td>\n",
       "      <td>672xx</td>\n",
       "      <td>KS</td>\n",
       "      <td>...</td>\n",
       "      <td>NaN</td>\n",
       "      <td>NaN</td>\n",
       "      <td>NaN</td>\n",
       "      <td>0</td>\n",
       "      <td>0</td>\n",
       "      <td>NaN</td>\n",
       "      <td>NaN</td>\n",
       "      <td>NaN</td>\n",
       "      <td>NaN</td>\n",
       "      <td>1</td>\n",
       "    </tr>\n",
       "    <tr>\n",
       "      <th>3</th>\n",
       "      <td>5000.0</td>\n",
       "      <td>36 months</td>\n",
       "      <td>5.0</td>\n",
       "      <td>Pilot</td>\n",
       "      <td>10</td>\n",
       "      <td>1</td>\n",
       "      <td>215000.0</td>\n",
       "      <td>1</td>\n",
       "      <td>067xx</td>\n",
       "      <td>CT</td>\n",
       "      <td>...</td>\n",
       "      <td>NaN</td>\n",
       "      <td>NaN</td>\n",
       "      <td>NaN</td>\n",
       "      <td>0</td>\n",
       "      <td>0</td>\n",
       "      <td>NaN</td>\n",
       "      <td>NaN</td>\n",
       "      <td>NaN</td>\n",
       "      <td>NaN</td>\n",
       "      <td>1</td>\n",
       "    </tr>\n",
       "    <tr>\n",
       "      <th>4</th>\n",
       "      <td>4700.0</td>\n",
       "      <td>36 months</td>\n",
       "      <td>3.0</td>\n",
       "      <td>RN Manager</td>\n",
       "      <td>10</td>\n",
       "      <td>1</td>\n",
       "      <td>100046.0</td>\n",
       "      <td>1</td>\n",
       "      <td>847xx</td>\n",
       "      <td>UT</td>\n",
       "      <td>...</td>\n",
       "      <td>NaN</td>\n",
       "      <td>NaN</td>\n",
       "      <td>NaN</td>\n",
       "      <td>0</td>\n",
       "      <td>0</td>\n",
       "      <td>NaN</td>\n",
       "      <td>NaN</td>\n",
       "      <td>NaN</td>\n",
       "      <td>NaN</td>\n",
       "      <td>1</td>\n",
       "    </tr>\n",
       "  </tbody>\n",
       "</table>\n",
       "<p>5 rows × 102 columns</p>\n",
       "</div>"
      ],
      "text/plain": [
       "   loan_amnt       term  grade         emp_title emp_length home_ownership  \\\n",
       "0     4600.0  36 months    2.0  cable technician          4              0   \n",
       "1    15400.0  60 months    2.0     Social worker         10              1   \n",
       "2    14000.0  36 months    3.0    Project Leader         10              1   \n",
       "3     5000.0  36 months    5.0             Pilot         10              1   \n",
       "4     4700.0  36 months    3.0        RN Manager         10              1   \n",
       "\n",
       "   annual_inc purpose zip_code addr_state       ...        \\\n",
       "0     44470.0       0    066xx         CT       ...         \n",
       "1     95000.0       1    068xx         CT       ...         \n",
       "2     82000.0       0    672xx         KS       ...         \n",
       "3    215000.0       1    067xx         CT       ...         \n",
       "4    100046.0       1    847xx         UT       ...         \n",
       "\n",
       "   orig_projected_additional_accrued_interest  hardship_payoff_balance_amount  \\\n",
       "0                                         NaN                             NaN   \n",
       "1                                         NaN                             NaN   \n",
       "2                                         NaN                             NaN   \n",
       "3                                         NaN                             NaN   \n",
       "4                                         NaN                             NaN   \n",
       "\n",
       "   hardship_last_payment_amount  disbursement_method debt_settlement_flag  \\\n",
       "0                           NaN                    0                    0   \n",
       "1                           NaN                    0                    0   \n",
       "2                           NaN                    0                    0   \n",
       "3                           NaN                    0                    0   \n",
       "4                           NaN                    0                    0   \n",
       "\n",
       "  settlement_status  settlement_amount  settlement_percentage  \\\n",
       "0               NaN                NaN                    NaN   \n",
       "1               NaN                NaN                    NaN   \n",
       "2               NaN                NaN                    NaN   \n",
       "3               NaN                NaN                    NaN   \n",
       "4               NaN                NaN                    NaN   \n",
       "\n",
       "   settlement_term  ability_to_pay  \n",
       "0              NaN               1  \n",
       "1              NaN               1  \n",
       "2              NaN               1  \n",
       "3              NaN               1  \n",
       "4              NaN               1  \n",
       "\n",
       "[5 rows x 102 columns]"
      ]
     },
     "execution_count": 97,
     "metadata": {},
     "output_type": "execute_result"
    }
   ],
   "source": [
    "full_data['term'] = full_data['term'].apply(lambda x: x.lstrip())\n",
    "full_data['emp_length'] = full_data['emp_length'].astype('str') \n",
    "full_data = transformCategoricalData(full_data)\n",
    "full_data.head(5)"
   ]
  },
  {
   "cell_type": "markdown",
   "metadata": {},
   "source": [
    "After transforming all of categorical data, I figure out some more columns that we need to remove because it just give more details about other columns."
   ]
  },
  {
   "cell_type": "code",
   "execution_count": 98,
   "metadata": {},
   "outputs": [],
   "source": [
    "full_data.drop(['emp_title', 'settlement_status','hardship_loan_status', 'hardship_dpd',\n",
    "               'hardship_end_date', 'hardship_start_date', 'deferral_term', 'hardship_status', 'zip_code', ], axis=1, inplace=True)"
   ]
  },
  {
   "cell_type": "markdown",
   "metadata": {},
   "source": [
    "As we can see, we still have some number data having **NAN** value. We will replace all **NAN** by **-1** for these number datas."
   ]
  },
  {
   "cell_type": "code",
   "execution_count": 99,
   "metadata": {},
   "outputs": [
    {
     "data": {
      "text/html": [
       "<div>\n",
       "<style scoped>\n",
       "    .dataframe tbody tr th:only-of-type {\n",
       "        vertical-align: middle;\n",
       "    }\n",
       "\n",
       "    .dataframe tbody tr th {\n",
       "        vertical-align: top;\n",
       "    }\n",
       "\n",
       "    .dataframe thead th {\n",
       "        text-align: right;\n",
       "    }\n",
       "</style>\n",
       "<table border=\"1\" class=\"dataframe\">\n",
       "  <thead>\n",
       "    <tr style=\"text-align: right;\">\n",
       "      <th></th>\n",
       "      <th>loan_amnt</th>\n",
       "      <th>term</th>\n",
       "      <th>grade</th>\n",
       "      <th>emp_length</th>\n",
       "      <th>home_ownership</th>\n",
       "      <th>annual_inc</th>\n",
       "      <th>purpose</th>\n",
       "      <th>addr_state</th>\n",
       "      <th>dti</th>\n",
       "      <th>delinq_2yrs</th>\n",
       "      <th>...</th>\n",
       "      <th>hardship_length</th>\n",
       "      <th>orig_projected_additional_accrued_interest</th>\n",
       "      <th>hardship_payoff_balance_amount</th>\n",
       "      <th>hardship_last_payment_amount</th>\n",
       "      <th>disbursement_method</th>\n",
       "      <th>debt_settlement_flag</th>\n",
       "      <th>settlement_amount</th>\n",
       "      <th>settlement_percentage</th>\n",
       "      <th>settlement_term</th>\n",
       "      <th>ability_to_pay</th>\n",
       "    </tr>\n",
       "  </thead>\n",
       "  <tbody>\n",
       "    <tr>\n",
       "      <th>0</th>\n",
       "      <td>4600.0</td>\n",
       "      <td>36 months</td>\n",
       "      <td>2.0</td>\n",
       "      <td>4</td>\n",
       "      <td>0</td>\n",
       "      <td>44470.0</td>\n",
       "      <td>0</td>\n",
       "      <td>CT</td>\n",
       "      <td>13.43</td>\n",
       "      <td>0.0</td>\n",
       "      <td>...</td>\n",
       "      <td>-1.0</td>\n",
       "      <td>-1.0</td>\n",
       "      <td>-1.0</td>\n",
       "      <td>-1.0</td>\n",
       "      <td>0</td>\n",
       "      <td>0</td>\n",
       "      <td>-1.0</td>\n",
       "      <td>-1.0</td>\n",
       "      <td>-1.0</td>\n",
       "      <td>1</td>\n",
       "    </tr>\n",
       "    <tr>\n",
       "      <th>1</th>\n",
       "      <td>15400.0</td>\n",
       "      <td>60 months</td>\n",
       "      <td>2.0</td>\n",
       "      <td>10</td>\n",
       "      <td>1</td>\n",
       "      <td>95000.0</td>\n",
       "      <td>1</td>\n",
       "      <td>CT</td>\n",
       "      <td>11.52</td>\n",
       "      <td>0.0</td>\n",
       "      <td>...</td>\n",
       "      <td>-1.0</td>\n",
       "      <td>-1.0</td>\n",
       "      <td>-1.0</td>\n",
       "      <td>-1.0</td>\n",
       "      <td>0</td>\n",
       "      <td>0</td>\n",
       "      <td>-1.0</td>\n",
       "      <td>-1.0</td>\n",
       "      <td>-1.0</td>\n",
       "      <td>1</td>\n",
       "    </tr>\n",
       "    <tr>\n",
       "      <th>2</th>\n",
       "      <td>14000.0</td>\n",
       "      <td>36 months</td>\n",
       "      <td>3.0</td>\n",
       "      <td>10</td>\n",
       "      <td>1</td>\n",
       "      <td>82000.0</td>\n",
       "      <td>0</td>\n",
       "      <td>KS</td>\n",
       "      <td>31.07</td>\n",
       "      <td>0.0</td>\n",
       "      <td>...</td>\n",
       "      <td>-1.0</td>\n",
       "      <td>-1.0</td>\n",
       "      <td>-1.0</td>\n",
       "      <td>-1.0</td>\n",
       "      <td>0</td>\n",
       "      <td>0</td>\n",
       "      <td>-1.0</td>\n",
       "      <td>-1.0</td>\n",
       "      <td>-1.0</td>\n",
       "      <td>1</td>\n",
       "    </tr>\n",
       "    <tr>\n",
       "      <th>3</th>\n",
       "      <td>5000.0</td>\n",
       "      <td>36 months</td>\n",
       "      <td>5.0</td>\n",
       "      <td>10</td>\n",
       "      <td>1</td>\n",
       "      <td>215000.0</td>\n",
       "      <td>1</td>\n",
       "      <td>CT</td>\n",
       "      <td>6.06</td>\n",
       "      <td>0.0</td>\n",
       "      <td>...</td>\n",
       "      <td>-1.0</td>\n",
       "      <td>-1.0</td>\n",
       "      <td>-1.0</td>\n",
       "      <td>-1.0</td>\n",
       "      <td>0</td>\n",
       "      <td>0</td>\n",
       "      <td>-1.0</td>\n",
       "      <td>-1.0</td>\n",
       "      <td>-1.0</td>\n",
       "      <td>1</td>\n",
       "    </tr>\n",
       "    <tr>\n",
       "      <th>4</th>\n",
       "      <td>4700.0</td>\n",
       "      <td>36 months</td>\n",
       "      <td>3.0</td>\n",
       "      <td>10</td>\n",
       "      <td>1</td>\n",
       "      <td>100046.0</td>\n",
       "      <td>1</td>\n",
       "      <td>UT</td>\n",
       "      <td>12.37</td>\n",
       "      <td>1.0</td>\n",
       "      <td>...</td>\n",
       "      <td>-1.0</td>\n",
       "      <td>-1.0</td>\n",
       "      <td>-1.0</td>\n",
       "      <td>-1.0</td>\n",
       "      <td>0</td>\n",
       "      <td>0</td>\n",
       "      <td>-1.0</td>\n",
       "      <td>-1.0</td>\n",
       "      <td>-1.0</td>\n",
       "      <td>1</td>\n",
       "    </tr>\n",
       "  </tbody>\n",
       "</table>\n",
       "<p>5 rows × 93 columns</p>\n",
       "</div>"
      ],
      "text/plain": [
       "   loan_amnt       term  grade  emp_length  home_ownership  annual_inc  \\\n",
       "0     4600.0  36 months    2.0           4               0     44470.0   \n",
       "1    15400.0  60 months    2.0          10               1     95000.0   \n",
       "2    14000.0  36 months    3.0          10               1     82000.0   \n",
       "3     5000.0  36 months    5.0          10               1    215000.0   \n",
       "4     4700.0  36 months    3.0          10               1    100046.0   \n",
       "\n",
       "   purpose addr_state    dti  delinq_2yrs       ...        hardship_length  \\\n",
       "0        0         CT  13.43          0.0       ...                   -1.0   \n",
       "1        1         CT  11.52          0.0       ...                   -1.0   \n",
       "2        0         KS  31.07          0.0       ...                   -1.0   \n",
       "3        1         CT   6.06          0.0       ...                   -1.0   \n",
       "4        1         UT  12.37          1.0       ...                   -1.0   \n",
       "\n",
       "   orig_projected_additional_accrued_interest hardship_payoff_balance_amount  \\\n",
       "0                                        -1.0                           -1.0   \n",
       "1                                        -1.0                           -1.0   \n",
       "2                                        -1.0                           -1.0   \n",
       "3                                        -1.0                           -1.0   \n",
       "4                                        -1.0                           -1.0   \n",
       "\n",
       "   hardship_last_payment_amount  disbursement_method  debt_settlement_flag  \\\n",
       "0                          -1.0                    0                     0   \n",
       "1                          -1.0                    0                     0   \n",
       "2                          -1.0                    0                     0   \n",
       "3                          -1.0                    0                     0   \n",
       "4                          -1.0                    0                     0   \n",
       "\n",
       "   settlement_amount  settlement_percentage  settlement_term  ability_to_pay  \n",
       "0               -1.0                   -1.0             -1.0               1  \n",
       "1               -1.0                   -1.0             -1.0               1  \n",
       "2               -1.0                   -1.0             -1.0               1  \n",
       "3               -1.0                   -1.0             -1.0               1  \n",
       "4               -1.0                   -1.0             -1.0               1  \n",
       "\n",
       "[5 rows x 93 columns]"
      ]
     },
     "execution_count": 99,
     "metadata": {},
     "output_type": "execute_result"
    }
   ],
   "source": [
    "full_data.replace('n/a', np.nan,inplace=True)\n",
    "full_data.fillna(value=-1,inplace=True)\n",
    "full_data.head(5)"
   ]
  },
  {
   "cell_type": "markdown",
   "metadata": {},
   "source": [
    "Now, our dataset is clean. Let's do some data visualization so that we could remove some other features before putting them into the model."
   ]
  },
  {
   "cell_type": "markdown",
   "metadata": {},
   "source": [
    "### Data Visualization and Analysis"
   ]
  },
  {
   "cell_type": "markdown",
   "metadata": {},
   "source": [
    "Let's see the number of loan of each grade"
   ]
  },
  {
   "cell_type": "code",
   "execution_count": 92,
   "metadata": {},
   "outputs": [
    {
     "data": {
      "text/plain": [
       "<matplotlib.axes._subplots.AxesSubplot at 0x1a0ef21950>"
      ]
     },
     "execution_count": 92,
     "metadata": {},
     "output_type": "execute_result"
    },
    {
     "data": {
      "image/png": "[encoded data removed]",
      "text/plain": [
       "<Figure size 432x288 with 1 Axes>"
      ]
     },
     "metadata": {},
     "output_type": "display_data"
    }
   ],
   "source": [
    "sb.countplot(full_data['grade'],label=\"Count\")"
   ]
  },
  {
   "cell_type": "markdown",
   "metadata": {},
   "source": [
    "Now, let's see some relation of some features. The quality of a loan can be decided by some basic features such as **Loan amount**, **Application Type**, **Income**, **Loan Term**, **Home Ownership**, **Loan Purpose**, **Employment Time**, **DTI**, **Harship**, **Disbursement Method** and **Debt Settlement**. We will include these features in our model."
   ]
  },
  {
   "cell_type": "markdown",
   "metadata": {},
   "source": [
    "Because we have a lot of features, we need to know how much features we should put into our model. To do that, I will try two method for feature selection. First, we will use correlation of each feature and will try to put each feature into the model.\n",
    "    "
   ]
  },
  {
   "cell_type": "code",
   "execution_count": 234,
   "metadata": {},
   "outputs": [
    {
     "data": {
      "text/plain": [
       "{5.816378603886334e-05: 'num_op_rev_tl',\n",
       " 0.0006651538136063565: 'sec_app_num_rev_accts',\n",
       " 0.0019799704296672494: 'sec_app_mort_acc',\n",
       " 0.003689386606629633: 'delinq_amnt',\n",
       " 0.003938993102519349: 'sec_app_chargeoff_within_12_mths',\n",
       " 0.004218386489592983: 'tot_coll_amt',\n",
       " 0.004360475303914246: 'acc_now_delinq',\n",
       " 0.004582047412804649: 'num_tl_30dpd',\n",
       " 0.0053520724305904065: 'sec_app_open_acc',\n",
       " 0.0063233927034576235: 'sec_app_collections_12_mths_ex_med',\n",
       " 0.008005014983872103: 'total_bal_il',\n",
       " 0.008119487624415557: 'sec_app_open_act_il',\n",
       " 0.008321262694138602: 'total_cu_tl',\n",
       " 0.008965505593643444: 'chargeoff_within_12_mths',\n",
       " 0.009968821446251809: 'annual_inc_joint',\n",
       " 0.010102282954338588: 'sec_app_inq_last_6mths',\n",
       " 0.011474668620340774: 'sec_app_mths_since_last_major_derog',\n",
       " 0.012160787468520756: 'sec_app_revol_util',\n",
       " 0.012446854216667982: 'open_act_il',\n",
       " 0.012819379718840746: 'mths_since_recent_revol_delinq',\n",
       " 0.013364406664799855: 'tax_liens',\n",
       " 0.017778230035221824: 'mths_since_last_delinq',\n",
       " 0.01828252578483678: 'mths_since_recent_bc_dlq',\n",
       " 0.0184754917647004: 'num_il_tl',\n",
       " 0.01943529734595867: 'total_bal_ex_mort',\n",
       " 0.020483784269197926: 'num_tl_90g_dpd_24m',\n",
       " 0.021113626251847338: 'num_sats',\n",
       " 0.026343342648132297: 'revol_bal',\n",
       " 0.02683555892542501: 'delinq_2yrs',\n",
       " 0.027498168841757684: 'num_bc_sats',\n",
       " 0.02842457005748235: 'hardship_last_payment_amount',\n",
       " 0.028492203873333222: 'num_tl_120dpd_2m',\n",
       " 0.028980153385812703: 'hardship_length',\n",
       " 0.032512335891137445: 'hardship_payoff_balance_amount',\n",
       " 0.03510416621762761: 'annual_inc',\n",
       " 0.037101100080750245: 'dti_joint',\n",
       " 0.03777184071445895: 'total_il_high_credit_limit',\n",
       " 0.039193324231782595: 'num_accts_ever_120_pd',\n",
       " 0.0406561634637488: 'orig_projected_additional_accrued_interest',\n",
       " 0.04488087695845217: 'mths_since_rcnt_il',\n",
       " 0.04741646760125633: 'settlement_term',\n",
       " 0.04814878409753783: 'num_actv_bc_tl',\n",
       " 0.048331030198496605: 'hardship_amount',\n",
       " 0.04895878506117498: 'settlement_percentage',\n",
       " 0.05067540241513695: 'settlement_amount',\n",
       " 0.0522267328197042: 'num_rev_accts',\n",
       " 0.05699975564910302: 'max_bal_bc',\n",
       " 0.06059067468319174: 'mths_since_recent_inq',\n",
       " 0.06426644761838203: 'pub_rec_bankruptcies',\n",
       " 0.06991708949579818: 'num_bc_tl',\n",
       " 0.07535762622981854: 'il_util',\n",
       " 0.07829594204897052: 'mo_sin_old_il_acct',\n",
       " 0.08589950322970107: 'num_actv_rev_tl',\n",
       " 0.08726748349015198: 'num_rev_tl_bal_gt_0',\n",
       " 0.08756016403871437: 'mths_since_recent_bc',\n",
       " 0.08845966710350048: 'mo_sin_rcnt_tl',\n",
       " 0.09552034540586593: 'mo_sin_rcnt_rev_tl_op',\n",
       " 0.09994987916144005: 'avg_cur_bal',\n",
       " 0.10043068170990388: 'open_il_24m',\n",
       " 0.1058930136206298: 'dti',\n",
       " 0.1068165694372749: 'tot_cur_bal',\n",
       " 0.11033352497989556: 'inq_fi',\n",
       " 0.11331543673851276: 'loan_amnt',\n",
       " 0.12157549039801747: 'mort_acc',\n",
       " 0.12166005170304875: 'open_il_12m',\n",
       " 0.12446850511486417: 'open_acc_6m',\n",
       " 0.13347982335088526: 'mo_sin_old_rev_tl_op',\n",
       " 0.1373561101678816: 'open_rv_12m',\n",
       " 0.1412089554330719: 'tot_hi_cred_lim',\n",
       " 0.14640490367209802: 'inq_last_12m',\n",
       " 0.15410382648453: 'open_rv_24m',\n",
       " 0.15726976257041533: 'total_rev_hi_lim',\n",
       " 0.16290508400285056: 'num_tl_op_past_12m',\n",
       " 0.16671205040929882: 'acc_open_past_24mths',\n",
       " 0.19260003644975213: 'total_bc_limit',\n",
       " 0.2226501821910767: 'bc_util',\n",
       " 0.22562874964901342: 'all_util',\n",
       " 0.24714208816209257: 'bc_open_to_buy'}"
      ]
     },
     "execution_count": 234,
     "metadata": {},
     "output_type": "execute_result"
    }
   ],
   "source": [
    "columns = list(full_data.columns.values)\n",
    "columns.remove('grade')\n",
    "list_feature = {}\n",
    "for col in columns:\n",
    "    if full_data[col].dtype == 'object' or full_data[col].dtype == 'int64':\n",
    "        continue\n",
    "    correlation = full_data['grade'].corr(full_data[col])\n",
    "    if correlation != 0:\n",
    "        list_feature[abs(correlation)] = col\n",
    "\n",
    "list_feature"
   ]
  },
  {
   "cell_type": "markdown",
   "metadata": {},
   "source": [
    "Now we have a list of correlation of each feature. Now we need to sort this list descending so we always try the best correlation first."
   ]
  },
  {
   "cell_type": "code",
   "execution_count": 271,
   "metadata": {},
   "outputs": [],
   "source": [
    "from sklearn.model_selection import train_test_split\n",
    "from sklearn.linear_model import LogisticRegression\n",
    "from sklearn.metrics import accuracy_score\n",
    "\n",
    "def calculateAccuracy(features, data):\n",
    "    X = pd.DataFrame(data, columns=features)\n",
    "    y = data['grade']\n",
    "    X_train, X_test, y_train, y_test = train_test_split(X, y, test_size=0.3, random_state=101)\n",
    "    logistic = LogisticRegression()\n",
    "    logistic.fit(X_train, y_train)\n",
    "    return accuracy_score(y_test, logistic.predict(X_test))"
   ]
  },
  {
   "cell_type": "code",
   "execution_count": 273,
   "metadata": {},
   "outputs": [
    {
     "data": {
      "text/plain": [
       "[0.388,\n",
       " 0.386,\n",
       " 0.38666666666666666,\n",
       " 0.3873333333333333,\n",
       " 0.43066666666666664,\n",
       " 0.41933333333333334,\n",
       " 0.4246666666666667,\n",
       " 0.4226666666666667,\n",
       " 0.424,\n",
       " 0.4206666666666667,\n",
       " 0.42,\n",
       " 0.426,\n",
       " 0.422,\n",
       " 0.41733333333333333,\n",
       " 0.4206666666666667,\n",
       " 0.4226666666666667,\n",
       " 0.426,\n",
       " 0.43,\n",
       " 0.4206666666666667,\n",
       " 0.4206666666666667,\n",
       " 0.42866666666666664,\n",
       " 0.4246666666666667,\n",
       " 0.424,\n",
       " 0.424,\n",
       " 0.428,\n",
       " 0.4166666666666667,\n",
       " 0.42,\n",
       " 0.424,\n",
       " 0.4146666666666667,\n",
       " 0.41933333333333334,\n",
       " 0.41533333333333333,\n",
       " 0.4206666666666667,\n",
       " 0.4266666666666667,\n",
       " 0.43266666666666664,\n",
       " 0.4226666666666667,\n",
       " 0.428,\n",
       " 0.42733333333333334,\n",
       " 0.4246666666666667,\n",
       " 0.4206666666666667,\n",
       " 0.432,\n",
       " 0.428,\n",
       " 0.424,\n",
       " 0.43333333333333335,\n",
       " 0.42866666666666664,\n",
       " 0.43,\n",
       " 0.43133333333333335,\n",
       " 0.42,\n",
       " 0.42933333333333334,\n",
       " 0.42533333333333334,\n",
       " 0.43066666666666664,\n",
       " 0.4246666666666667,\n",
       " 0.43666666666666665,\n",
       " 0.4246666666666667,\n",
       " 0.42533333333333334,\n",
       " 0.42333333333333334,\n",
       " 0.426,\n",
       " 0.43,\n",
       " 0.4206666666666667,\n",
       " 0.42866666666666664,\n",
       " 0.43066666666666664,\n",
       " 0.43133333333333335,\n",
       " 0.44133333333333336,\n",
       " 0.42,\n",
       " 0.43066666666666664,\n",
       " 0.42866666666666664,\n",
       " 0.43066666666666664,\n",
       " 0.4206666666666667]"
      ]
     },
     "execution_count": 273,
     "metadata": {},
     "output_type": "execute_result"
    }
   ],
   "source": [
    "correlation = list_feature.keys()\n",
    "correlation.sort(reverse=True)\n",
    "\n",
    "test_list_feature = [list_feature[x] for x in correlation[:10]]\n",
    "results_LR = []\n",
    "test_data = full_data.head(5000)\n",
    "for i in range(11, len(correlation)):\n",
    "    test_list_feature.append(list_feature[correlation[i]])\n",
    "    results_LR.append(calculateAccuracy(test_list_feature, test_data))\n"
   ]
  },
  {
   "cell_type": "code",
   "execution_count": 279,
   "metadata": {},
   "outputs": [
    {
     "data": {
      "image/png": "[encoded data removed]",
      "text/plain": [
       "<Figure size 432x288 with 1 Axes>"
      ]
     },
     "metadata": {},
     "output_type": "display_data"
    }
   ],
   "source": [
    "x = range(10, 77)\n",
    "y = results_LR\n",
    "plt.plot(x, y, 'o', color='black');"
   ]
  },
  {
   "cell_type": "code",
   "execution_count": null,
   "metadata": {},
   "outputs": [],
   "source": []
  },
  {
   "cell_type": "code",
   "execution_count": null,
   "metadata": {},
   "outputs": [],
   "source": []
  },
  {
   "cell_type": "code",
   "execution_count": null,
   "metadata": {},
   "outputs": [],
   "source": []
  }
 ],
 "metadata": {
  "kernelspec": {
   "display_name": "Python 3",
   "language": "python",
   "name": "python3"
  },
  "language_info": {
   "codemirror_mode": {
    "name": "ipython",
    "version": 2
   },
   "file_extension": ".py",
   "mimetype": "text/x-python",
   "name": "python",
   "nbconvert_exporter": "python",
   "pygments_lexer": "ipython2",
   "version": "2.7.15"
  }
 },
 "nbformat": 4,
 "nbformat_minor": 2
}
