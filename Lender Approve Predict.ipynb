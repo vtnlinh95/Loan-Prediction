{
 "cells": [
  {
   "cell_type": "markdown",
   "metadata": {},
   "source": [
    "### Introduction\n",
    "\n",
    "LendingTree is an online lending exchange that connects consumers with multiple lenders, banks, and credit partners who compete for business. LendingTree is not a direct supplier of loans; it is instead a broker. We will be working with LendingTree’s data to explore one of the oldest prediction problems – predicting risk on consumer loans.\n",
    "\n",
    "This notebook is used to:\n",
    "* Develop a statistical model for predicting bad loans\n",
    "* Use the model to identify the most important drivers of bad loans\n",
    "* Make recommendations to avoid funding bad loans.\n",
    "\n",
    "### Business Problem\n",
    "\n",
    "Being as a broker, playing a role as the connection between the borrowers and lenders, there are many times a broker would like to have an overview of whether a loan can be approved by lenders or not. As a result, basing on the dataset collected by **LendingTree**, we can find out the important features affecting a loan and can foresee the chance of a loan to be approved.\n",
    "\n",
    "### Explore the dataset\n",
    "\n",
    "First, we need to read the dataset"
   ]
  },
  {
   "cell_type": "code",
   "execution_count": 1,
   "metadata": {},
   "outputs": [],
   "source": [
    "import pandas as pd\n",
    "import seaborn as sb\n",
    "import matplotlib.pyplot as plt # this is used for the plot the graph \n",
    "import numpy as np\n",
    "%matplotlib inline"
   ]
  },
  {
   "cell_type": "code",
   "execution_count": 2,
   "metadata": {},
   "outputs": [
    {
     "name": "stderr",
     "output_type": "stream",
     "text": [
      "/Users/admin/anaconda2/lib/python2.7/site-packages/IPython/core/interactiveshell.py:2714: DtypeWarning: Columns (0,112) have mixed types. Specify dtype option on import or set low_memory=False.\n",
      "  interactivity=interactivity, compiler=compiler, result=result)\n"
     ]
    }
   ],
   "source": [
    "full_data = pd.read_csv(\"loan_data.csv\", skiprows=1)"
   ]
  },
  {
   "cell_type": "markdown",
   "metadata": {},
   "source": [
    "Then, let's see what kind of data we have in the dataset by list out all of the columns in the dataset"
   ]
  },
  {
   "cell_type": "code",
   "execution_count": 3,
   "metadata": {},
   "outputs": [
    {
     "name": "stdout",
     "output_type": "stream",
     "text": [
      "Columns size: 145\n"
     ]
    },
    {
     "data": {
      "text/plain": [
       "['id',\n",
       " 'member_id',\n",
       " 'loan_amnt',\n",
       " 'funded_amnt',\n",
       " 'funded_amnt_inv',\n",
       " 'term',\n",
       " 'int_rate',\n",
       " 'installment',\n",
       " 'grade',\n",
       " 'sub_grade',\n",
       " 'emp_title',\n",
       " 'emp_length',\n",
       " 'home_ownership',\n",
       " 'annual_inc',\n",
       " 'verification_status',\n",
       " 'issue_d',\n",
       " 'loan_status',\n",
       " 'pymnt_plan',\n",
       " 'url',\n",
       " 'desc',\n",
       " 'purpose',\n",
       " 'title',\n",
       " 'zip_code',\n",
       " 'addr_state',\n",
       " 'dti',\n",
       " 'delinq_2yrs',\n",
       " 'earliest_cr_line',\n",
       " 'inq_last_6mths',\n",
       " 'mths_since_last_delinq',\n",
       " 'mths_since_last_record',\n",
       " 'open_acc',\n",
       " 'pub_rec',\n",
       " 'revol_bal',\n",
       " 'revol_util',\n",
       " 'total_acc',\n",
       " 'initial_list_status',\n",
       " 'out_prncp',\n",
       " 'out_prncp_inv',\n",
       " 'total_pymnt',\n",
       " 'total_pymnt_inv',\n",
       " 'total_rec_prncp',\n",
       " 'total_rec_int',\n",
       " 'total_rec_late_fee',\n",
       " 'recoveries',\n",
       " 'collection_recovery_fee',\n",
       " 'last_pymnt_d',\n",
       " 'last_pymnt_amnt',\n",
       " 'next_pymnt_d',\n",
       " 'last_credit_pull_d',\n",
       " 'collections_12_mths_ex_med',\n",
       " 'mths_since_last_major_derog',\n",
       " 'policy_code',\n",
       " 'application_type',\n",
       " 'annual_inc_joint',\n",
       " 'dti_joint',\n",
       " 'verification_status_joint',\n",
       " 'acc_now_delinq',\n",
       " 'tot_coll_amt',\n",
       " 'tot_cur_bal',\n",
       " 'open_acc_6m',\n",
       " 'open_act_il',\n",
       " 'open_il_12m',\n",
       " 'open_il_24m',\n",
       " 'mths_since_rcnt_il',\n",
       " 'total_bal_il',\n",
       " 'il_util',\n",
       " 'open_rv_12m',\n",
       " 'open_rv_24m',\n",
       " 'max_bal_bc',\n",
       " 'all_util',\n",
       " 'total_rev_hi_lim',\n",
       " 'inq_fi',\n",
       " 'total_cu_tl',\n",
       " 'inq_last_12m',\n",
       " 'acc_open_past_24mths',\n",
       " 'avg_cur_bal',\n",
       " 'bc_open_to_buy',\n",
       " 'bc_util',\n",
       " 'chargeoff_within_12_mths',\n",
       " 'delinq_amnt',\n",
       " 'mo_sin_old_il_acct',\n",
       " 'mo_sin_old_rev_tl_op',\n",
       " 'mo_sin_rcnt_rev_tl_op',\n",
       " 'mo_sin_rcnt_tl',\n",
       " 'mort_acc',\n",
       " 'mths_since_recent_bc',\n",
       " 'mths_since_recent_bc_dlq',\n",
       " 'mths_since_recent_inq',\n",
       " 'mths_since_recent_revol_delinq',\n",
       " 'num_accts_ever_120_pd',\n",
       " 'num_actv_bc_tl',\n",
       " 'num_actv_rev_tl',\n",
       " 'num_bc_sats',\n",
       " 'num_bc_tl',\n",
       " 'num_il_tl',\n",
       " 'num_op_rev_tl',\n",
       " 'num_rev_accts',\n",
       " 'num_rev_tl_bal_gt_0',\n",
       " 'num_sats',\n",
       " 'num_tl_120dpd_2m',\n",
       " 'num_tl_30dpd',\n",
       " 'num_tl_90g_dpd_24m',\n",
       " 'num_tl_op_past_12m',\n",
       " 'pct_tl_nvr_dlq',\n",
       " 'percent_bc_gt_75',\n",
       " 'pub_rec_bankruptcies',\n",
       " 'tax_liens',\n",
       " 'tot_hi_cred_lim',\n",
       " 'total_bal_ex_mort',\n",
       " 'total_bc_limit',\n",
       " 'total_il_high_credit_limit',\n",
       " 'revol_bal_joint',\n",
       " 'sec_app_earliest_cr_line',\n",
       " 'sec_app_inq_last_6mths',\n",
       " 'sec_app_mort_acc',\n",
       " 'sec_app_open_acc',\n",
       " 'sec_app_revol_util',\n",
       " 'sec_app_open_act_il',\n",
       " 'sec_app_num_rev_accts',\n",
       " 'sec_app_chargeoff_within_12_mths',\n",
       " 'sec_app_collections_12_mths_ex_med',\n",
       " 'sec_app_mths_since_last_major_derog',\n",
       " 'hardship_flag',\n",
       " 'hardship_type',\n",
       " 'hardship_reason',\n",
       " 'hardship_status',\n",
       " 'deferral_term',\n",
       " 'hardship_amount',\n",
       " 'hardship_start_date',\n",
       " 'hardship_end_date',\n",
       " 'payment_plan_start_date',\n",
       " 'hardship_length',\n",
       " 'hardship_dpd',\n",
       " 'hardship_loan_status',\n",
       " 'orig_projected_additional_accrued_interest',\n",
       " 'hardship_payoff_balance_amount',\n",
       " 'hardship_last_payment_amount',\n",
       " 'disbursement_method',\n",
       " 'debt_settlement_flag',\n",
       " 'debt_settlement_flag_date',\n",
       " 'settlement_status',\n",
       " 'settlement_date',\n",
       " 'settlement_amount',\n",
       " 'settlement_percentage',\n",
       " 'settlement_term']"
      ]
     },
     "execution_count": 3,
     "metadata": {},
     "output_type": "execute_result"
    }
   ],
   "source": [
    "columns = list(full_data.columns.values)\n",
    "print \"Columns size:\", len(columns)\n",
    "columns"
   ]
  },
  {
   "cell_type": "markdown",
   "metadata": {},
   "source": [
    "In all of these columns, the outcome (what we want to predict) is the column called **grade**. It is the **Loan grade**. Based on each loan application and credit report, every loan is assigned a grade ranging from A1 to E5. \n",
    "\n",
    "We will ignore the column **sub_grade** because basing on only grade, we can evaluate a loan."
   ]
  },
  {
   "cell_type": "code",
   "execution_count": 4,
   "metadata": {},
   "outputs": [
    {
     "data": {
      "text/html": [
       "<div>\n",
       "<style scoped>\n",
       "    .dataframe tbody tr th:only-of-type {\n",
       "        vertical-align: middle;\n",
       "    }\n",
       "\n",
       "    .dataframe tbody tr th {\n",
       "        vertical-align: top;\n",
       "    }\n",
       "\n",
       "    .dataframe thead th {\n",
       "        text-align: right;\n",
       "    }\n",
       "</style>\n",
       "<table border=\"1\" class=\"dataframe\">\n",
       "  <thead>\n",
       "    <tr style=\"text-align: right;\">\n",
       "      <th></th>\n",
       "      <th>grade</th>\n",
       "    </tr>\n",
       "  </thead>\n",
       "  <tbody>\n",
       "    <tr>\n",
       "      <th>0</th>\n",
       "      <td>B</td>\n",
       "    </tr>\n",
       "    <tr>\n",
       "      <th>1</th>\n",
       "      <td>B</td>\n",
       "    </tr>\n",
       "    <tr>\n",
       "      <th>2</th>\n",
       "      <td>C</td>\n",
       "    </tr>\n",
       "    <tr>\n",
       "      <th>3</th>\n",
       "      <td>E</td>\n",
       "    </tr>\n",
       "    <tr>\n",
       "      <th>4</th>\n",
       "      <td>C</td>\n",
       "    </tr>\n",
       "  </tbody>\n",
       "</table>\n",
       "</div>"
      ],
      "text/plain": [
       "  grade\n",
       "0     B\n",
       "1     B\n",
       "2     C\n",
       "3     E\n",
       "4     C"
      ]
     },
     "execution_count": 4,
     "metadata": {},
     "output_type": "execute_result"
    }
   ],
   "source": [
    "full_data.drop(['sub_grade'], axis=1, inplace=True)\n",
    "outcome = full_data[['grade']]\n",
    "outcome.head(5)"
   ]
  },
  {
   "cell_type": "markdown",
   "metadata": {},
   "source": [
    "Let's see how many grade we have to evaluate"
   ]
  },
  {
   "cell_type": "code",
   "execution_count": 5,
   "metadata": {},
   "outputs": [
    {
     "data": {
      "text/plain": [
       "array(['B', 'C', 'E', 'A', 'D', 'G', 'F', nan], dtype=object)"
      ]
     },
     "execution_count": 5,
     "metadata": {},
     "output_type": "execute_result"
    }
   ],
   "source": [
    "outcome['grade'].unique()"
   ]
  },
  {
   "cell_type": "markdown",
   "metadata": {},
   "source": [
    "There are two things we need to do with the outcome dataset:\n",
    "* We have _nan_ value in our dataset, so we will drop all the row having the _nan_ value. \n",
    "* We need to transform all the outcome data into number so the model can understand it."
   ]
  },
  {
   "cell_type": "code",
   "execution_count": 6,
   "metadata": {},
   "outputs": [
    {
     "data": {
      "text/plain": [
       "0    2\n",
       "1    2\n",
       "2    3\n",
       "3    5\n",
       "4    3\n",
       "Name: grade, dtype: int64"
      ]
     },
     "execution_count": 6,
     "metadata": {},
     "output_type": "execute_result"
    }
   ],
   "source": [
    "full_data = full_data[pd.notnull(full_data['grade'])]\n",
    "map_grade = {\"A\":1,\"B\":2,\"C\":3,\"D\":4,\"E\":5,\"F\":6, 'G': 7}\n",
    "full_data[\"grade\"] = full_data[\"grade\"].map(map_grade)\n",
    "full_data['grade'].head(5)"
   ]
  },
  {
   "cell_type": "markdown",
   "metadata": {},
   "source": [
    "As we can see, now all the data relating to **grade** are transformed to number only. We have finished correct the outcome dataset."
   ]
  },
  {
   "cell_type": "markdown",
   "metadata": {},
   "source": [
    "### Clean up the dataset"
   ]
  },
  {
   "cell_type": "markdown",
   "metadata": {},
   "source": [
    "We remove all the data indicating id because it is unique for every row. The column **url** and **desc** are empty for all rows, we should remove them too. Moreover, all the information that a borrower can not give out by himself/herself should be remove because the model is built to help the borrowers evaluate their ability for a loan."
   ]
  },
  {
   "cell_type": "code",
   "execution_count": 7,
   "metadata": {},
   "outputs": [],
   "source": [
    "full_data.drop(['id', 'member_id', 'url', 'desc', 'verification_status', 'issue_d', 'loan_status', 'pymnt_plan',\n",
    "               'title', 'earliest_cr_line', 'inq_last_6mths', 'mths_since_last_record',\n",
    "               'open_acc', 'pub_rec', 'total_acc', 'initial_list_status', 'recoveries', 'collection_recovery_fee',\n",
    "               'collections_12_mths_ex_med', 'mths_since_last_major_derog', 'policy_code',\n",
    "               'pct_tl_nvr_dlq', 'percent_bc_gt_75', 'revol_bal_joint', 'payment_plan_start_date',\n",
    "               'debt_settlement_flag_date', 'settlement_date','verification_status_joint'], axis=1, inplace=True)"
   ]
  },
  {
   "cell_type": "markdown",
   "metadata": {},
   "source": [
    "All the information relates to the loan after being funded is not considered too."
   ]
  },
  {
   "cell_type": "code",
   "execution_count": 9,
   "metadata": {},
   "outputs": [
    {
     "ename": "KeyError",
     "evalue": "\"labels ['funded_amnt_inv' 'funded_amnt' 'out_prncp' 'out_prncp_inv' 'total_pymnt'\\n 'total_pymnt_inv' 'total_rec_prncp' 'total_rec_int' 'total_rec_late_fee'\\n 'last_pymnt_amnt' 'last_pymnt_d' 'next_pymnt_d' 'last_credit_pull_d'] not contained in axis\"",
     "output_type": "error",
     "traceback": [
      "\u001b[0;31m---------------------------------------------------------------------------\u001b[0m",
      "\u001b[0;31mKeyError\u001b[0m                                  Traceback (most recent call last)",
      "\u001b[0;32m<ipython-input-9-c9f885b015f3>\u001b[0m in \u001b[0;36m<module>\u001b[0;34m()\u001b[0m\n\u001b[1;32m      2\u001b[0m                \u001b[0;34m'out_prncp_inv'\u001b[0m\u001b[0;34m,\u001b[0m \u001b[0;34m'total_pymnt'\u001b[0m\u001b[0;34m,\u001b[0m \u001b[0;34m'total_pymnt_inv'\u001b[0m\u001b[0;34m,\u001b[0m \u001b[0;34m'total_rec_prncp'\u001b[0m\u001b[0;34m,\u001b[0m\u001b[0;34m\u001b[0m\u001b[0m\n\u001b[1;32m      3\u001b[0m                \u001b[0;34m'total_rec_int'\u001b[0m\u001b[0;34m,\u001b[0m \u001b[0;34m'total_rec_late_fee'\u001b[0m\u001b[0;34m,\u001b[0m \u001b[0;34m'last_pymnt_amnt'\u001b[0m\u001b[0;34m,\u001b[0m \u001b[0;34m'last_pymnt_d'\u001b[0m\u001b[0;34m,\u001b[0m \u001b[0;34m'next_pymnt_d'\u001b[0m\u001b[0;34m,\u001b[0m\u001b[0;34m\u001b[0m\u001b[0m\n\u001b[0;32m----> 4\u001b[0;31m                'last_credit_pull_d'], axis=1, inplace=True)\n\u001b[0m",
      "\u001b[0;32m/Users/admin/anaconda2/lib/python2.7/site-packages/pandas/core/frame.pyc\u001b[0m in \u001b[0;36mdrop\u001b[0;34m(self, labels, axis, index, columns, level, inplace, errors)\u001b[0m\n\u001b[1;32m   3692\u001b[0m                                            \u001b[0mindex\u001b[0m\u001b[0;34m=\u001b[0m\u001b[0mindex\u001b[0m\u001b[0;34m,\u001b[0m \u001b[0mcolumns\u001b[0m\u001b[0;34m=\u001b[0m\u001b[0mcolumns\u001b[0m\u001b[0;34m,\u001b[0m\u001b[0;34m\u001b[0m\u001b[0m\n\u001b[1;32m   3693\u001b[0m                                            \u001b[0mlevel\u001b[0m\u001b[0;34m=\u001b[0m\u001b[0mlevel\u001b[0m\u001b[0;34m,\u001b[0m \u001b[0minplace\u001b[0m\u001b[0;34m=\u001b[0m\u001b[0minplace\u001b[0m\u001b[0;34m,\u001b[0m\u001b[0;34m\u001b[0m\u001b[0m\n\u001b[0;32m-> 3694\u001b[0;31m                                            errors=errors)\n\u001b[0m\u001b[1;32m   3695\u001b[0m \u001b[0;34m\u001b[0m\u001b[0m\n\u001b[1;32m   3696\u001b[0m     @rewrite_axis_style_signature('mapper', [('copy', True),\n",
      "\u001b[0;32m/Users/admin/anaconda2/lib/python2.7/site-packages/pandas/core/generic.pyc\u001b[0m in \u001b[0;36mdrop\u001b[0;34m(self, labels, axis, index, columns, level, inplace, errors)\u001b[0m\n\u001b[1;32m   3106\u001b[0m         \u001b[0;32mfor\u001b[0m \u001b[0maxis\u001b[0m\u001b[0;34m,\u001b[0m \u001b[0mlabels\u001b[0m \u001b[0;32min\u001b[0m \u001b[0maxes\u001b[0m\u001b[0;34m.\u001b[0m\u001b[0mitems\u001b[0m\u001b[0;34m(\u001b[0m\u001b[0;34m)\u001b[0m\u001b[0;34m:\u001b[0m\u001b[0;34m\u001b[0m\u001b[0m\n\u001b[1;32m   3107\u001b[0m             \u001b[0;32mif\u001b[0m \u001b[0mlabels\u001b[0m \u001b[0;32mis\u001b[0m \u001b[0;32mnot\u001b[0m \u001b[0mNone\u001b[0m\u001b[0;34m:\u001b[0m\u001b[0;34m\u001b[0m\u001b[0m\n\u001b[0;32m-> 3108\u001b[0;31m                 \u001b[0mobj\u001b[0m \u001b[0;34m=\u001b[0m \u001b[0mobj\u001b[0m\u001b[0;34m.\u001b[0m\u001b[0m_drop_axis\u001b[0m\u001b[0;34m(\u001b[0m\u001b[0mlabels\u001b[0m\u001b[0;34m,\u001b[0m \u001b[0maxis\u001b[0m\u001b[0;34m,\u001b[0m \u001b[0mlevel\u001b[0m\u001b[0;34m=\u001b[0m\u001b[0mlevel\u001b[0m\u001b[0;34m,\u001b[0m \u001b[0merrors\u001b[0m\u001b[0;34m=\u001b[0m\u001b[0merrors\u001b[0m\u001b[0;34m)\u001b[0m\u001b[0;34m\u001b[0m\u001b[0m\n\u001b[0m\u001b[1;32m   3109\u001b[0m \u001b[0;34m\u001b[0m\u001b[0m\n\u001b[1;32m   3110\u001b[0m         \u001b[0;32mif\u001b[0m \u001b[0minplace\u001b[0m\u001b[0;34m:\u001b[0m\u001b[0;34m\u001b[0m\u001b[0m\n",
      "\u001b[0;32m/Users/admin/anaconda2/lib/python2.7/site-packages/pandas/core/generic.pyc\u001b[0m in \u001b[0;36m_drop_axis\u001b[0;34m(self, labels, axis, level, errors)\u001b[0m\n\u001b[1;32m   3138\u001b[0m                 \u001b[0mnew_axis\u001b[0m \u001b[0;34m=\u001b[0m \u001b[0maxis\u001b[0m\u001b[0;34m.\u001b[0m\u001b[0mdrop\u001b[0m\u001b[0;34m(\u001b[0m\u001b[0mlabels\u001b[0m\u001b[0;34m,\u001b[0m \u001b[0mlevel\u001b[0m\u001b[0;34m=\u001b[0m\u001b[0mlevel\u001b[0m\u001b[0;34m,\u001b[0m \u001b[0merrors\u001b[0m\u001b[0;34m=\u001b[0m\u001b[0merrors\u001b[0m\u001b[0;34m)\u001b[0m\u001b[0;34m\u001b[0m\u001b[0m\n\u001b[1;32m   3139\u001b[0m             \u001b[0;32melse\u001b[0m\u001b[0;34m:\u001b[0m\u001b[0;34m\u001b[0m\u001b[0m\n\u001b[0;32m-> 3140\u001b[0;31m                 \u001b[0mnew_axis\u001b[0m \u001b[0;34m=\u001b[0m \u001b[0maxis\u001b[0m\u001b[0;34m.\u001b[0m\u001b[0mdrop\u001b[0m\u001b[0;34m(\u001b[0m\u001b[0mlabels\u001b[0m\u001b[0;34m,\u001b[0m \u001b[0merrors\u001b[0m\u001b[0;34m=\u001b[0m\u001b[0merrors\u001b[0m\u001b[0;34m)\u001b[0m\u001b[0;34m\u001b[0m\u001b[0m\n\u001b[0m\u001b[1;32m   3141\u001b[0m             \u001b[0mdropped\u001b[0m \u001b[0;34m=\u001b[0m \u001b[0mself\u001b[0m\u001b[0;34m.\u001b[0m\u001b[0mreindex\u001b[0m\u001b[0;34m(\u001b[0m\u001b[0;34m**\u001b[0m\u001b[0;34m{\u001b[0m\u001b[0maxis_name\u001b[0m\u001b[0;34m:\u001b[0m \u001b[0mnew_axis\u001b[0m\u001b[0;34m}\u001b[0m\u001b[0;34m)\u001b[0m\u001b[0;34m\u001b[0m\u001b[0m\n\u001b[1;32m   3142\u001b[0m             \u001b[0;32mtry\u001b[0m\u001b[0;34m:\u001b[0m\u001b[0;34m\u001b[0m\u001b[0m\n",
      "\u001b[0;32m/Users/admin/anaconda2/lib/python2.7/site-packages/pandas/core/indexes/base.pyc\u001b[0m in \u001b[0;36mdrop\u001b[0;34m(self, labels, errors)\u001b[0m\n\u001b[1;32m   4385\u001b[0m             \u001b[0;32mif\u001b[0m \u001b[0merrors\u001b[0m \u001b[0;34m!=\u001b[0m \u001b[0;34m'ignore'\u001b[0m\u001b[0;34m:\u001b[0m\u001b[0;34m\u001b[0m\u001b[0m\n\u001b[1;32m   4386\u001b[0m                 raise KeyError(\n\u001b[0;32m-> 4387\u001b[0;31m                     'labels %s not contained in axis' % labels[mask])\n\u001b[0m\u001b[1;32m   4388\u001b[0m             \u001b[0mindexer\u001b[0m \u001b[0;34m=\u001b[0m \u001b[0mindexer\u001b[0m\u001b[0;34m[\u001b[0m\u001b[0;34m~\u001b[0m\u001b[0mmask\u001b[0m\u001b[0;34m]\u001b[0m\u001b[0;34m\u001b[0m\u001b[0m\n\u001b[1;32m   4389\u001b[0m         \u001b[0;32mreturn\u001b[0m \u001b[0mself\u001b[0m\u001b[0;34m.\u001b[0m\u001b[0mdelete\u001b[0m\u001b[0;34m(\u001b[0m\u001b[0mindexer\u001b[0m\u001b[0;34m)\u001b[0m\u001b[0;34m\u001b[0m\u001b[0m\n",
      "\u001b[0;31mKeyError\u001b[0m: \"labels ['funded_amnt_inv' 'funded_amnt' 'out_prncp' 'out_prncp_inv' 'total_pymnt'\\n 'total_pymnt_inv' 'total_rec_prncp' 'total_rec_int' 'total_rec_late_fee'\\n 'last_pymnt_amnt' 'last_pymnt_d' 'next_pymnt_d' 'last_credit_pull_d'] not contained in axis\""
     ]
    }
   ],
   "source": [
    "full_data.drop(['funded_amnt_inv', 'funded_amnt', 'out_prncp', \n",
    "               'out_prncp_inv', 'total_pymnt', 'total_pymnt_inv', 'total_rec_prncp',\n",
    "               'total_rec_int', 'total_rec_late_fee', 'last_pymnt_amnt', 'last_pymnt_d', 'next_pymnt_d',\n",
    "               'last_credit_pull_d'], axis=1, inplace=True)"
   ]
  },
  {
   "cell_type": "markdown",
   "metadata": {},
   "source": [
    "After cleaning up uncessary, let's see how many columns we have in the dataset."
   ]
  },
  {
   "cell_type": "code",
   "execution_count": 10,
   "metadata": {},
   "outputs": [
    {
     "name": "stdout",
     "output_type": "stream",
     "text": [
      "Columns size: 103\n"
     ]
    },
    {
     "data": {
      "text/plain": [
       "['loan_amnt',\n",
       " 'term',\n",
       " 'int_rate',\n",
       " 'installment',\n",
       " 'grade',\n",
       " 'emp_title',\n",
       " 'emp_length',\n",
       " 'home_ownership',\n",
       " 'annual_inc',\n",
       " 'purpose',\n",
       " 'zip_code',\n",
       " 'addr_state',\n",
       " 'dti',\n",
       " 'delinq_2yrs',\n",
       " 'mths_since_last_delinq',\n",
       " 'revol_bal',\n",
       " 'revol_util',\n",
       " 'application_type',\n",
       " 'annual_inc_joint',\n",
       " 'dti_joint',\n",
       " 'acc_now_delinq',\n",
       " 'tot_coll_amt',\n",
       " 'tot_cur_bal',\n",
       " 'open_acc_6m',\n",
       " 'open_act_il',\n",
       " 'open_il_12m',\n",
       " 'open_il_24m',\n",
       " 'mths_since_rcnt_il',\n",
       " 'total_bal_il',\n",
       " 'il_util',\n",
       " 'open_rv_12m',\n",
       " 'open_rv_24m',\n",
       " 'max_bal_bc',\n",
       " 'all_util',\n",
       " 'total_rev_hi_lim',\n",
       " 'inq_fi',\n",
       " 'total_cu_tl',\n",
       " 'inq_last_12m',\n",
       " 'acc_open_past_24mths',\n",
       " 'avg_cur_bal',\n",
       " 'bc_open_to_buy',\n",
       " 'bc_util',\n",
       " 'chargeoff_within_12_mths',\n",
       " 'delinq_amnt',\n",
       " 'mo_sin_old_il_acct',\n",
       " 'mo_sin_old_rev_tl_op',\n",
       " 'mo_sin_rcnt_rev_tl_op',\n",
       " 'mo_sin_rcnt_tl',\n",
       " 'mort_acc',\n",
       " 'mths_since_recent_bc',\n",
       " 'mths_since_recent_bc_dlq',\n",
       " 'mths_since_recent_inq',\n",
       " 'mths_since_recent_revol_delinq',\n",
       " 'num_accts_ever_120_pd',\n",
       " 'num_actv_bc_tl',\n",
       " 'num_actv_rev_tl',\n",
       " 'num_bc_sats',\n",
       " 'num_bc_tl',\n",
       " 'num_il_tl',\n",
       " 'num_op_rev_tl',\n",
       " 'num_rev_accts',\n",
       " 'num_rev_tl_bal_gt_0',\n",
       " 'num_sats',\n",
       " 'num_tl_120dpd_2m',\n",
       " 'num_tl_30dpd',\n",
       " 'num_tl_90g_dpd_24m',\n",
       " 'num_tl_op_past_12m',\n",
       " 'pub_rec_bankruptcies',\n",
       " 'tax_liens',\n",
       " 'tot_hi_cred_lim',\n",
       " 'total_bal_ex_mort',\n",
       " 'total_bc_limit',\n",
       " 'total_il_high_credit_limit',\n",
       " 'sec_app_earliest_cr_line',\n",
       " 'sec_app_inq_last_6mths',\n",
       " 'sec_app_mort_acc',\n",
       " 'sec_app_open_acc',\n",
       " 'sec_app_revol_util',\n",
       " 'sec_app_open_act_il',\n",
       " 'sec_app_num_rev_accts',\n",
       " 'sec_app_chargeoff_within_12_mths',\n",
       " 'sec_app_collections_12_mths_ex_med',\n",
       " 'sec_app_mths_since_last_major_derog',\n",
       " 'hardship_flag',\n",
       " 'hardship_type',\n",
       " 'hardship_reason',\n",
       " 'hardship_status',\n",
       " 'deferral_term',\n",
       " 'hardship_amount',\n",
       " 'hardship_start_date',\n",
       " 'hardship_end_date',\n",
       " 'hardship_length',\n",
       " 'hardship_dpd',\n",
       " 'hardship_loan_status',\n",
       " 'orig_projected_additional_accrued_interest',\n",
       " 'hardship_payoff_balance_amount',\n",
       " 'hardship_last_payment_amount',\n",
       " 'disbursement_method',\n",
       " 'debt_settlement_flag',\n",
       " 'settlement_status',\n",
       " 'settlement_amount',\n",
       " 'settlement_percentage',\n",
       " 'settlement_term']"
      ]
     },
     "execution_count": 10,
     "metadata": {},
     "output_type": "execute_result"
    }
   ],
   "source": [
    "columns = list(full_data.columns.values)\n",
    "print \"Columns size:\", len(columns)\n",
    "columns"
   ]
  },
  {
   "cell_type": "markdown",
   "metadata": {},
   "source": [
    "The **int_rate** is Interest Rate on the loan. It is decided based on the grade of the loan so we do not need this information too."
   ]
  },
  {
   "cell_type": "code",
   "execution_count": 11,
   "metadata": {},
   "outputs": [],
   "source": [
    "full_data.drop(['int_rate'], axis=1, inplace=True)"
   ]
  },
  {
   "cell_type": "markdown",
   "metadata": {},
   "source": [
    "Next step, we will transform all categorical data into numbers because our model only understands numbers."
   ]
  },
  {
   "cell_type": "code",
   "execution_count": 12,
   "metadata": {},
   "outputs": [],
   "source": [
    "def convertEmploymentLength(l):\n",
    "    if l == '< 1 year' or l == 'nan':\n",
    "        return 0\n",
    "    if l == '10+ years':\n",
    "        return 10\n",
    "    if l[1] == ' ':\n",
    "        return (int)(l[:2])\n",
    "    return (int)(l[:3])\n",
    "\n",
    "def convert(data, listValue):\n",
    "    return listValue.index(data)\n",
    "\n",
    "def transformCategoricalData(df):\n",
    "    result = df.copy()\n",
    "    listPurpose = list(df['purpose'].unique())\n",
    "    listOwnership = list(df['home_ownership'].unique())\n",
    "    listAppType = list(df['application_type'].unique())\n",
    "    listHardshipFlag = list(df['hardship_flag'].unique())\n",
    "    listHSLoanStatus = list(df['hardship_loan_status'].unique())\n",
    "    listDisbursement = list(df['disbursement_method'].unique())\n",
    "    listDebtFlag = list(df['debt_settlement_flag'].unique())\n",
    "    for index, row in result.iterrows():\n",
    "        result.at[index, 'emp_length'] = convertEmploymentLength(row['emp_length'])\n",
    "        result.at[index, 'purpose'] = convert(row.purpose, listPurpose)\n",
    "        result.at[index, 'home_ownership'] = convert(row['home_ownership'], listOwnership)\n",
    "        result.at[index, 'application_type'] = convert(row['application_type'], listAppType)\n",
    "        result.at[index, 'hardship_flag'] = convert(row['hardship_flag'], listHardshipFlag)\n",
    "        result.at[index, 'hardship_loan_status'] = convert(row['hardship_loan_status'], listHSLoanStatus)\n",
    "        result.at[index, 'disbursement_method'] = convert(row['disbursement_method'], listDisbursement)\n",
    "        result.at[index, 'debt_settlement_flag'] = convert(row['debt_settlement_flag'], listDebtFlag)\n",
    "    return result"
   ]
  },
  {
   "cell_type": "code",
   "execution_count": 13,
   "metadata": {},
   "outputs": [
    {
     "data": {
      "text/html": [
       "<div>\n",
       "<style scoped>\n",
       "    .dataframe tbody tr th:only-of-type {\n",
       "        vertical-align: middle;\n",
       "    }\n",
       "\n",
       "    .dataframe tbody tr th {\n",
       "        vertical-align: top;\n",
       "    }\n",
       "\n",
       "    .dataframe thead th {\n",
       "        text-align: right;\n",
       "    }\n",
       "</style>\n",
       "<table border=\"1\" class=\"dataframe\">\n",
       "  <thead>\n",
       "    <tr style=\"text-align: right;\">\n",
       "      <th></th>\n",
       "      <th>loan_amnt</th>\n",
       "      <th>term</th>\n",
       "      <th>installment</th>\n",
       "      <th>grade</th>\n",
       "      <th>emp_title</th>\n",
       "      <th>emp_length</th>\n",
       "      <th>home_ownership</th>\n",
       "      <th>annual_inc</th>\n",
       "      <th>purpose</th>\n",
       "      <th>zip_code</th>\n",
       "      <th>...</th>\n",
       "      <th>hardship_loan_status</th>\n",
       "      <th>orig_projected_additional_accrued_interest</th>\n",
       "      <th>hardship_payoff_balance_amount</th>\n",
       "      <th>hardship_last_payment_amount</th>\n",
       "      <th>disbursement_method</th>\n",
       "      <th>debt_settlement_flag</th>\n",
       "      <th>settlement_status</th>\n",
       "      <th>settlement_amount</th>\n",
       "      <th>settlement_percentage</th>\n",
       "      <th>settlement_term</th>\n",
       "    </tr>\n",
       "  </thead>\n",
       "  <tbody>\n",
       "    <tr>\n",
       "      <th>0</th>\n",
       "      <td>4600.0</td>\n",
       "      <td>36</td>\n",
       "      <td>151.45</td>\n",
       "      <td>2</td>\n",
       "      <td>cable technician</td>\n",
       "      <td>4</td>\n",
       "      <td>0</td>\n",
       "      <td>44470.0</td>\n",
       "      <td>0</td>\n",
       "      <td>066xx</td>\n",
       "      <td>...</td>\n",
       "      <td>0</td>\n",
       "      <td>NaN</td>\n",
       "      <td>NaN</td>\n",
       "      <td>NaN</td>\n",
       "      <td>0</td>\n",
       "      <td>0</td>\n",
       "      <td>NaN</td>\n",
       "      <td>NaN</td>\n",
       "      <td>NaN</td>\n",
       "      <td>NaN</td>\n",
       "    </tr>\n",
       "    <tr>\n",
       "      <th>1</th>\n",
       "      <td>15400.0</td>\n",
       "      <td>60</td>\n",
       "      <td>337.84</td>\n",
       "      <td>2</td>\n",
       "      <td>Social worker</td>\n",
       "      <td>10</td>\n",
       "      <td>1</td>\n",
       "      <td>95000.0</td>\n",
       "      <td>1</td>\n",
       "      <td>068xx</td>\n",
       "      <td>...</td>\n",
       "      <td>0</td>\n",
       "      <td>NaN</td>\n",
       "      <td>NaN</td>\n",
       "      <td>NaN</td>\n",
       "      <td>0</td>\n",
       "      <td>0</td>\n",
       "      <td>NaN</td>\n",
       "      <td>NaN</td>\n",
       "      <td>NaN</td>\n",
       "      <td>NaN</td>\n",
       "    </tr>\n",
       "    <tr>\n",
       "      <th>2</th>\n",
       "      <td>14000.0</td>\n",
       "      <td>36</td>\n",
       "      <td>492.13</td>\n",
       "      <td>3</td>\n",
       "      <td>Project Leader</td>\n",
       "      <td>10</td>\n",
       "      <td>1</td>\n",
       "      <td>82000.0</td>\n",
       "      <td>0</td>\n",
       "      <td>672xx</td>\n",
       "      <td>...</td>\n",
       "      <td>0</td>\n",
       "      <td>NaN</td>\n",
       "      <td>NaN</td>\n",
       "      <td>NaN</td>\n",
       "      <td>0</td>\n",
       "      <td>0</td>\n",
       "      <td>NaN</td>\n",
       "      <td>NaN</td>\n",
       "      <td>NaN</td>\n",
       "      <td>NaN</td>\n",
       "    </tr>\n",
       "    <tr>\n",
       "      <th>3</th>\n",
       "      <td>5000.0</td>\n",
       "      <td>36</td>\n",
       "      <td>200.10</td>\n",
       "      <td>5</td>\n",
       "      <td>Pilot</td>\n",
       "      <td>10</td>\n",
       "      <td>1</td>\n",
       "      <td>215000.0</td>\n",
       "      <td>1</td>\n",
       "      <td>067xx</td>\n",
       "      <td>...</td>\n",
       "      <td>0</td>\n",
       "      <td>NaN</td>\n",
       "      <td>NaN</td>\n",
       "      <td>NaN</td>\n",
       "      <td>0</td>\n",
       "      <td>0</td>\n",
       "      <td>NaN</td>\n",
       "      <td>NaN</td>\n",
       "      <td>NaN</td>\n",
       "      <td>NaN</td>\n",
       "    </tr>\n",
       "    <tr>\n",
       "      <th>4</th>\n",
       "      <td>4700.0</td>\n",
       "      <td>36</td>\n",
       "      <td>165.22</td>\n",
       "      <td>3</td>\n",
       "      <td>RN Manager</td>\n",
       "      <td>10</td>\n",
       "      <td>1</td>\n",
       "      <td>100046.0</td>\n",
       "      <td>1</td>\n",
       "      <td>847xx</td>\n",
       "      <td>...</td>\n",
       "      <td>0</td>\n",
       "      <td>NaN</td>\n",
       "      <td>NaN</td>\n",
       "      <td>NaN</td>\n",
       "      <td>0</td>\n",
       "      <td>0</td>\n",
       "      <td>NaN</td>\n",
       "      <td>NaN</td>\n",
       "      <td>NaN</td>\n",
       "      <td>NaN</td>\n",
       "    </tr>\n",
       "  </tbody>\n",
       "</table>\n",
       "<p>5 rows × 102 columns</p>\n",
       "</div>"
      ],
      "text/plain": [
       "   loan_amnt term  installment  grade         emp_title emp_length  \\\n",
       "0     4600.0   36       151.45      2  cable technician          4   \n",
       "1    15400.0   60       337.84      2     Social worker         10   \n",
       "2    14000.0   36       492.13      3    Project Leader         10   \n",
       "3     5000.0   36       200.10      5             Pilot         10   \n",
       "4     4700.0   36       165.22      3        RN Manager         10   \n",
       "\n",
       "  home_ownership  annual_inc purpose zip_code       ...         \\\n",
       "0              0     44470.0       0    066xx       ...          \n",
       "1              1     95000.0       1    068xx       ...          \n",
       "2              1     82000.0       0    672xx       ...          \n",
       "3              1    215000.0       1    067xx       ...          \n",
       "4              1    100046.0       1    847xx       ...          \n",
       "\n",
       "  hardship_loan_status  orig_projected_additional_accrued_interest  \\\n",
       "0                    0                                         NaN   \n",
       "1                    0                                         NaN   \n",
       "2                    0                                         NaN   \n",
       "3                    0                                         NaN   \n",
       "4                    0                                         NaN   \n",
       "\n",
       "   hardship_payoff_balance_amount  hardship_last_payment_amount  \\\n",
       "0                             NaN                           NaN   \n",
       "1                             NaN                           NaN   \n",
       "2                             NaN                           NaN   \n",
       "3                             NaN                           NaN   \n",
       "4                             NaN                           NaN   \n",
       "\n",
       "   disbursement_method debt_settlement_flag settlement_status  \\\n",
       "0                    0                    0               NaN   \n",
       "1                    0                    0               NaN   \n",
       "2                    0                    0               NaN   \n",
       "3                    0                    0               NaN   \n",
       "4                    0                    0               NaN   \n",
       "\n",
       "   settlement_amount  settlement_percentage  settlement_term  \n",
       "0                NaN                    NaN              NaN  \n",
       "1                NaN                    NaN              NaN  \n",
       "2                NaN                    NaN              NaN  \n",
       "3                NaN                    NaN              NaN  \n",
       "4                NaN                    NaN              NaN  \n",
       "\n",
       "[5 rows x 102 columns]"
      ]
     },
     "execution_count": 13,
     "metadata": {},
     "output_type": "execute_result"
    }
   ],
   "source": [
    "full_data['term'] = full_data['term'].apply(lambda x: x[:3])\n",
    "full_data['emp_length'] = full_data['emp_length'].astype('str') \n",
    "full_data = transformCategoricalData(full_data)\n",
    "full_data.head(5)"
   ]
  },
  {
   "cell_type": "markdown",
   "metadata": {},
   "source": [
    "After transforming all of categorical data, I figure out some more columns that we need to remove because it just give more details about other columns."
   ]
  },
  {
   "cell_type": "code",
   "execution_count": 14,
   "metadata": {},
   "outputs": [],
   "source": [
    "full_data.drop(['emp_title', 'settlement_status','hardship_loan_status', 'hardship_dpd',\n",
    "               'hardship_end_date', 'hardship_start_date', 'deferral_term', 'hardship_status', 'zip_code', ], axis=1, inplace=True)"
   ]
  },
  {
   "cell_type": "markdown",
   "metadata": {},
   "source": [
    "We drop features that contain too many NA values. Let's count the NA values of each feature."
   ]
  },
  {
   "cell_type": "code",
   "execution_count": 15,
   "metadata": {},
   "outputs": [
    {
     "data": {
      "text/plain": [
       "dti                                              33\n",
       "mths_since_last_delinq                        46293\n",
       "revol_util                                       51\n",
       "annual_inc_joint                              92372\n",
       "dti_joint                                     92372\n",
       "mths_since_rcnt_il                             2596\n",
       "il_util                                       12998\n",
       "all_util                                          3\n",
       "bc_open_to_buy                                  985\n",
       "bc_util                                        1028\n",
       "mo_sin_old_il_acct                             2596\n",
       "mths_since_recent_bc                            945\n",
       "mths_since_recent_bc_dlq                      72987\n",
       "mths_since_recent_inq                         11314\n",
       "mths_since_recent_revol_delinq                62320\n",
       "num_tl_120dpd_2m                               4706\n",
       "sec_app_earliest_cr_line                      95754\n",
       "sec_app_inq_last_6mths                        95754\n",
       "sec_app_mort_acc                              95754\n",
       "sec_app_open_acc                              95754\n",
       "sec_app_revol_util                            95760\n",
       "sec_app_open_act_il                           95754\n",
       "sec_app_num_rev_accts                         95754\n",
       "sec_app_chargeoff_within_12_mths              95754\n",
       "sec_app_collections_12_mths_ex_med            95754\n",
       "sec_app_mths_since_last_major_derog           96423\n",
       "hardship_type                                 96171\n",
       "hardship_reason                               96171\n",
       "hardship_amount                               96171\n",
       "hardship_length                               96171\n",
       "orig_projected_additional_accrued_interest    96276\n",
       "hardship_payoff_balance_amount                96171\n",
       "hardship_last_payment_amount                  96171\n",
       "settlement_amount                             96158\n",
       "settlement_percentage                         96158\n",
       "settlement_term                               96158\n",
       "dtype: int64"
      ]
     },
     "execution_count": 15,
     "metadata": {},
     "output_type": "execute_result"
    }
   ],
   "source": [
    "nullData = full_data.isnull().sum()\n",
    "nullData[nullData > 0]"
   ]
  },
  {
   "cell_type": "markdown",
   "metadata": {},
   "source": [
    "We have **96779** rows in our dataset but we can see that there are many features having NA values for over **90000** rows. So we will drop all the columns having NA values for over 90000 rows."
   ]
  },
  {
   "cell_type": "code",
   "execution_count": 16,
   "metadata": {},
   "outputs": [
    {
     "data": {
      "text/html": [
       "<div>\n",
       "<style scoped>\n",
       "    .dataframe tbody tr th:only-of-type {\n",
       "        vertical-align: middle;\n",
       "    }\n",
       "\n",
       "    .dataframe tbody tr th {\n",
       "        vertical-align: top;\n",
       "    }\n",
       "\n",
       "    .dataframe thead th {\n",
       "        text-align: right;\n",
       "    }\n",
       "</style>\n",
       "<table border=\"1\" class=\"dataframe\">\n",
       "  <thead>\n",
       "    <tr style=\"text-align: right;\">\n",
       "      <th></th>\n",
       "      <th>loan_amnt</th>\n",
       "      <th>term</th>\n",
       "      <th>installment</th>\n",
       "      <th>grade</th>\n",
       "      <th>emp_length</th>\n",
       "      <th>home_ownership</th>\n",
       "      <th>annual_inc</th>\n",
       "      <th>purpose</th>\n",
       "      <th>addr_state</th>\n",
       "      <th>dti</th>\n",
       "      <th>...</th>\n",
       "      <th>num_tl_op_past_12m</th>\n",
       "      <th>pub_rec_bankruptcies</th>\n",
       "      <th>tax_liens</th>\n",
       "      <th>tot_hi_cred_lim</th>\n",
       "      <th>total_bal_ex_mort</th>\n",
       "      <th>total_bc_limit</th>\n",
       "      <th>total_il_high_credit_limit</th>\n",
       "      <th>hardship_flag</th>\n",
       "      <th>disbursement_method</th>\n",
       "      <th>debt_settlement_flag</th>\n",
       "    </tr>\n",
       "  </thead>\n",
       "  <tbody>\n",
       "    <tr>\n",
       "      <th>0</th>\n",
       "      <td>4600.0</td>\n",
       "      <td>36</td>\n",
       "      <td>151.45</td>\n",
       "      <td>2</td>\n",
       "      <td>4</td>\n",
       "      <td>0</td>\n",
       "      <td>44470.0</td>\n",
       "      <td>0</td>\n",
       "      <td>CT</td>\n",
       "      <td>13.43</td>\n",
       "      <td>...</td>\n",
       "      <td>2.0</td>\n",
       "      <td>0.0</td>\n",
       "      <td>0.0</td>\n",
       "      <td>40000.0</td>\n",
       "      <td>9625.0</td>\n",
       "      <td>14500.0</td>\n",
       "      <td>11700.0</td>\n",
       "      <td>0</td>\n",
       "      <td>0</td>\n",
       "      <td>0</td>\n",
       "    </tr>\n",
       "    <tr>\n",
       "      <th>1</th>\n",
       "      <td>15400.0</td>\n",
       "      <td>60</td>\n",
       "      <td>337.84</td>\n",
       "      <td>2</td>\n",
       "      <td>10</td>\n",
       "      <td>1</td>\n",
       "      <td>95000.0</td>\n",
       "      <td>1</td>\n",
       "      <td>CT</td>\n",
       "      <td>11.52</td>\n",
       "      <td>...</td>\n",
       "      <td>2.0</td>\n",
       "      <td>0.0</td>\n",
       "      <td>0.0</td>\n",
       "      <td>579945.0</td>\n",
       "      <td>158331.0</td>\n",
       "      <td>25800.0</td>\n",
       "      <td>143395.0</td>\n",
       "      <td>0</td>\n",
       "      <td>0</td>\n",
       "      <td>0</td>\n",
       "    </tr>\n",
       "    <tr>\n",
       "      <th>2</th>\n",
       "      <td>14000.0</td>\n",
       "      <td>36</td>\n",
       "      <td>492.13</td>\n",
       "      <td>3</td>\n",
       "      <td>10</td>\n",
       "      <td>1</td>\n",
       "      <td>82000.0</td>\n",
       "      <td>0</td>\n",
       "      <td>KS</td>\n",
       "      <td>31.07</td>\n",
       "      <td>...</td>\n",
       "      <td>0.0</td>\n",
       "      <td>0.0</td>\n",
       "      <td>0.0</td>\n",
       "      <td>286204.0</td>\n",
       "      <td>104008.0</td>\n",
       "      <td>81400.0</td>\n",
       "      <td>60167.0</td>\n",
       "      <td>0</td>\n",
       "      <td>0</td>\n",
       "      <td>0</td>\n",
       "    </tr>\n",
       "    <tr>\n",
       "      <th>3</th>\n",
       "      <td>5000.0</td>\n",
       "      <td>36</td>\n",
       "      <td>200.10</td>\n",
       "      <td>5</td>\n",
       "      <td>10</td>\n",
       "      <td>1</td>\n",
       "      <td>215000.0</td>\n",
       "      <td>1</td>\n",
       "      <td>CT</td>\n",
       "      <td>6.06</td>\n",
       "      <td>...</td>\n",
       "      <td>4.0</td>\n",
       "      <td>0.0</td>\n",
       "      <td>0.0</td>\n",
       "      <td>100763.0</td>\n",
       "      <td>44754.0</td>\n",
       "      <td>46200.0</td>\n",
       "      <td>49814.0</td>\n",
       "      <td>0</td>\n",
       "      <td>0</td>\n",
       "      <td>0</td>\n",
       "    </tr>\n",
       "    <tr>\n",
       "      <th>4</th>\n",
       "      <td>4700.0</td>\n",
       "      <td>36</td>\n",
       "      <td>165.22</td>\n",
       "      <td>3</td>\n",
       "      <td>10</td>\n",
       "      <td>1</td>\n",
       "      <td>100046.0</td>\n",
       "      <td>1</td>\n",
       "      <td>UT</td>\n",
       "      <td>12.37</td>\n",
       "      <td>...</td>\n",
       "      <td>1.0</td>\n",
       "      <td>0.0</td>\n",
       "      <td>0.0</td>\n",
       "      <td>353570.0</td>\n",
       "      <td>49114.0</td>\n",
       "      <td>3500.0</td>\n",
       "      <td>58668.0</td>\n",
       "      <td>0</td>\n",
       "      <td>0</td>\n",
       "      <td>0</td>\n",
       "    </tr>\n",
       "  </tbody>\n",
       "</table>\n",
       "<p>5 rows × 71 columns</p>\n",
       "</div>"
      ],
      "text/plain": [
       "   loan_amnt term  installment  grade emp_length home_ownership  annual_inc  \\\n",
       "0     4600.0   36       151.45      2          4              0     44470.0   \n",
       "1    15400.0   60       337.84      2         10              1     95000.0   \n",
       "2    14000.0   36       492.13      3         10              1     82000.0   \n",
       "3     5000.0   36       200.10      5         10              1    215000.0   \n",
       "4     4700.0   36       165.22      3         10              1    100046.0   \n",
       "\n",
       "  purpose addr_state    dti          ...           num_tl_op_past_12m  \\\n",
       "0       0         CT  13.43          ...                          2.0   \n",
       "1       1         CT  11.52          ...                          2.0   \n",
       "2       0         KS  31.07          ...                          0.0   \n",
       "3       1         CT   6.06          ...                          4.0   \n",
       "4       1         UT  12.37          ...                          1.0   \n",
       "\n",
       "   pub_rec_bankruptcies  tax_liens tot_hi_cred_lim total_bal_ex_mort  \\\n",
       "0                   0.0        0.0         40000.0            9625.0   \n",
       "1                   0.0        0.0        579945.0          158331.0   \n",
       "2                   0.0        0.0        286204.0          104008.0   \n",
       "3                   0.0        0.0        100763.0           44754.0   \n",
       "4                   0.0        0.0        353570.0           49114.0   \n",
       "\n",
       "   total_bc_limit  total_il_high_credit_limit  hardship_flag  \\\n",
       "0         14500.0                     11700.0              0   \n",
       "1         25800.0                    143395.0              0   \n",
       "2         81400.0                     60167.0              0   \n",
       "3         46200.0                     49814.0              0   \n",
       "4          3500.0                     58668.0              0   \n",
       "\n",
       "   disbursement_method  debt_settlement_flag  \n",
       "0                    0                     0  \n",
       "1                    0                     0  \n",
       "2                    0                     0  \n",
       "3                    0                     0  \n",
       "4                    0                     0  \n",
       "\n",
       "[5 rows x 71 columns]"
      ]
     },
     "execution_count": 16,
     "metadata": {},
     "output_type": "execute_result"
    }
   ],
   "source": [
    "drop_columns = nullData[nullData > 90000].keys()\n",
    "full_data.drop(drop_columns, axis=1, inplace=True)\n",
    "full_data.head(5)"
   ]
  },
  {
   "cell_type": "markdown",
   "metadata": {},
   "source": [
    "Now let's explore the columns that have less NA values to decide whehter we should keep them or not"
   ]
  },
  {
   "cell_type": "code",
   "execution_count": 17,
   "metadata": {},
   "outputs": [
    {
     "data": {
      "text/plain": [
       "dti                                  33\n",
       "mths_since_last_delinq            46293\n",
       "revol_util                           51\n",
       "mths_since_rcnt_il                 2596\n",
       "il_util                           12998\n",
       "all_util                              3\n",
       "bc_open_to_buy                      985\n",
       "bc_util                            1028\n",
       "mo_sin_old_il_acct                 2596\n",
       "mths_since_recent_bc                945\n",
       "mths_since_recent_bc_dlq          72987\n",
       "mths_since_recent_inq             11314\n",
       "mths_since_recent_revol_delinq    62320\n",
       "num_tl_120dpd_2m                   4706\n",
       "dtype: int64"
      ]
     },
     "execution_count": 17,
     "metadata": {},
     "output_type": "execute_result"
    }
   ],
   "source": [
    "nullData = full_data.isnull().sum()\n",
    "nullData[nullData > 0]"
   ]
  },
  {
   "cell_type": "markdown",
   "metadata": {},
   "source": [
    "We will remove the **mths_since_last_delinq**, **mths_since_recent_bc_dlq** and **mths_since_recent_revol_delinq**. These information are not valuable enough and they have a lot of NA values."
   ]
  },
  {
   "cell_type": "code",
   "execution_count": 18,
   "metadata": {},
   "outputs": [],
   "source": [
    "full_data.drop(['revol_util', 'mths_since_last_delinq', 'mths_since_recent_bc_dlq', 'mths_since_recent_revol_delinq'],\n",
    "               axis=1, inplace=True)"
   ]
  },
  {
   "cell_type": "code",
   "execution_count": 19,
   "metadata": {},
   "outputs": [
    {
     "data": {
      "text/plain": [
       "dti                         33\n",
       "mths_since_rcnt_il        2596\n",
       "il_util                  12998\n",
       "all_util                     3\n",
       "bc_open_to_buy             985\n",
       "bc_util                   1028\n",
       "mo_sin_old_il_acct        2596\n",
       "mths_since_recent_bc       945\n",
       "mths_since_recent_inq    11314\n",
       "num_tl_120dpd_2m          4706\n",
       "dtype: int64"
      ]
     },
     "execution_count": 19,
     "metadata": {},
     "output_type": "execute_result"
    }
   ],
   "source": [
    "nullData = full_data.isnull().sum()\n",
    "nullData[nullData > 0]"
   ]
  },
  {
   "cell_type": "markdown",
   "metadata": {},
   "source": [
    "First, let's talk about **dti**. **DTI** is considered one of the most important factor for lender to decide. That's why for all the rows not having value of dti, we remove them all."
   ]
  },
  {
   "cell_type": "code",
   "execution_count": 20,
   "metadata": {},
   "outputs": [],
   "source": [
    "full_data = full_data[pd.notnull(full_data['dti'])]"
   ]
  },
  {
   "cell_type": "code",
   "execution_count": 21,
   "metadata": {},
   "outputs": [
    {
     "data": {
      "text/plain": [
       "mths_since_rcnt_il        2593\n",
       "il_util                  12987\n",
       "all_util                     3\n",
       "bc_open_to_buy             985\n",
       "bc_util                   1028\n",
       "mo_sin_old_il_acct        2593\n",
       "mths_since_recent_bc       945\n",
       "mths_since_recent_inq    11309\n",
       "num_tl_120dpd_2m          4706\n",
       "dtype: int64"
      ]
     },
     "execution_count": 21,
     "metadata": {},
     "output_type": "execute_result"
    }
   ],
   "source": [
    "nullData = full_data.isnull().sum()\n",
    "nullData[nullData > 0]"
   ]
  },
  {
   "cell_type": "markdown",
   "metadata": {},
   "source": [
    "All other columns, the **NA** value will be replaced by the mean value of the whole columns"
   ]
  },
  {
   "cell_type": "code",
   "execution_count": 22,
   "metadata": {},
   "outputs": [],
   "source": [
    "nullData = nullData[nullData > 0]\n",
    "for key in nullData.keys():\n",
    "        full_data[key].fillna((full_data[key].mean()), inplace=True)"
   ]
  },
  {
   "cell_type": "markdown",
   "metadata": {},
   "source": [
    "Let's see whether we have any columns having **NA** value."
   ]
  },
  {
   "cell_type": "code",
   "execution_count": 23,
   "metadata": {},
   "outputs": [
    {
     "data": {
      "text/plain": [
       "Series([], dtype: int64)"
      ]
     },
     "execution_count": 23,
     "metadata": {},
     "output_type": "execute_result"
    }
   ],
   "source": [
    "nullData = full_data.isnull().sum()\n",
    "nullData[nullData > 0]"
   ]
  },
  {
   "cell_type": "markdown",
   "metadata": {},
   "source": [
    "Now we have cleaned up the dataset."
   ]
  },
  {
   "cell_type": "markdown",
   "metadata": {},
   "source": [
    "### Building Model\n",
    "#### Model built by trying correlation for feature selection"
   ]
  },
  {
   "cell_type": "code",
   "execution_count": 24,
   "metadata": {},
   "outputs": [
    {
     "data": {
      "text/plain": [
       "{0.002620786330149851: 'num_tl_120dpd_2m',\n",
       " 0.002868032739389746: 'total_bal_il',\n",
       " 0.0035222474192166155: 'tot_coll_amt',\n",
       " 0.0035585925454921143: 'delinq_amnt',\n",
       " 0.0036375973043233545: 'open_act_il',\n",
       " 0.004023268027440389: 'acc_now_delinq',\n",
       " 0.004292827266843358: 'num_tl_30dpd',\n",
       " 0.006582131284631973: 'chargeoff_within_12_mths',\n",
       " 0.006670490590471688: 'num_il_tl',\n",
       " 0.008411574606899636: 'num_sats',\n",
       " 0.008874350070645975: 'total_bal_ex_mort',\n",
       " 0.01021101360921158: 'num_op_rev_tl',\n",
       " 0.013069087108569053: 'tax_liens',\n",
       " 0.016008845532249506: 'num_bc_sats',\n",
       " 0.018579573825558273: 'total_cu_tl',\n",
       " 0.02100474562285495: 'num_tl_90g_dpd_24m',\n",
       " 0.023471881436637122: 'revol_bal',\n",
       " 0.024689047082319233: 'delinq_2yrs',\n",
       " 0.02913894314658161: 'total_il_high_credit_limit',\n",
       " 0.03537705174322993: 'annual_inc',\n",
       " 0.040452044135531905: 'num_accts_ever_120_pd',\n",
       " 0.046063934217445625: 'num_rev_accts',\n",
       " 0.05269589449633636: 'mths_since_rcnt_il',\n",
       " 0.05680901163814786: 'max_bal_bc',\n",
       " 0.0579411790142707: 'num_actv_bc_tl',\n",
       " 0.06133298624454346: 'num_bc_tl',\n",
       " 0.06852779313738981: 'pub_rec_bankruptcies',\n",
       " 0.07443539156875172: 'mo_sin_old_il_acct',\n",
       " 0.09544172764046527: 'num_actv_rev_tl',\n",
       " 0.09732846859319616: 'num_rev_tl_bal_gt_0',\n",
       " 0.09740030742633138: 'mths_since_recent_bc',\n",
       " 0.10240495284058664: 'mo_sin_rcnt_tl',\n",
       " 0.10514401625658164: 'avg_cur_bal',\n",
       " 0.10685434923699261: 'mo_sin_rcnt_rev_tl_op',\n",
       " 0.10717783649289478: 'tot_cur_bal',\n",
       " 0.12027128867226836: 'dti',\n",
       " 0.12342531397038162: 'il_util',\n",
       " 0.12454646322742839: 'mths_since_recent_inq',\n",
       " 0.1266986961338222: 'mort_acc',\n",
       " 0.1335322312360211: 'loan_amnt',\n",
       " 0.134044820361212: 'open_il_24m',\n",
       " 0.1344541505334954: 'inq_fi',\n",
       " 0.141822349254642: 'mo_sin_old_rev_tl_op',\n",
       " 0.14256221515230028: 'tot_hi_cred_lim',\n",
       " 0.1508211127733785: 'open_acc_6m',\n",
       " 0.15623474957925032: 'total_rev_hi_lim',\n",
       " 0.1571356684693844: 'open_il_12m',\n",
       " 0.15915645943959708: 'open_rv_12m',\n",
       " 0.1701915142037575: 'installment',\n",
       " 0.17635951335889832: 'open_rv_24m',\n",
       " 0.17888256755476764: 'inq_last_12m',\n",
       " 0.19163415870496792: 'total_bc_limit',\n",
       " 0.1974871643854364: 'num_tl_op_past_12m',\n",
       " 0.20110765056287067: 'acc_open_past_24mths',\n",
       " 0.23359120361603347: 'bc_util',\n",
       " 0.23580251102216213: 'all_util',\n",
       " 0.2478157921765269: 'bc_open_to_buy'}"
      ]
     },
     "execution_count": 24,
     "metadata": {},
     "output_type": "execute_result"
    }
   ],
   "source": [
    "columns = list(full_data.columns.values)\n",
    "columns.remove('grade')\n",
    "list_feature = {}\n",
    "for col in columns:\n",
    "    if full_data[col].dtype == 'object':\n",
    "        continue\n",
    "    correlation = full_data['grade'].corr(full_data[col])\n",
    "    if correlation != 0:\n",
    "        list_feature[abs(correlation)] = col\n",
    "\n",
    "list_feature"
   ]
  },
  {
   "cell_type": "markdown",
   "metadata": {},
   "source": [
    "Now we have a list of correlation of each feature. Now we need to sort this list descending so we always try the best correlation first."
   ]
  },
  {
   "cell_type": "code",
   "execution_count": 93,
   "metadata": {},
   "outputs": [],
   "source": [
    "from sklearn.model_selection import train_test_split\n",
    "from sklearn.linear_model import LogisticRegression\n",
    "from sklearn.metrics import accuracy_score\n",
    "from sklearn.ensemble import RandomForestClassifier\n",
    "from sklearn.metrics import confusion_matrix\n",
    "\n",
    "def calculateAccuracy(features, data, outcome):\n",
    "    X = pd.DataFrame(data, columns=features)\n",
    "    y = data[outcome]\n",
    "    X_train, X_test, y_train, y_test = train_test_split(X, y, test_size=0.3, random_state=101)\n",
    "    logistic = LogisticRegression()\n",
    "    logistic.fit(X_train, y_train)\n",
    "    return accuracy_score(y_test, logistic.predict(X_test))\n",
    "\n",
    "def calculateAccuracyRF(features, data, outcome):\n",
    "    X = pd.DataFrame(data, columns=features)\n",
    "    y = data[outcome]\n",
    "    X_train, X_test, y_train, y_test = train_test_split(X, y, test_size=0.3, random_state=101)\n",
    "    random_forest = RandomForestClassifier(max_depth=10, random_state=0)\n",
    "    random_forest.fit(X_train, y_train)\n",
    "    prediction = random_forest.predict(X_test)\n",
    "    print confusion_matrix(y_test, prediction)\n",
    "    return accuracy_score(y_test, prediction)"
   ]
  },
  {
   "cell_type": "code",
   "execution_count": 397,
   "metadata": {},
   "outputs": [],
   "source": [
    "correlation = list_feature.keys()\n",
    "correlation.sort(reverse=True)\n",
    "\n",
    "test_list_feature = [list_feature[x] for x in correlation[:10]]\n",
    "results_LR = []\n",
    "test_data = full_data.head(5000)\n",
    "for i in range(11, len(correlation)):\n",
    "    test_list_feature.append(list_feature[correlation[i]])\n",
    "    results_LR.append(calculateAccuracy(test_list_feature, test_data, 'grade'))\n"
   ]
  },
  {
   "cell_type": "code",
   "execution_count": 400,
   "metadata": {},
   "outputs": [
    {
     "data": {
      "image/png": "[encoded data removed]",
      "text/plain": [
       "<Figure size 432x288 with 1 Axes>"
      ]
     },
     "metadata": {},
     "output_type": "display_data"
    }
   ],
   "source": [
    "x = range(11, len(results_LR)+11)\n",
    "y = results_LR\n",
    "plt.plot(x, y, 'o', color='black');"
   ]
  },
  {
   "cell_type": "code",
   "execution_count": 401,
   "metadata": {},
   "outputs": [],
   "source": [
    "test_list_feature = [list_feature[x] for x in correlation[:10]]\n",
    "results_RF = []\n",
    "test_data = full_data.head(5000)\n",
    "for i in range(11, len(correlation)):\n",
    "    test_list_feature.append(list_feature[correlation[i]])\n",
    "    results_RF.append(calculateAccuracyRF(test_list_feature, test_data, 'grade'))"
   ]
  },
  {
   "cell_type": "code",
   "execution_count": 402,
   "metadata": {},
   "outputs": [
    {
     "data": {
      "image/png": "[encoded data removed]",
      "text/plain": [
       "<Figure size 432x288 with 1 Axes>"
      ]
     },
     "metadata": {},
     "output_type": "display_data"
    }
   ],
   "source": [
    "x = range(11, len(results_RF)+11)\n",
    "y = results_RF\n",
    "plt.plot(x, y, 'o', color='black');"
   ]
  },
  {
   "cell_type": "markdown",
   "metadata": {},
   "source": [
    "### Model bulit by modifying outcomes into binary outcomes"
   ]
  },
  {
   "cell_type": "code",
   "execution_count": 32,
   "metadata": {},
   "outputs": [],
   "source": [
    "def transformGrade(value, row):\n",
    "    if row['grade'] == value:\n",
    "        return 1\n",
    "    else:\n",
    "        return 0"
   ]
  },
  {
   "cell_type": "code",
   "execution_count": 33,
   "metadata": {},
   "outputs": [],
   "source": [
    "full_data['grade_A'] = full_data.apply (lambda row: transformGrade(1, row),axis=1)\n",
    "full_data['grade_B'] = full_data.apply (lambda row: transformGrade(2, row),axis=1)\n",
    "full_data['grade_C'] = full_data.apply (lambda row: transformGrade(3, row),axis=1)\n",
    "full_data['grade_D'] = full_data.apply (lambda row: transformGrade(4, row),axis=1)\n",
    "full_data['grade_E'] = full_data.apply (lambda row: transformGrade(5, row),axis=1)\n",
    "full_data['grade_F'] = full_data.apply (lambda row: transformGrade(6, row),axis=1)\n",
    "full_data['grade_G'] = full_data.apply (lambda row: transformGrade(7, row),axis=1)"
   ]
  },
  {
   "cell_type": "code",
   "execution_count": 417,
   "metadata": {},
   "outputs": [],
   "source": [
    "def tryCorrelation(outcome, useRF):\n",
    "    correlation = list_feature.keys()\n",
    "    correlation.sort(reverse=True)\n",
    "\n",
    "    test_list_feature = [list_feature[x] for x in correlation[:10]]\n",
    "    results_LR = []\n",
    "    test_data = full_data.head(5000)\n",
    "    for i in range(11, len(correlation)):\n",
    "        test_list_feature.append(list_feature[correlation[i]])\n",
    "        if useRF:\n",
    "            results_LR.append(calculateAccuracyRF(test_list_feature, test_data, outcome))\n",
    "        else:\n",
    "            results_LR.append(calculateAccuracy(test_list_feature, test_data, outcome))\n",
    "    x = range(11, len(results_LR)+11)\n",
    "    y = results_RF\n",
    "    plt.plot(x, y, 'o', color='black');"
   ]
  },
  {
   "cell_type": "code",
   "execution_count": 424,
   "metadata": {},
   "outputs": [
    {
     "data": {
      "image/png": "[encoded data removed]",
      "text/plain": [
       "<Figure size 432x288 with 1 Axes>"
      ]
     },
     "metadata": {},
     "output_type": "display_data"
    }
   ],
   "source": [
    "tryCorrelation('grade_C', False)"
   ]
  },
  {
   "cell_type": "code",
   "execution_count": 46,
   "metadata": {},
   "outputs": [
    {
     "ename": "KeyboardInterrupt",
     "evalue": "",
     "output_type": "error",
     "traceback": [
      "\u001b[0;31m---------------------------------------------------------------------------\u001b[0m",
      "\u001b[0;31mKeyboardInterrupt\u001b[0m                         Traceback (most recent call last)",
      "\u001b[0;32m<ipython-input-46-bf7d98130548>\u001b[0m in \u001b[0;36m<module>\u001b[0;34m()\u001b[0m\n\u001b[1;32m     11\u001b[0m \u001b[0;31m#rank all features, i.e continue the elimination until the last one\u001b[0m\u001b[0;34m\u001b[0m\u001b[0;34m\u001b[0m\u001b[0m\n\u001b[1;32m     12\u001b[0m \u001b[0mrfe\u001b[0m \u001b[0;34m=\u001b[0m \u001b[0mRFE\u001b[0m\u001b[0;34m(\u001b[0m\u001b[0mlr\u001b[0m\u001b[0;34m,\u001b[0m \u001b[0mn_features_to_select\u001b[0m\u001b[0;34m=\u001b[0m\u001b[0;36m1\u001b[0m\u001b[0;34m)\u001b[0m\u001b[0;34m\u001b[0m\u001b[0m\n\u001b[0;32m---> 13\u001b[0;31m \u001b[0mrfe\u001b[0m\u001b[0;34m.\u001b[0m\u001b[0mfit\u001b[0m\u001b[0;34m(\u001b[0m\u001b[0mX\u001b[0m\u001b[0;34m,\u001b[0m\u001b[0my\u001b[0m\u001b[0;34m)\u001b[0m\u001b[0;34m\u001b[0m\u001b[0m\n\u001b[0m\u001b[1;32m     14\u001b[0m \u001b[0;34m\u001b[0m\u001b[0m\n\u001b[1;32m     15\u001b[0m \u001b[0;32mprint\u001b[0m \u001b[0;34m\"Features sorted by their rank:\"\u001b[0m\u001b[0;34m\u001b[0m\u001b[0m\n",
      "\u001b[0;32m/Users/admin/anaconda2/lib/python2.7/site-packages/sklearn/feature_selection/rfe.pyc\u001b[0m in \u001b[0;36mfit\u001b[0;34m(self, X, y)\u001b[0m\n\u001b[1;32m    132\u001b[0m             \u001b[0mThe\u001b[0m \u001b[0mtarget\u001b[0m \u001b[0mvalues\u001b[0m\u001b[0;34m.\u001b[0m\u001b[0;34m\u001b[0m\u001b[0m\n\u001b[1;32m    133\u001b[0m         \"\"\"\n\u001b[0;32m--> 134\u001b[0;31m         \u001b[0;32mreturn\u001b[0m \u001b[0mself\u001b[0m\u001b[0;34m.\u001b[0m\u001b[0m_fit\u001b[0m\u001b[0;34m(\u001b[0m\u001b[0mX\u001b[0m\u001b[0;34m,\u001b[0m \u001b[0my\u001b[0m\u001b[0;34m)\u001b[0m\u001b[0;34m\u001b[0m\u001b[0m\n\u001b[0m\u001b[1;32m    135\u001b[0m \u001b[0;34m\u001b[0m\u001b[0m\n\u001b[1;32m    136\u001b[0m     \u001b[0;32mdef\u001b[0m \u001b[0m_fit\u001b[0m\u001b[0;34m(\u001b[0m\u001b[0mself\u001b[0m\u001b[0;34m,\u001b[0m \u001b[0mX\u001b[0m\u001b[0;34m,\u001b[0m \u001b[0my\u001b[0m\u001b[0;34m,\u001b[0m \u001b[0mstep_score\u001b[0m\u001b[0;34m=\u001b[0m\u001b[0mNone\u001b[0m\u001b[0;34m)\u001b[0m\u001b[0;34m:\u001b[0m\u001b[0;34m\u001b[0m\u001b[0m\n",
      "\u001b[0;32m/Users/admin/anaconda2/lib/python2.7/site-packages/sklearn/feature_selection/rfe.pyc\u001b[0m in \u001b[0;36m_fit\u001b[0;34m(self, X, y, step_score)\u001b[0m\n\u001b[1;32m    171\u001b[0m                 \u001b[0;32mprint\u001b[0m\u001b[0;34m(\u001b[0m\u001b[0;34m\"Fitting estimator with %d features.\"\u001b[0m \u001b[0;34m%\u001b[0m \u001b[0mnp\u001b[0m\u001b[0;34m.\u001b[0m\u001b[0msum\u001b[0m\u001b[0;34m(\u001b[0m\u001b[0msupport_\u001b[0m\u001b[0;34m)\u001b[0m\u001b[0;34m)\u001b[0m\u001b[0;34m\u001b[0m\u001b[0m\n\u001b[1;32m    172\u001b[0m \u001b[0;34m\u001b[0m\u001b[0m\n\u001b[0;32m--> 173\u001b[0;31m             \u001b[0mestimator\u001b[0m\u001b[0;34m.\u001b[0m\u001b[0mfit\u001b[0m\u001b[0;34m(\u001b[0m\u001b[0mX\u001b[0m\u001b[0;34m[\u001b[0m\u001b[0;34m:\u001b[0m\u001b[0;34m,\u001b[0m \u001b[0mfeatures\u001b[0m\u001b[0;34m]\u001b[0m\u001b[0;34m,\u001b[0m \u001b[0my\u001b[0m\u001b[0;34m)\u001b[0m\u001b[0;34m\u001b[0m\u001b[0m\n\u001b[0m\u001b[1;32m    174\u001b[0m \u001b[0;34m\u001b[0m\u001b[0m\n\u001b[1;32m    175\u001b[0m             \u001b[0;31m# Get coefs\u001b[0m\u001b[0;34m\u001b[0m\u001b[0;34m\u001b[0m\u001b[0m\n",
      "\u001b[0;32m/Users/admin/anaconda2/lib/python2.7/site-packages/sklearn/linear_model/logistic.pyc\u001b[0m in \u001b[0;36mfit\u001b[0;34m(self, X, y, sample_weight)\u001b[0m\n\u001b[1;32m   1231\u001b[0m                 \u001b[0mself\u001b[0m\u001b[0;34m.\u001b[0m\u001b[0mclass_weight\u001b[0m\u001b[0;34m,\u001b[0m \u001b[0mself\u001b[0m\u001b[0;34m.\u001b[0m\u001b[0mpenalty\u001b[0m\u001b[0;34m,\u001b[0m \u001b[0mself\u001b[0m\u001b[0;34m.\u001b[0m\u001b[0mdual\u001b[0m\u001b[0;34m,\u001b[0m \u001b[0mself\u001b[0m\u001b[0;34m.\u001b[0m\u001b[0mverbose\u001b[0m\u001b[0;34m,\u001b[0m\u001b[0;34m\u001b[0m\u001b[0m\n\u001b[1;32m   1232\u001b[0m                 \u001b[0mself\u001b[0m\u001b[0;34m.\u001b[0m\u001b[0mmax_iter\u001b[0m\u001b[0;34m,\u001b[0m \u001b[0mself\u001b[0m\u001b[0;34m.\u001b[0m\u001b[0mtol\u001b[0m\u001b[0;34m,\u001b[0m \u001b[0mself\u001b[0m\u001b[0;34m.\u001b[0m\u001b[0mrandom_state\u001b[0m\u001b[0;34m,\u001b[0m\u001b[0;34m\u001b[0m\u001b[0m\n\u001b[0;32m-> 1233\u001b[0;31m                 sample_weight=sample_weight)\n\u001b[0m\u001b[1;32m   1234\u001b[0m             \u001b[0mself\u001b[0m\u001b[0;34m.\u001b[0m\u001b[0mn_iter_\u001b[0m \u001b[0;34m=\u001b[0m \u001b[0mnp\u001b[0m\u001b[0;34m.\u001b[0m\u001b[0marray\u001b[0m\u001b[0;34m(\u001b[0m\u001b[0;34m[\u001b[0m\u001b[0mn_iter_\u001b[0m\u001b[0;34m]\u001b[0m\u001b[0;34m)\u001b[0m\u001b[0;34m\u001b[0m\u001b[0m\n\u001b[1;32m   1235\u001b[0m             \u001b[0;32mreturn\u001b[0m \u001b[0mself\u001b[0m\u001b[0;34m\u001b[0m\u001b[0m\n",
      "\u001b[0;32m/Users/admin/anaconda2/lib/python2.7/site-packages/sklearn/svm/base.pyc\u001b[0m in \u001b[0;36m_fit_liblinear\u001b[0;34m(X, y, C, fit_intercept, intercept_scaling, class_weight, penalty, dual, verbose, max_iter, tol, random_state, multi_class, loss, epsilon, sample_weight)\u001b[0m\n\u001b[1;32m    888\u001b[0m         \u001b[0mX\u001b[0m\u001b[0;34m,\u001b[0m \u001b[0my_ind\u001b[0m\u001b[0;34m,\u001b[0m \u001b[0msp\u001b[0m\u001b[0;34m.\u001b[0m\u001b[0misspmatrix\u001b[0m\u001b[0;34m(\u001b[0m\u001b[0mX\u001b[0m\u001b[0;34m)\u001b[0m\u001b[0;34m,\u001b[0m \u001b[0msolver_type\u001b[0m\u001b[0;34m,\u001b[0m \u001b[0mtol\u001b[0m\u001b[0;34m,\u001b[0m \u001b[0mbias\u001b[0m\u001b[0;34m,\u001b[0m \u001b[0mC\u001b[0m\u001b[0;34m,\u001b[0m\u001b[0;34m\u001b[0m\u001b[0m\n\u001b[1;32m    889\u001b[0m         \u001b[0mclass_weight_\u001b[0m\u001b[0;34m,\u001b[0m \u001b[0mmax_iter\u001b[0m\u001b[0;34m,\u001b[0m \u001b[0mrnd\u001b[0m\u001b[0;34m.\u001b[0m\u001b[0mrandint\u001b[0m\u001b[0;34m(\u001b[0m\u001b[0mnp\u001b[0m\u001b[0;34m.\u001b[0m\u001b[0miinfo\u001b[0m\u001b[0;34m(\u001b[0m\u001b[0;34m'i'\u001b[0m\u001b[0;34m)\u001b[0m\u001b[0;34m.\u001b[0m\u001b[0mmax\u001b[0m\u001b[0;34m)\u001b[0m\u001b[0;34m,\u001b[0m\u001b[0;34m\u001b[0m\u001b[0m\n\u001b[0;32m--> 890\u001b[0;31m         epsilon, sample_weight)\n\u001b[0m\u001b[1;32m    891\u001b[0m     \u001b[0;31m# Regarding rnd.randint(..) in the above signature:\u001b[0m\u001b[0;34m\u001b[0m\u001b[0;34m\u001b[0m\u001b[0m\n\u001b[1;32m    892\u001b[0m     \u001b[0;31m# seed for srand in range [0..INT_MAX); due to limitations in Numpy\u001b[0m\u001b[0;34m\u001b[0m\u001b[0;34m\u001b[0m\u001b[0m\n",
      "\u001b[0;31mKeyboardInterrupt\u001b[0m: "
     ]
    }
   ],
   "source": [
    "from sklearn.linear_model import RandomizedLasso\n",
    "from sklearn.feature_selection import RFE\n",
    "#using the Boston housing data. \n",
    "#Data gets scaled automatically by sklearn's implementation\n",
    "data = full_data.head(5000)\n",
    "X = pd.DataFrame(data, columns=list_feature.values())\n",
    "y = data['grade']\n",
    " \n",
    "#use linear regression as the model\n",
    "lr = LogisticRegression()\n",
    "#rank all features, i.e continue the elimination until the last one\n",
    "rfe = RFE(lr, n_features_to_select=1)\n",
    "rfe.fit(X,y)\n",
    "\n",
    "print \"Features sorted by their rank:\"\n",
    "map_ranking = sorted(zip(map(lambda x: round(x, 4), rfe.ranking_), list(X.columns.values)))"
   ]
  },
  {
   "cell_type": "code",
   "execution_count": 75,
   "metadata": {},
   "outputs": [
    {
     "data": {
      "text/plain": [
       "[(1.0, 'acc_now_delinq'),\n",
       " (2.0, 'chargeoff_within_12_mths'),\n",
       " (3.0, 'open_il_12m'),\n",
       " (4.0, 'pub_rec_bankruptcies'),\n",
       " (5.0, 'open_acc_6m'),\n",
       " (6.0, 'tax_liens'),\n",
       " (7.0, 'num_tl_90g_dpd_24m'),\n",
       " (8.0, 'acc_open_past_24mths'),\n",
       " (9.0, 'num_sats'),\n",
       " (10.0, 'open_act_il'),\n",
       " (11.0, 'num_op_rev_tl'),\n",
       " (12.0, 'open_il_24m'),\n",
       " (13.0, 'delinq_2yrs'),\n",
       " (14.0, 'num_rev_tl_bal_gt_0'),\n",
       " (15.0, 'open_rv_24m'),\n",
       " (16.0, 'open_rv_12m'),\n",
       " (17.0, 'num_tl_op_past_12m'),\n",
       " (18.0, 'inq_fi'),\n",
       " (19.0, 'num_actv_rev_tl'),\n",
       " (20.0, 'num_accts_ever_120_pd'),\n",
       " (21.0, 'mort_acc'),\n",
       " (22.0, 'delinq_amnt'),\n",
       " (23.0, 'num_bc_sats'),\n",
       " (24.0, 'num_actv_bc_tl'),\n",
       " (25.0, 'num_bc_tl'),\n",
       " (26.0, 'inq_last_12m'),\n",
       " (27.0, 'mths_since_rcnt_il'),\n",
       " (28.0, 'mo_sin_rcnt_tl'),\n",
       " (29.0, 'mo_sin_rcnt_rev_tl_op'),\n",
       " (30.0, 'total_cu_tl'),\n",
       " (31.0, 'num_il_tl'),\n",
       " (32.0, 'tot_coll_amt'),\n",
       " (33.0, 'num_rev_accts'),\n",
       " (34.0, 'mths_since_recent_inq'),\n",
       " (35.0, 'mths_since_recent_bc'),\n",
       " (36.0, 'dti'),\n",
       " (37.0, 'bc_util'),\n",
       " (38.0, 'il_util'),\n",
       " (39.0, 'all_util'),\n",
       " (40.0, 'mo_sin_old_il_acct'),\n",
       " (41.0, 'mo_sin_old_rev_tl_op'),\n",
       " (42.0, 'installment'),\n",
       " (43.0, 'loan_amnt'),\n",
       " (44.0, 'revol_bal'),\n",
       " (45.0, 'total_rev_hi_lim'),\n",
       " (46.0, 'max_bal_bc'),\n",
       " (47.0, 'total_bc_limit'),\n",
       " (48.0, 'avg_cur_bal'),\n",
       " (49.0, 'tot_cur_bal'),\n",
       " (50.0, 'tot_hi_cred_lim'),\n",
       " (51.0, 'total_bal_ex_mort'),\n",
       " (52.0, 'total_bal_il'),\n",
       " (53.0, 'bc_open_to_buy'),\n",
       " (54.0, 'num_tl_30dpd'),\n",
       " (55.0, 'total_il_high_credit_limit'),\n",
       " (56.0, 'annual_inc'),\n",
       " (57.0, 'num_tl_120dpd_2m')]"
      ]
     },
     "execution_count": 75,
     "metadata": {},
     "output_type": "execute_result"
    }
   ],
   "source": [
    "ranking, feature =  zip(*map_ranking)\n",
    "map_ranking"
   ]
  },
  {
   "cell_type": "code",
   "execution_count": 76,
   "metadata": {},
   "outputs": [
    {
     "data": {
      "text/plain": [
       "['dti',\n",
       " 'bc_util',\n",
       " 'il_util',\n",
       " 'all_util',\n",
       " 'mo_sin_old_il_acct',\n",
       " 'mo_sin_old_rev_tl_op',\n",
       " 'installment',\n",
       " 'loan_amnt',\n",
       " 'revol_bal',\n",
       " 'total_rev_hi_lim',\n",
       " 'max_bal_bc',\n",
       " 'total_bc_limit',\n",
       " 'avg_cur_bal',\n",
       " 'tot_cur_bal',\n",
       " 'tot_hi_cred_lim',\n",
       " 'total_bal_ex_mort',\n",
       " 'total_bal_il',\n",
       " 'bc_open_to_buy',\n",
       " 'num_tl_30dpd',\n",
       " 'total_il_high_credit_limit',\n",
       " 'annual_inc',\n",
       " 'num_tl_120dpd_2m']"
      ]
     },
     "execution_count": 76,
     "metadata": {},
     "output_type": "execute_result"
    }
   ],
   "source": [
    "list_top_feature = []\n",
    "for i in range(0, len(ranking)):\n",
    "    if ranking[i] >= 36:\n",
    "        list_top_feature.append(feature[i])\n",
    "        \n",
    "list_top_feature"
   ]
  },
  {
   "cell_type": "code",
   "execution_count": 77,
   "metadata": {},
   "outputs": [
    {
     "data": {
      "text/plain": [
       "0.4236493936052922"
      ]
     },
     "execution_count": 77,
     "metadata": {},
     "output_type": "execute_result"
    }
   ],
   "source": [
    "calculateAccuracy(list_top_feature, full_data, 'grade')"
   ]
  },
  {
   "cell_type": "code",
   "execution_count": 78,
   "metadata": {},
   "outputs": [
    {
     "data": {
      "text/plain": [
       "0.4720576074972437"
      ]
     },
     "execution_count": 78,
     "metadata": {},
     "output_type": "execute_result"
    }
   ],
   "source": [
    "calculateAccuracyRF(list_top_feature, full_data, 'grade')"
   ]
  },
  {
   "cell_type": "code",
   "execution_count": 94,
   "metadata": {},
   "outputs": [
    {
     "name": "stdout",
     "output_type": "stream",
     "text": [
      "[[23984   486]\n",
      " [ 3486  1068]]\n"
     ]
    },
    {
     "data": {
      "text/plain": [
       "0.8631477398015436"
      ]
     },
     "execution_count": 94,
     "metadata": {},
     "output_type": "execute_result"
    }
   ],
   "source": [
    "calculateAccuracyRF(list_top_feature, full_data, 'grade_A')"
   ]
  },
  {
   "cell_type": "code",
   "execution_count": 95,
   "metadata": {},
   "outputs": [
    {
     "name": "stdout",
     "output_type": "stream",
     "text": [
      "[[20207   134]\n",
      " [ 7595  1088]]\n"
     ]
    },
    {
     "data": {
      "text/plain": [
       "0.7337031422271224"
      ]
     },
     "execution_count": 95,
     "metadata": {},
     "output_type": "execute_result"
    }
   ],
   "source": [
    "calculateAccuracyRF(list_top_feature, full_data, 'grade_B')"
   ]
  },
  {
   "cell_type": "code",
   "execution_count": 97,
   "metadata": {},
   "outputs": [
    {
     "name": "stdout",
     "output_type": "stream",
     "text": [
      "[[18567   415]\n",
      " [ 8387  1655]]\n"
     ]
    },
    {
     "data": {
      "text/plain": [
       "0.6967337375964718"
      ]
     },
     "execution_count": 97,
     "metadata": {},
     "output_type": "execute_result"
    }
   ],
   "source": [
    "calculateAccuracyRF(list_top_feature, full_data, 'grade_C')"
   ]
  },
  {
   "cell_type": "code",
   "execution_count": 98,
   "metadata": {},
   "outputs": [
    {
     "name": "stdout",
     "output_type": "stream",
     "text": [
      "[[25495    22]\n",
      " [ 3366   141]]\n"
     ]
    },
    {
     "data": {
      "text/plain": [
       "0.8832690187431091"
      ]
     },
     "execution_count": 98,
     "metadata": {},
     "output_type": "execute_result"
    }
   ],
   "source": [
    "calculateAccuracyRF(list_top_feature, full_data, 'grade_D')"
   ]
  },
  {
   "cell_type": "code",
   "execution_count": 99,
   "metadata": {},
   "outputs": [
    {
     "name": "stdout",
     "output_type": "stream",
     "text": [
      "[[27472     0]\n",
      " [ 1543     9]]\n"
     ]
    },
    {
     "data": {
      "text/plain": [
       "0.9468371003307607"
      ]
     },
     "execution_count": 99,
     "metadata": {},
     "output_type": "execute_result"
    }
   ],
   "source": [
    "calculateAccuracyRF(list_top_feature, full_data, 'grade_E')"
   ]
  },
  {
   "cell_type": "code",
   "execution_count": 100,
   "metadata": {},
   "outputs": [
    {
     "name": "stdout",
     "output_type": "stream",
     "text": [
      "[[28480     6]\n",
      " [  526    12]]\n"
     ]
    },
    {
     "data": {
      "text/plain": [
       "0.981670341786108"
      ]
     },
     "execution_count": 100,
     "metadata": {},
     "output_type": "execute_result"
    }
   ],
   "source": [
    "calculateAccuracyRF(list_top_feature, full_data, 'grade_F')"
   ]
  },
  {
   "cell_type": "code",
   "execution_count": 101,
   "metadata": {},
   "outputs": [
    {
     "name": "stdout",
     "output_type": "stream",
     "text": [
      "[[28876     0]\n",
      " [  146     2]]\n"
     ]
    },
    {
     "data": {
      "text/plain": [
       "0.9949696802646086"
      ]
     },
     "execution_count": 101,
     "metadata": {},
     "output_type": "execute_result"
    }
   ],
   "source": [
    "calculateAccuracyRF(list_top_feature, full_data, 'grade_G')"
   ]
  },
  {
   "cell_type": "code",
   "execution_count": null,
   "metadata": {},
   "outputs": [],
   "source": []
  }
 ],
 "metadata": {
  "kernelspec": {
   "display_name": "Python 3",
   "language": "python",
   "name": "python3"
  },
  "language_info": {
   "codemirror_mode": {
    "name": "ipython",
    "version": 2
   },
   "file_extension": ".py",
   "mimetype": "text/x-python",
   "name": "python",
   "nbconvert_exporter": "python",
   "pygments_lexer": "ipython2",
   "version": "2.7.15"
  }
 },
 "nbformat": 4,
 "nbformat_minor": 2
}
